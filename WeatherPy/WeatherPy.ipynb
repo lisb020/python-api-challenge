{
 "cells": [
  {
   "cell_type": "markdown",
   "metadata": {},
   "source": [
    "# WeatherPy\n",
    "----\n",
    "\n",
    "#### Note\n",
    "* Instructions have been included for each segment. You do not have to follow them exactly, but they are included to help you think through the steps."
   ]
  },
  {
   "cell_type": "code",
   "execution_count": 1,
   "metadata": {
    "scrolled": true
   },
   "outputs": [],
   "source": [
    "# Dependencies and Setup\n",
    "import matplotlib.pyplot as plt\n",
    "import pandas as pd\n",
    "import numpy as np\n",
    "import requests\n",
    "import time\n",
    "from scipy.stats import linregress\n",
    "from datetime import datetime\n",
    "\n",
    "# Import API key\n",
    "from api_keys import weather_api_key\n",
    "\n",
    "# Incorporated citipy to determine city based on latitude and longitude\n",
    "from citipy import citipy\n",
    "\n",
    "# Output File (CSV)\n",
    "output_data_file = \"output_data/cities.csv\"\n",
    "\n",
    "# Range of latitudes and longitudes\n",
    "lat_range = (-90, 90)\n",
    "lng_range = (-180, 180)"
   ]
  },
  {
   "cell_type": "markdown",
   "metadata": {},
   "source": [
    "## Generate Cities List"
   ]
  },
  {
   "cell_type": "code",
   "execution_count": 2,
   "metadata": {},
   "outputs": [
    {
     "data": {
      "text/plain": [
       "619"
      ]
     },
     "execution_count": 2,
     "metadata": {},
     "output_type": "execute_result"
    }
   ],
   "source": [
    "# List for holding lat_lngs and cities\n",
    "lat_lngs = []\n",
    "cities = []\n",
    "\n",
    "# Create a set of random lat and lng combinations\n",
    "lats = np.random.uniform(lat_range[0], lat_range[1], size=1500)\n",
    "lngs = np.random.uniform(lng_range[0], lng_range[1], size=1500)\n",
    "lat_lngs = zip(lats, lngs)\n",
    "\n",
    "# Identify nearest city for each lat, lng combination\n",
    "for lat_lng in lat_lngs:\n",
    "    city = citipy.nearest_city(lat_lng[0], lat_lng[1]).city_name\n",
    "    \n",
    "    # If the city is unique, then add it to a our cities list\n",
    "    if city not in cities:\n",
    "        cities.append(city)\n",
    "\n",
    "# Print the city count to confirm sufficient count\n",
    "len(cities)"
   ]
  },
  {
   "cell_type": "markdown",
   "metadata": {},
   "source": [
    "### Perform API Calls\n",
    "* Perform a weather check on each city using a series of successive API calls.\n",
    "* Include a print log of each city as it'sbeing processed (with the city number and city name).\n"
   ]
  },
  {
   "cell_type": "code",
   "execution_count": 3,
   "metadata": {
    "scrolled": true
   },
   "outputs": [
    {
     "name": "stdout",
     "output_type": "stream",
     "text": [
      "Processing Record 1 of Set 1 | hilo\n",
      "Processing Record 2 of Set 1 | rikitea\n",
      "Processing Record 3 of Set 1 | myanaung\n",
      "Processing Record 4 of Set 1 | georgetown\n",
      "Processing Record 5 of Set 1 | atuona\n",
      "Processing Record 6 of Set 1 | kodiak\n",
      "Processing Record 7 of Set 1 | carnarvon\n",
      "Processing Record 8 of Set 1 | illoqqortoormiut\n",
      "City not found. Skipping...\n",
      "Processing Record 9 of Set 1 | esperance\n",
      "Processing Record 10 of Set 1 | lhuntshi\n",
      "City not found. Skipping...\n",
      "Processing Record 11 of Set 1 | raudeberg\n",
      "Processing Record 12 of Set 1 | pueblo nuevo\n",
      "Processing Record 13 of Set 1 | chokurdakh\n",
      "Processing Record 14 of Set 1 | mataura\n",
      "Processing Record 15 of Set 1 | palabuhanratu\n",
      "City not found. Skipping...\n",
      "Processing Record 16 of Set 1 | labytnangi\n",
      "Processing Record 17 of Set 1 | tautira\n",
      "Processing Record 18 of Set 1 | augusto correa\n",
      "Processing Record 19 of Set 1 | kashi\n",
      "Processing Record 20 of Set 1 | vaini\n",
      "Processing Record 21 of Set 1 | port alfred\n",
      "Processing Record 22 of Set 1 | taolanaro\n",
      "City not found. Skipping...\n",
      "Processing Record 23 of Set 1 | saint george\n",
      "Processing Record 24 of Set 1 | turbat\n",
      "Processing Record 25 of Set 1 | busselton\n",
      "Processing Record 26 of Set 1 | naze\n",
      "Processing Record 27 of Set 1 | suntar\n",
      "Processing Record 28 of Set 1 | khatanga\n",
      "Processing Record 29 of Set 1 | namibe\n",
      "Processing Record 30 of Set 1 | lushunkou\n",
      "City not found. Skipping...\n",
      "Processing Record 31 of Set 1 | saldanha\n",
      "Processing Record 32 of Set 1 | tabiauea\n",
      "City not found. Skipping...\n",
      "Processing Record 33 of Set 1 | ushuaia\n",
      "Processing Record 34 of Set 1 | bluff\n",
      "Processing Record 35 of Set 1 | hohhot\n",
      "Processing Record 36 of Set 1 | vila velha\n",
      "Processing Record 37 of Set 1 | dikson\n",
      "Processing Record 38 of Set 1 | jalu\n",
      "Processing Record 39 of Set 1 | lavrentiya\n",
      "Processing Record 40 of Set 1 | thompson\n",
      "Processing Record 41 of Set 1 | kruisfontein\n",
      "Processing Record 42 of Set 1 | kapaa\n",
      "Processing Record 43 of Set 1 | aklavik\n",
      "Processing Record 44 of Set 1 | lompoc\n",
      "Processing Record 45 of Set 1 | sigayevo\n",
      "Processing Record 46 of Set 1 | yar-sale\n",
      "Processing Record 47 of Set 1 | saskylakh\n",
      "Processing Record 48 of Set 1 | hamilton\n",
      "Processing Record 49 of Set 1 | albany\n",
      "Processing Record 50 of Set 1 | taoudenni\n",
      "Processing Record 51 of Set 1 | bowen\n",
      "Processing Record 1 of Set 2 | saleaula\n",
      "City not found. Skipping...\n",
      "Processing Record 2 of Set 2 | inirida\n",
      "Processing Record 3 of Set 2 | san patricio\n",
      "Processing Record 4 of Set 2 | pahrump\n",
      "Processing Record 5 of Set 2 | hermanus\n",
      "Processing Record 6 of Set 2 | kirakira\n",
      "Processing Record 7 of Set 2 | bang saphan\n",
      "Processing Record 8 of Set 2 | jamestown\n",
      "Processing Record 9 of Set 2 | qandala\n",
      "Processing Record 10 of Set 2 | tabou\n",
      "Processing Record 11 of Set 2 | tasiilaq\n",
      "Processing Record 12 of Set 2 | hulan ergi\n",
      "Processing Record 13 of Set 2 | semey\n",
      "Processing Record 14 of Set 2 | cape town\n",
      "Processing Record 15 of Set 2 | kutum\n",
      "Processing Record 16 of Set 2 | huarmey\n",
      "Processing Record 17 of Set 2 | puerto ayora\n",
      "Processing Record 18 of Set 2 | vesoul\n",
      "Processing Record 19 of Set 2 | eyl\n",
      "Processing Record 20 of Set 2 | castro\n",
      "Processing Record 21 of Set 2 | east london\n",
      "Processing Record 22 of Set 2 | vanimo\n",
      "Processing Record 23 of Set 2 | iberia\n",
      "Processing Record 24 of Set 2 | formoso do araguaia\n",
      "City not found. Skipping...\n",
      "Processing Record 25 of Set 2 | leningradskiy\n",
      "Processing Record 26 of Set 2 | san ramon\n",
      "Processing Record 27 of Set 2 | grand river south east\n",
      "City not found. Skipping...\n",
      "Processing Record 28 of Set 2 | avarua\n",
      "Processing Record 29 of Set 2 | airai\n",
      "Processing Record 30 of Set 2 | butaritari\n",
      "Processing Record 31 of Set 2 | san cristobal\n",
      "Processing Record 32 of Set 2 | lebu\n",
      "Processing Record 33 of Set 2 | barrow\n",
      "Processing Record 34 of Set 2 | asuncion\n",
      "Processing Record 35 of Set 2 | broome\n",
      "Processing Record 36 of Set 2 | victoria\n",
      "Processing Record 37 of Set 2 | quatre cocos\n",
      "Processing Record 38 of Set 2 | pacific grove\n",
      "Processing Record 39 of Set 2 | sao filipe\n",
      "Processing Record 40 of Set 2 | yulara\n",
      "Processing Record 41 of Set 2 | saint-francois\n",
      "Processing Record 42 of Set 2 | sambava\n",
      "Processing Record 43 of Set 2 | hovd\n",
      "Processing Record 44 of Set 2 | lolua\n",
      "City not found. Skipping...\n",
      "Processing Record 45 of Set 2 | saint-philippe\n",
      "Processing Record 46 of Set 2 | mount gambier\n",
      "Processing Record 47 of Set 2 | tapes\n",
      "Processing Record 48 of Set 2 | belushya guba\n",
      "City not found. Skipping...\n",
      "Processing Record 49 of Set 2 | touros\n",
      "Processing Record 50 of Set 2 | victor harbor\n",
      "Processing Record 51 of Set 2 | colon\n",
      "Processing Record 1 of Set 3 | wabag\n",
      "Processing Record 2 of Set 3 | laguna\n",
      "Processing Record 3 of Set 3 | souillac\n",
      "Processing Record 4 of Set 3 | hofn\n",
      "Processing Record 5 of Set 3 | magadan\n",
      "Processing Record 6 of Set 3 | luderitz\n",
      "Processing Record 7 of Set 3 | hobart\n",
      "Processing Record 8 of Set 3 | yellowknife\n",
      "Processing Record 9 of Set 3 | port hardy\n",
      "Processing Record 10 of Set 3 | zaraza\n",
      "Processing Record 11 of Set 3 | tuktoyaktuk\n",
      "Processing Record 12 of Set 3 | bethel\n",
      "Processing Record 13 of Set 3 | nikolskoye\n",
      "Processing Record 14 of Set 3 | zhuozhou\n",
      "City not found. Skipping...\n",
      "Processing Record 15 of Set 3 | ormara\n",
      "Processing Record 16 of Set 3 | alto paraguai\n",
      "Processing Record 17 of Set 3 | qaanaaq\n",
      "Processing Record 18 of Set 3 | manta\n",
      "Processing Record 19 of Set 3 | jaguaribe\n",
      "Processing Record 20 of Set 3 | bredasdorp\n",
      "Processing Record 21 of Set 3 | takoradi\n",
      "Processing Record 22 of Set 3 | iqaluit\n",
      "Processing Record 23 of Set 3 | yaring\n",
      "Processing Record 24 of Set 3 | yerbogachen\n",
      "Processing Record 25 of Set 3 | lower burrell\n",
      "Processing Record 26 of Set 3 | varadero\n",
      "Processing Record 27 of Set 3 | banting\n",
      "Processing Record 28 of Set 3 | cabo san lucas\n",
      "Processing Record 29 of Set 3 | margate\n",
      "Processing Record 30 of Set 3 | cidreira\n",
      "Processing Record 31 of Set 3 | nizhneyansk\n",
      "City not found. Skipping...\n",
      "Processing Record 32 of Set 3 | matara\n",
      "Processing Record 33 of Set 3 | ancud\n",
      "Processing Record 34 of Set 3 | arrecife\n",
      "Processing Record 35 of Set 3 | tigil\n",
      "Processing Record 36 of Set 3 | suoyarvi\n",
      "Processing Record 37 of Set 3 | sol-iletsk\n",
      "Processing Record 38 of Set 3 | nyrob\n",
      "Processing Record 39 of Set 3 | haines junction\n",
      "Processing Record 40 of Set 3 | samusu\n",
      "City not found. Skipping...\n",
      "Processing Record 41 of Set 3 | norman wells\n",
      "Processing Record 42 of Set 3 | rawson\n",
      "Processing Record 43 of Set 3 | tokur\n",
      "Processing Record 44 of Set 3 | punta arenas\n",
      "Processing Record 45 of Set 3 | klaksvik\n",
      "Processing Record 46 of Set 3 | jiwani\n",
      "Processing Record 47 of Set 3 | saurimo\n",
      "Processing Record 48 of Set 3 | harper\n",
      "Processing Record 49 of Set 3 | nhulunbuy\n",
      "Processing Record 50 of Set 3 | mandalgovi\n",
      "Processing Record 51 of Set 3 | catamarca\n",
      "Processing Record 1 of Set 4 | jabiru\n",
      "City not found. Skipping...\n",
      "Processing Record 2 of Set 4 | bargal\n",
      "City not found. Skipping...\n",
      "Processing Record 3 of Set 4 | guerrero negro\n",
      "Processing Record 4 of Set 4 | sao pedro\n",
      "Processing Record 5 of Set 4 | berlevag\n",
      "Processing Record 6 of Set 4 | longyearbyen\n",
      "Processing Record 7 of Set 4 | sentyabrskiy\n",
      "City not found. Skipping...\n",
      "Processing Record 8 of Set 4 | sao joao da barra\n",
      "Processing Record 9 of Set 4 | katherine\n",
      "Processing Record 10 of Set 4 | sabang\n",
      "Processing Record 11 of Set 4 | katobu\n",
      "Processing Record 12 of Set 4 | angoche\n",
      "Processing Record 13 of Set 4 | byron bay\n",
      "Processing Record 14 of Set 4 | tanza\n",
      "Processing Record 15 of Set 4 | ribeira grande\n",
      "Processing Record 16 of Set 4 | morant bay\n",
      "Processing Record 17 of Set 4 | pampas\n",
      "Processing Record 18 of Set 4 | meulaboh\n",
      "Processing Record 19 of Set 4 | tieli\n",
      "Processing Record 20 of Set 4 | lardos\n",
      "Processing Record 21 of Set 4 | plotnikovo\n",
      "Processing Record 22 of Set 4 | sur\n",
      "Processing Record 23 of Set 4 | jabinyanah\n",
      "Processing Record 24 of Set 4 | amderma\n",
      "City not found. Skipping...\n",
      "Processing Record 25 of Set 4 | menongue\n",
      "Processing Record 26 of Set 4 | tsihombe\n",
      "City not found. Skipping...\n",
      "Processing Record 27 of Set 4 | talnakh\n",
      "Processing Record 28 of Set 4 | hienghene\n",
      "Processing Record 29 of Set 4 | ayan\n",
      "Processing Record 30 of Set 4 | nador\n",
      "Processing Record 31 of Set 4 | nivala\n",
      "Processing Record 32 of Set 4 | attawapiskat\n",
      "City not found. Skipping...\n",
      "Processing Record 33 of Set 4 | labuan\n"
     ]
    },
    {
     "name": "stdout",
     "output_type": "stream",
     "text": [
      "Processing Record 34 of Set 4 | wewak\n",
      "Processing Record 35 of Set 4 | havoysund\n",
      "Processing Record 36 of Set 4 | iracoubo\n",
      "Processing Record 37 of Set 4 | gravelbourg\n",
      "Processing Record 38 of Set 4 | gamba\n",
      "Processing Record 39 of Set 4 | coihaique\n",
      "Processing Record 40 of Set 4 | jacmel\n",
      "Processing Record 41 of Set 4 | matay\n",
      "Processing Record 42 of Set 4 | maturin\n",
      "Processing Record 43 of Set 4 | rundu\n",
      "Processing Record 44 of Set 4 | dzhusaly\n",
      "City not found. Skipping...\n",
      "Processing Record 45 of Set 4 | icod de los vinos\n",
      "Processing Record 46 of Set 4 | kingman\n",
      "Processing Record 47 of Set 4 | kuche\n",
      "City not found. Skipping...\n",
      "Processing Record 48 of Set 4 | guhagar\n",
      "Processing Record 49 of Set 4 | wanlaweyn\n",
      "Processing Record 50 of Set 4 | ponta do sol\n",
      "Processing Record 51 of Set 4 | samalaeulu\n",
      "City not found. Skipping...\n",
      "Processing Record 1 of Set 5 | coaticook\n",
      "Processing Record 2 of Set 5 | chuy\n",
      "Processing Record 3 of Set 5 | karmana\n",
      "City not found. Skipping...\n",
      "Processing Record 4 of Set 5 | kavieng\n",
      "Processing Record 5 of Set 5 | yomitan\n",
      "City not found. Skipping...\n",
      "Processing Record 6 of Set 5 | poso\n",
      "Processing Record 7 of Set 5 | tashtyp\n",
      "Processing Record 8 of Set 5 | nanortalik\n",
      "Processing Record 9 of Set 5 | sitka\n",
      "Processing Record 10 of Set 5 | ijaki\n",
      "City not found. Skipping...\n",
      "Processing Record 11 of Set 5 | tiksi\n",
      "Processing Record 12 of Set 5 | hithadhoo\n",
      "Processing Record 13 of Set 5 | devarkonda\n",
      "Processing Record 14 of Set 5 | mount isa\n",
      "Processing Record 15 of Set 5 | katra\n",
      "Processing Record 16 of Set 5 | samarai\n",
      "Processing Record 17 of Set 5 | marawi\n",
      "Processing Record 18 of Set 5 | kahului\n",
      "Processing Record 19 of Set 5 | nome\n",
      "Processing Record 20 of Set 5 | wahran\n",
      "City not found. Skipping...\n",
      "Processing Record 21 of Set 5 | upata\n",
      "Processing Record 22 of Set 5 | sunrise manor\n",
      "Processing Record 23 of Set 5 | arraial do cabo\n",
      "Processing Record 24 of Set 5 | cayenne\n",
      "Processing Record 25 of Set 5 | yazman\n",
      "Processing Record 26 of Set 5 | belyy yar\n",
      "Processing Record 27 of Set 5 | bitung\n",
      "Processing Record 28 of Set 5 | tongsa\n",
      "City not found. Skipping...\n",
      "Processing Record 29 of Set 5 | bengkulu\n",
      "Processing Record 30 of Set 5 | fallon\n",
      "Processing Record 31 of Set 5 | lagoa\n",
      "Processing Record 32 of Set 5 | faanui\n",
      "Processing Record 33 of Set 5 | praia\n",
      "Processing Record 34 of Set 5 | ngukurr\n",
      "City not found. Skipping...\n",
      "Processing Record 35 of Set 5 | jablah\n",
      "Processing Record 36 of Set 5 | ahipara\n",
      "Processing Record 37 of Set 5 | sembakung\n",
      "Processing Record 38 of Set 5 | gien\n",
      "Processing Record 39 of Set 5 | mar del plata\n",
      "Processing Record 40 of Set 5 | soyo\n",
      "Processing Record 41 of Set 5 | warqla\n",
      "City not found. Skipping...\n",
      "Processing Record 42 of Set 5 | keflavik\n",
      "Processing Record 43 of Set 5 | najran\n",
      "Processing Record 44 of Set 5 | ukiah\n",
      "Processing Record 45 of Set 5 | sinkat\n",
      "City not found. Skipping...\n",
      "Processing Record 46 of Set 5 | xiaoweizhai\n",
      "Processing Record 47 of Set 5 | omboue\n",
      "Processing Record 48 of Set 5 | toulepleu\n",
      "City not found. Skipping...\n",
      "Processing Record 49 of Set 5 | hailar\n",
      "Processing Record 50 of Set 5 | mosquera\n",
      "Processing Record 51 of Set 5 | skagastrond\n",
      "City not found. Skipping...\n",
      "Processing Record 1 of Set 6 | port blair\n",
      "Processing Record 2 of Set 6 | anadyr\n",
      "Processing Record 3 of Set 6 | isangel\n",
      "Processing Record 4 of Set 6 | saint anthony\n",
      "Processing Record 5 of Set 6 | geraldton\n",
      "Processing Record 6 of Set 6 | provideniya\n",
      "Processing Record 7 of Set 6 | dafeng\n",
      "Processing Record 8 of Set 6 | kawana waters\n",
      "City not found. Skipping...\n",
      "Processing Record 9 of Set 6 | guatire\n",
      "Processing Record 10 of Set 6 | samoded\n",
      "Processing Record 11 of Set 6 | qaqortoq\n",
      "Processing Record 12 of Set 6 | zhezkazgan\n",
      "Processing Record 13 of Set 6 | new norfolk\n",
      "Processing Record 14 of Set 6 | ilulissat\n",
      "Processing Record 15 of Set 6 | jackson\n",
      "Processing Record 16 of Set 6 | dumas\n",
      "Processing Record 17 of Set 6 | kununurra\n",
      "Processing Record 18 of Set 6 | hlotse\n",
      "Processing Record 19 of Set 6 | alyangula\n",
      "Processing Record 20 of Set 6 | zhengjiatun\n",
      "Processing Record 21 of Set 6 | srednekolymsk\n",
      "Processing Record 22 of Set 6 | katsuura\n",
      "Processing Record 23 of Set 6 | arnold\n",
      "Processing Record 24 of Set 6 | staryy krym\n",
      "Processing Record 25 of Set 6 | cavalcante\n",
      "Processing Record 26 of Set 6 | barentsburg\n",
      "City not found. Skipping...\n",
      "Processing Record 27 of Set 6 | waipawa\n",
      "Processing Record 28 of Set 6 | kathmandu\n",
      "Processing Record 29 of Set 6 | zhanakorgan\n",
      "Processing Record 30 of Set 6 | karratha\n",
      "Processing Record 31 of Set 6 | tazovskiy\n",
      "Processing Record 32 of Set 6 | antalaha\n",
      "Processing Record 33 of Set 6 | elizabeth city\n",
      "Processing Record 34 of Set 6 | dharchula\n",
      "Processing Record 35 of Set 6 | atyrau\n",
      "Processing Record 36 of Set 6 | inderborskiy\n",
      "City not found. Skipping...\n",
      "Processing Record 37 of Set 6 | cardenas\n",
      "Processing Record 38 of Set 6 | tanout\n",
      "Processing Record 39 of Set 6 | yanam\n",
      "Processing Record 40 of Set 6 | turukhansk\n",
      "Processing Record 41 of Set 6 | berezovyy\n",
      "Processing Record 42 of Set 6 | shobara\n",
      "Processing Record 43 of Set 6 | alotau\n",
      "City not found. Skipping...\n",
      "Processing Record 44 of Set 6 | campos\n",
      "Processing Record 45 of Set 6 | upernavik\n",
      "Processing Record 46 of Set 6 | vozrozhdeniye\n",
      "Processing Record 47 of Set 6 | port elizabeth\n",
      "Processing Record 48 of Set 6 | vestmannaeyjar\n",
      "Processing Record 49 of Set 6 | severo-kurilsk\n",
      "Processing Record 50 of Set 6 | mahebourg\n",
      "Processing Record 51 of Set 6 | finsterwalde\n",
      "Processing Record 1 of Set 7 | flin flon\n",
      "Processing Record 2 of Set 7 | sinnamary\n",
      "Processing Record 3 of Set 7 | lakes entrance\n",
      "Processing Record 4 of Set 7 | takab\n",
      "Processing Record 5 of Set 7 | narsaq\n",
      "Processing Record 6 of Set 7 | preobrazheniye\n",
      "Processing Record 7 of Set 7 | alofi\n",
      "Processing Record 8 of Set 7 | te anau\n",
      "Processing Record 9 of Set 7 | one hundred mile house\n",
      "City not found. Skipping...\n",
      "Processing Record 10 of Set 7 | celestun\n",
      "Processing Record 11 of Set 7 | palana\n",
      "Processing Record 12 of Set 7 | padang\n",
      "Processing Record 13 of Set 7 | bambous virieux\n",
      "Processing Record 14 of Set 7 | tadine\n",
      "Processing Record 15 of Set 7 | coquimbo\n",
      "Processing Record 16 of Set 7 | egvekinot\n",
      "Processing Record 17 of Set 7 | nexo\n",
      "Processing Record 18 of Set 7 | shubarkuduk\n",
      "Processing Record 19 of Set 7 | jardim\n",
      "Processing Record 20 of Set 7 | tiarei\n",
      "Processing Record 21 of Set 7 | mangalam\n",
      "Processing Record 22 of Set 7 | vieques\n",
      "Processing Record 23 of Set 7 | vila franca do campo\n",
      "Processing Record 24 of Set 7 | pergamino\n",
      "Processing Record 25 of Set 7 | pilar\n",
      "Processing Record 26 of Set 7 | leh\n",
      "Processing Record 27 of Set 7 | grand-santi\n",
      "Processing Record 28 of Set 7 | marystown\n",
      "Processing Record 29 of Set 7 | yining\n",
      "Processing Record 30 of Set 7 | linxi\n",
      "Processing Record 31 of Set 7 | lodja\n",
      "Processing Record 32 of Set 7 | tumaco\n",
      "Processing Record 33 of Set 7 | korla\n",
      "Processing Record 34 of Set 7 | wanning\n",
      "Processing Record 35 of Set 7 | aquin\n",
      "Processing Record 36 of Set 7 | rocha\n",
      "Processing Record 37 of Set 7 | hervey bay\n",
      "Processing Record 38 of Set 7 | cururupu\n",
      "Processing Record 39 of Set 7 | itarema\n",
      "Processing Record 40 of Set 7 | cockburn town\n",
      "Processing Record 41 of Set 7 | karaul\n",
      "City not found. Skipping...\n",
      "Processing Record 42 of Set 7 | perth\n",
      "Processing Record 43 of Set 7 | van\n",
      "Processing Record 44 of Set 7 | xuddur\n",
      "Processing Record 45 of Set 7 | ibiapina\n",
      "Processing Record 46 of Set 7 | aracati\n",
      "Processing Record 47 of Set 7 | alabaster\n",
      "Processing Record 48 of Set 7 | ilinskiy\n",
      "Processing Record 49 of Set 7 | hirara\n",
      "Processing Record 50 of Set 7 | nizhneshilovka\n",
      "City not found. Skipping...\n",
      "Processing Record 51 of Set 7 | thinadhoo\n",
      "Processing Record 1 of Set 8 | karauli\n",
      "Processing Record 2 of Set 8 | grindavik\n",
      "Processing Record 3 of Set 8 | altamira\n",
      "Processing Record 4 of Set 8 | oum hadjer\n",
      "Processing Record 5 of Set 8 | coahuayana\n",
      "Processing Record 6 of Set 8 | havelock\n",
      "Processing Record 7 of Set 8 | esna\n",
      "Processing Record 8 of Set 8 | beloha\n",
      "Processing Record 9 of Set 8 | camacha\n",
      "Processing Record 10 of Set 8 | puerto escondido\n",
      "Processing Record 11 of Set 8 | mecca\n",
      "Processing Record 12 of Set 8 | grand gaube\n",
      "Processing Record 13 of Set 8 | bodrum\n",
      "Processing Record 14 of Set 8 | la ronge\n",
      "Processing Record 15 of Set 8 | lata\n",
      "Processing Record 16 of Set 8 | awbari\n",
      "Processing Record 17 of Set 8 | biskamzha\n"
     ]
    },
    {
     "name": "stdout",
     "output_type": "stream",
     "text": [
      "Processing Record 18 of Set 8 | namatanai\n",
      "Processing Record 19 of Set 8 | bagan\n",
      "Processing Record 20 of Set 8 | penzance\n",
      "Processing Record 21 of Set 8 | hokitika\n",
      "Processing Record 22 of Set 8 | olafsvik\n",
      "Processing Record 23 of Set 8 | paamiut\n",
      "Processing Record 24 of Set 8 | ploemeur\n",
      "Processing Record 25 of Set 8 | nago\n",
      "Processing Record 26 of Set 8 | coxim\n",
      "Processing Record 27 of Set 8 | kanniyakumari\n",
      "Processing Record 28 of Set 8 | gravdal\n",
      "Processing Record 29 of Set 8 | petropavlovsk-kamchatskiy\n",
      "Processing Record 30 of Set 8 | pimentel\n",
      "Processing Record 31 of Set 8 | sistranda\n",
      "Processing Record 32 of Set 8 | cairns\n",
      "Processing Record 33 of Set 8 | bhainsa\n",
      "Processing Record 34 of Set 8 | banganapalle\n",
      "Processing Record 35 of Set 8 | tilichiki\n",
      "Processing Record 36 of Set 8 | bokoro\n",
      "Processing Record 37 of Set 8 | chapais\n",
      "Processing Record 38 of Set 8 | ixtapa\n",
      "Processing Record 39 of Set 8 | hambantota\n",
      "Processing Record 40 of Set 8 | xinzhou\n",
      "Processing Record 41 of Set 8 | pisco\n",
      "Processing Record 42 of Set 8 | ostersund\n",
      "Processing Record 43 of Set 8 | banikoara\n",
      "Processing Record 44 of Set 8 | gaoual\n",
      "Processing Record 45 of Set 8 | masjed-e soleyman\n",
      "City not found. Skipping...\n",
      "Processing Record 46 of Set 8 | osakarovka\n",
      "Processing Record 47 of Set 8 | ileza\n",
      "Processing Record 48 of Set 8 | moroni\n",
      "Processing Record 49 of Set 8 | igarka\n",
      "Processing Record 50 of Set 8 | general pico\n",
      "Processing Record 51 of Set 8 | pemangkat\n",
      "Processing Record 1 of Set 9 | half moon bay\n",
      "Processing Record 2 of Set 9 | pokhara\n",
      "Processing Record 3 of Set 9 | mahon\n",
      "Processing Record 4 of Set 9 | kendari\n",
      "Processing Record 5 of Set 9 | puerto madryn\n",
      "Processing Record 6 of Set 9 | artyom\n",
      "Processing Record 7 of Set 9 | olinda\n",
      "Processing Record 8 of Set 9 | tignere\n",
      "Processing Record 9 of Set 9 | nanakuli\n",
      "Processing Record 10 of Set 9 | tsabong\n",
      "Processing Record 11 of Set 9 | flinders\n",
      "Processing Record 12 of Set 9 | belaya gora\n",
      "Processing Record 13 of Set 9 | pavilosta\n",
      "Processing Record 14 of Set 9 | cherskiy\n",
      "Processing Record 15 of Set 9 | marsh harbour\n",
      "Processing Record 16 of Set 9 | amalapuram\n",
      "Processing Record 17 of Set 9 | verkhoshizhemye\n",
      "Processing Record 18 of Set 9 | ushumun\n",
      "Processing Record 19 of Set 9 | tateyama\n",
      "Processing Record 20 of Set 9 | pamanukan\n",
      "Processing Record 21 of Set 9 | edson\n",
      "Processing Record 22 of Set 9 | bayan\n",
      "Processing Record 23 of Set 9 | avera\n",
      "Processing Record 24 of Set 9 | bathsheba\n",
      "Processing Record 25 of Set 9 | livani\n",
      "Processing Record 26 of Set 9 | mayo\n",
      "Processing Record 27 of Set 9 | nyurba\n",
      "Processing Record 28 of Set 9 | whitianga\n",
      "Processing Record 29 of Set 9 | george\n",
      "Processing Record 30 of Set 9 | porto-vecchio\n",
      "Processing Record 31 of Set 9 | jonesboro\n",
      "Processing Record 32 of Set 9 | walvis bay\n",
      "Processing Record 33 of Set 9 | rodrigues alves\n",
      "Processing Record 34 of Set 9 | gat\n",
      "Processing Record 35 of Set 9 | kamina\n",
      "Processing Record 36 of Set 9 | vaitupu\n",
      "City not found. Skipping...\n",
      "Processing Record 37 of Set 9 | misratah\n",
      "Processing Record 38 of Set 9 | yamada\n",
      "Processing Record 39 of Set 9 | clyde river\n",
      "Processing Record 40 of Set 9 | beira\n",
      "Processing Record 41 of Set 9 | shingu\n",
      "Processing Record 42 of Set 9 | rosarito\n",
      "Processing Record 43 of Set 9 | blackfoot\n",
      "Processing Record 44 of Set 9 | manitouwadge\n",
      "Processing Record 45 of Set 9 | kalmunai\n",
      "Processing Record 46 of Set 9 | hasaki\n",
      "Processing Record 47 of Set 9 | duz\n",
      "City not found. Skipping...\n",
      "Processing Record 48 of Set 9 | adrar\n",
      "Processing Record 49 of Set 9 | longlac\n",
      "City not found. Skipping...\n",
      "Processing Record 50 of Set 9 | waingapu\n",
      "Processing Record 51 of Set 9 | mangrol\n",
      "Processing Record 1 of Set 10 | corralillo\n",
      "Processing Record 2 of Set 10 | princeton\n",
      "Processing Record 3 of Set 10 | dunayivtsi\n",
      "City not found. Skipping...\n",
      "Processing Record 4 of Set 10 | mali\n",
      "Processing Record 5 of Set 10 | black river\n",
      "Processing Record 6 of Set 10 | tumannyy\n",
      "City not found. Skipping...\n",
      "Processing Record 7 of Set 10 | mys shmidta\n",
      "City not found. Skipping...\n",
      "Processing Record 8 of Set 10 | urengoy\n",
      "Processing Record 9 of Set 10 | fort nelson\n",
      "Processing Record 10 of Set 10 | loa janan\n",
      "Processing Record 11 of Set 10 | kaitangata\n",
      "Processing Record 12 of Set 10 | ouadda\n",
      "Processing Record 13 of Set 10 | rio gallegos\n",
      "Processing Record 14 of Set 10 | krasnyy chikoy\n",
      "Processing Record 15 of Set 10 | xanxere\n",
      "Processing Record 16 of Set 10 | shirpur\n",
      "Processing Record 17 of Set 10 | high level\n",
      "Processing Record 18 of Set 10 | mount abu\n",
      "Processing Record 19 of Set 10 | maltahohe\n",
      "Processing Record 20 of Set 10 | northam\n",
      "Processing Record 21 of Set 10 | zuya\n",
      "Processing Record 22 of Set 10 | alice springs\n",
      "Processing Record 23 of Set 10 | sechura\n",
      "Processing Record 24 of Set 10 | bossier city\n",
      "Processing Record 25 of Set 10 | vanavara\n",
      "Processing Record 26 of Set 10 | pitsunda\n",
      "Processing Record 27 of Set 10 | vostok\n",
      "Processing Record 28 of Set 10 | placer\n",
      "Processing Record 29 of Set 10 | goundam\n",
      "Processing Record 30 of Set 10 | teguldet\n",
      "Processing Record 31 of Set 10 | el llano\n",
      "Processing Record 32 of Set 10 | mooi river\n",
      "City not found. Skipping...\n",
      "Processing Record 33 of Set 10 | koshurnikovo\n",
      "Processing Record 34 of Set 10 | paciran\n",
      "Processing Record 35 of Set 10 | horsham\n",
      "Processing Record 36 of Set 10 | steamboat springs\n",
      "Processing Record 37 of Set 10 | madikeri\n",
      "Processing Record 38 of Set 10 | townsville\n",
      "Processing Record 39 of Set 10 | ibra\n",
      "Processing Record 40 of Set 10 | sicamous\n",
      "Processing Record 41 of Set 10 | bay city\n",
      "Processing Record 42 of Set 10 | nola\n",
      "Processing Record 43 of Set 10 | healesville\n",
      "Processing Record 44 of Set 10 | san quintin\n",
      "Processing Record 45 of Set 10 | komsomolskiy\n",
      "Processing Record 46 of Set 10 | ituiutaba\n",
      "Processing Record 47 of Set 10 | talawdi\n",
      "City not found. Skipping...\n",
      "Processing Record 48 of Set 10 | lorengau\n",
      "Processing Record 49 of Set 10 | tidore\n",
      "City not found. Skipping...\n",
      "Processing Record 50 of Set 10 | ust-tsilma\n",
      "Processing Record 51 of Set 10 | codrington\n",
      "Processing Record 1 of Set 11 | salalah\n",
      "Processing Record 2 of Set 11 | piacabucu\n",
      "Processing Record 3 of Set 11 | santiago del estero\n",
      "Processing Record 4 of Set 11 | kiomboi\n",
      "Processing Record 5 of Set 11 | brae\n",
      "Processing Record 6 of Set 11 | charagua\n",
      "Processing Record 7 of Set 11 | madimba\n",
      "Processing Record 8 of Set 11 | shenjiamen\n",
      "Processing Record 9 of Set 11 | uruguaiana\n",
      "Processing Record 10 of Set 11 | adelaide\n",
      "Processing Record 11 of Set 11 | boksitogorsk\n",
      "Processing Record 12 of Set 11 | tapaua\n",
      "City not found. Skipping...\n",
      "Processing Record 13 of Set 11 | kloulklubed\n",
      "Processing Record 14 of Set 11 | itapirapua\n",
      "Processing Record 15 of Set 11 | wattegama\n",
      "Processing Record 16 of Set 11 | skjervoy\n",
      "Processing Record 17 of Set 11 | hun\n",
      "Processing Record 18 of Set 11 | hobyo\n",
      "Processing Record 19 of Set 11 | esso\n",
      "Processing Record 20 of Set 11 | palembang\n",
      "Processing Record 21 of Set 11 | fortuna\n",
      "Processing Record 22 of Set 11 | burkhala\n",
      "City not found. Skipping...\n",
      "Processing Record 23 of Set 11 | lufilufi\n",
      "Processing Record 24 of Set 11 | cap malheureux\n",
      "Processing Record 25 of Set 11 | tinjah\n",
      "City not found. Skipping...\n",
      "Processing Record 26 of Set 11 | kovernino\n",
      "Processing Record 27 of Set 11 | berzence\n",
      "Processing Record 28 of Set 11 | candawaga\n",
      "City not found. Skipping...\n",
      "Processing Record 29 of Set 11 | princeville\n",
      "Processing Record 30 of Set 11 | vrises\n",
      "Processing Record 31 of Set 11 | xining\n",
      "Processing Record 32 of Set 11 | sangar\n",
      "Processing Record 33 of Set 11 | plettenberg bay\n",
      "Processing Record 34 of Set 11 | kutoarjo\n",
      "Processing Record 35 of Set 11 | kokopo\n",
      "Processing Record 36 of Set 11 | vrangel\n",
      "Processing Record 37 of Set 11 | bagh\n",
      "Processing Record 38 of Set 11 | voi\n",
      "Processing Record 39 of Set 11 | kavaratti\n",
      "Processing Record 40 of Set 11 | tarakan\n",
      "Processing Record 41 of Set 11 | kimbe\n",
      "Processing Record 42 of Set 11 | oktyabrskoye\n",
      "Processing Record 43 of Set 11 | dakar\n",
      "Processing Record 44 of Set 11 | ayagoz\n",
      "Processing Record 45 of Set 11 | afmadu\n",
      "City not found. Skipping...\n",
      "Processing Record 46 of Set 11 | kamenskoye\n",
      "City not found. Skipping...\n",
      "Processing Record 47 of Set 11 | quang ngai\n",
      "Processing Record 48 of Set 11 | bolungarvik\n",
      "City not found. Skipping...\n",
      "Processing Record 49 of Set 11 | tooele\n",
      "Processing Record 50 of Set 11 | port macquarie\n"
     ]
    },
    {
     "name": "stdout",
     "output_type": "stream",
     "text": [
      "Processing Record 51 of Set 11 | pontianak\n",
      "Processing Record 1 of Set 12 | manokwari\n",
      "Processing Record 2 of Set 12 | santa maria\n",
      "Processing Record 3 of Set 12 | korcula\n",
      "Processing Record 4 of Set 12 | pingliang\n",
      "Processing Record 5 of Set 12 | zhigansk\n",
      "Processing Record 6 of Set 12 | cartagena\n",
      "Processing Record 7 of Set 12 | atocha\n",
      "Processing Record 8 of Set 12 | verkhnyaya inta\n",
      "Processing Record 9 of Set 12 | asyut\n",
      "Processing Record 10 of Set 12 | north bend\n",
      "Processing Record 11 of Set 12 | malakal\n",
      "Processing Record 12 of Set 12 | salekhard\n",
      "Processing Record 13 of Set 12 | salta\n",
      "Processing Record 14 of Set 12 | maracaju\n",
      "Processing Record 15 of Set 12 | dickinson\n",
      "Processing Record 16 of Set 12 | languyan\n",
      "Processing Record 17 of Set 12 | tavda\n",
      "Processing Record 18 of Set 12 | nizwa\n",
      "Processing Record 19 of Set 12 | oia\n",
      "Processing Record 20 of Set 12 | sola\n",
      "Processing Record 21 of Set 12 | vestmanna\n",
      "Processing Record 22 of Set 12 | san andres\n",
      "Processing Record 23 of Set 12 | bandarbeyla\n",
      "Processing Record 24 of Set 12 | oistins\n",
      "Processing Record 25 of Set 12 | pita\n",
      "Processing Record 26 of Set 12 | seshcha\n",
      "Processing Record 27 of Set 12 | torbay\n",
      "Processing Record 28 of Set 12 | altay\n",
      "Processing Record 29 of Set 12 | hornepayne\n",
      "Processing Record 30 of Set 12 | sabha\n",
      "Processing Record 31 of Set 12 | moindou\n",
      "Processing Record 32 of Set 12 | vila\n",
      "Processing Record 33 of Set 12 | pinotepa nacional\n",
      "Processing Record 34 of Set 12 | hengshui\n",
      "Processing Record 35 of Set 12 | kyaikto\n",
      "Processing Record 36 of Set 12 | dingle\n",
      "Processing Record 37 of Set 12 | monte alegre\n",
      "Processing Record 38 of Set 12 | labuhan\n",
      "Processing Record 39 of Set 12 | sainte-rose\n",
      "Processing Record 40 of Set 12 | calgary\n",
      "Processing Record 41 of Set 12 | villarrica\n",
      "Processing Record 42 of Set 12 | jevargi\n",
      "Processing Record 43 of Set 12 | broken hill\n",
      "Processing Record 44 of Set 12 | marana\n",
      "Processing Record 45 of Set 12 | kieta\n",
      "Processing Record 46 of Set 12 | palauig\n",
      "Processing Record 47 of Set 12 | roccastrada\n",
      "Processing Record 48 of Set 12 | lalibela\n",
      "Processing Record 49 of Set 12 | atar\n",
      "Processing Record 50 of Set 12 | ginir\n",
      "Processing Record 51 of Set 12 | kalakamati\n",
      "Processing Record 1 of Set 13 | athabasca\n",
      "Processing Record 2 of Set 13 | agartala\n",
      "Processing Record 3 of Set 13 | utiroa\n",
      "City not found. Skipping...\n",
      "Processing Record 4 of Set 13 | lexington\n",
      "Processing Record 5 of Set 13 | port augusta\n",
      "Processing Record 6 of Set 13 | rio grande\n",
      "Processing Record 7 of Set 13 | demmin\n",
      "------------------------------\n",
      "Data Retrieval Complete\n",
      "------------------------------\n"
     ]
    }
   ],
   "source": [
    "base_url = \"http://api.openweathermap.org/data/2.5/weather?\"\n",
    "#create empty lists to fill\n",
    "City2 = []\n",
    "Lat=[]\n",
    "Lng=[]\n",
    "Max_Temp = []\n",
    "Humidity = []\n",
    "Cloudiness = []\n",
    "Wind_Speed = []\n",
    "Country = []\n",
    "Date = []\n",
    "count = 0\n",
    "Set = 1\n",
    "#Loop through each city\n",
    "for city in cities:    \n",
    "    try:\n",
    "        #Query API\n",
    "        query_url = base_url + \"appid=\" + weather_api_key + \"&q=\" + city + \"&units=imperial\"\n",
    "        weather_response = requests.get(query_url).json()\n",
    "        #Start the count and if it's greater than 50, then start a new set and sleep for 1 sec to allow time for API\n",
    "        if count > 50:\n",
    "            Set += 1\n",
    "            count = 0\n",
    "            time.sleep(1.0)\n",
    "        count += 1\n",
    "        #Print out the beginning and append to lists\n",
    "        print(f\"Processing Record {count} of Set {Set} | {city}\")\n",
    "        City2.append(weather_response['name'])\n",
    "        Lat.append(weather_response['coord']['lat'])\n",
    "        Lng.append(weather_response['coord']['lon'])\n",
    "        Max_Temp.append(weather_response['main']['temp_max'])\n",
    "        Humidity.append(weather_response['main']['humidity'])\n",
    "        Cloudiness.append(weather_response['clouds']['all'])\n",
    "        Wind_Speed.append(weather_response['wind']['speed'])\n",
    "        Country.append(weather_response[\"sys\"]['country'])\n",
    "        Date.append(weather_response['dt'])\n",
    "    #If there is an error finding the city, skip\n",
    "    except KeyError:\n",
    "        print(\"City not found. Skipping...\")\n",
    "print(\"------------------------------\")\n",
    "print(\"Data Retrieval Complete\")\n",
    "print(\"------------------------------\")"
   ]
  },
  {
   "cell_type": "markdown",
   "metadata": {},
   "source": [
    "### Convert Raw Data to DataFrame\n",
    "* Export the city data into a .csv.\n",
    "* Display the DataFrame"
   ]
  },
  {
   "cell_type": "code",
   "execution_count": 4,
   "metadata": {},
   "outputs": [
    {
     "data": {
      "text/html": [
       "<div>\n",
       "<style scoped>\n",
       "    .dataframe tbody tr th:only-of-type {\n",
       "        vertical-align: middle;\n",
       "    }\n",
       "\n",
       "    .dataframe tbody tr th {\n",
       "        vertical-align: top;\n",
       "    }\n",
       "\n",
       "    .dataframe thead th {\n",
       "        text-align: right;\n",
       "    }\n",
       "</style>\n",
       "<table border=\"1\" class=\"dataframe\">\n",
       "  <thead>\n",
       "    <tr style=\"text-align: right;\">\n",
       "      <th></th>\n",
       "      <th>City</th>\n",
       "      <th>Lat</th>\n",
       "      <th>Lng</th>\n",
       "      <th>Max Temp</th>\n",
       "      <th>Humidity</th>\n",
       "      <th>Cloudiness</th>\n",
       "      <th>Wind Speed</th>\n",
       "      <th>Country</th>\n",
       "      <th>Date</th>\n",
       "    </tr>\n",
       "  </thead>\n",
       "  <tbody>\n",
       "    <tr>\n",
       "      <th>0</th>\n",
       "      <td>Hilo</td>\n",
       "      <td>19.73</td>\n",
       "      <td>-155.09</td>\n",
       "      <td>82.40</td>\n",
       "      <td>58</td>\n",
       "      <td>75</td>\n",
       "      <td>9.17</td>\n",
       "      <td>US</td>\n",
       "      <td>1607477493</td>\n",
       "    </tr>\n",
       "    <tr>\n",
       "      <th>1</th>\n",
       "      <td>Rikitea</td>\n",
       "      <td>-23.12</td>\n",
       "      <td>-134.97</td>\n",
       "      <td>77.14</td>\n",
       "      <td>78</td>\n",
       "      <td>2</td>\n",
       "      <td>14.05</td>\n",
       "      <td>PF</td>\n",
       "      <td>1607477666</td>\n",
       "    </tr>\n",
       "    <tr>\n",
       "      <th>2</th>\n",
       "      <td>Myanaung</td>\n",
       "      <td>18.28</td>\n",
       "      <td>95.32</td>\n",
       "      <td>70.92</td>\n",
       "      <td>74</td>\n",
       "      <td>85</td>\n",
       "      <td>7.29</td>\n",
       "      <td>MM</td>\n",
       "      <td>1607477667</td>\n",
       "    </tr>\n",
       "    <tr>\n",
       "      <th>3</th>\n",
       "      <td>George Town</td>\n",
       "      <td>5.41</td>\n",
       "      <td>100.34</td>\n",
       "      <td>82.40</td>\n",
       "      <td>78</td>\n",
       "      <td>20</td>\n",
       "      <td>4.70</td>\n",
       "      <td>MY</td>\n",
       "      <td>1607477592</td>\n",
       "    </tr>\n",
       "    <tr>\n",
       "      <th>4</th>\n",
       "      <td>Atuona</td>\n",
       "      <td>-9.80</td>\n",
       "      <td>-139.03</td>\n",
       "      <td>79.20</td>\n",
       "      <td>73</td>\n",
       "      <td>9</td>\n",
       "      <td>12.82</td>\n",
       "      <td>PF</td>\n",
       "      <td>1607477667</td>\n",
       "    </tr>\n",
       "  </tbody>\n",
       "</table>\n",
       "</div>"
      ],
      "text/plain": [
       "          City    Lat     Lng  Max Temp  Humidity  Cloudiness  Wind Speed  \\\n",
       "0         Hilo  19.73 -155.09     82.40        58          75        9.17   \n",
       "1      Rikitea -23.12 -134.97     77.14        78           2       14.05   \n",
       "2     Myanaung  18.28   95.32     70.92        74          85        7.29   \n",
       "3  George Town   5.41  100.34     82.40        78          20        4.70   \n",
       "4       Atuona  -9.80 -139.03     79.20        73           9       12.82   \n",
       "\n",
       "  Country        Date  \n",
       "0      US  1607477493  \n",
       "1      PF  1607477666  \n",
       "2      MM  1607477667  \n",
       "3      MY  1607477592  \n",
       "4      PF  1607477667  "
      ]
     },
     "execution_count": 4,
     "metadata": {},
     "output_type": "execute_result"
    }
   ],
   "source": [
    "df = pd.DataFrame({\"City\":City2,\n",
    "                        \"Lat\":Lat,\n",
    "                        \"Lng\":Lng,\n",
    "                        \"Max Temp\":Max_Temp,\n",
    "                        \"Humidity\":Humidity,\n",
    "                        \"Cloudiness\":Cloudiness,\n",
    "                        \"Wind Speed\":Wind_Speed,\n",
    "                        \"Country\":Country,\n",
    "                        \"Date\":Date})\n",
    "\n",
    "df.to_csv(output_data_file)\n",
    "df.head()"
   ]
  },
  {
   "cell_type": "code",
   "execution_count": 5,
   "metadata": {},
   "outputs": [
    {
     "data": {
      "text/html": [
       "<div>\n",
       "<style scoped>\n",
       "    .dataframe tbody tr th:only-of-type {\n",
       "        vertical-align: middle;\n",
       "    }\n",
       "\n",
       "    .dataframe tbody tr th {\n",
       "        vertical-align: top;\n",
       "    }\n",
       "\n",
       "    .dataframe thead th {\n",
       "        text-align: right;\n",
       "    }\n",
       "</style>\n",
       "<table border=\"1\" class=\"dataframe\">\n",
       "  <thead>\n",
       "    <tr style=\"text-align: right;\">\n",
       "      <th></th>\n",
       "      <th>Lat</th>\n",
       "      <th>Lng</th>\n",
       "      <th>Max Temp</th>\n",
       "      <th>Humidity</th>\n",
       "      <th>Cloudiness</th>\n",
       "      <th>Wind Speed</th>\n",
       "      <th>Date</th>\n",
       "    </tr>\n",
       "  </thead>\n",
       "  <tbody>\n",
       "    <tr>\n",
       "      <th>count</th>\n",
       "      <td>561.000000</td>\n",
       "      <td>561.000000</td>\n",
       "      <td>561.000000</td>\n",
       "      <td>561.000000</td>\n",
       "      <td>561.000000</td>\n",
       "      <td>561.000000</td>\n",
       "      <td>5.610000e+02</td>\n",
       "    </tr>\n",
       "    <tr>\n",
       "      <th>mean</th>\n",
       "      <td>18.730339</td>\n",
       "      <td>19.586239</td>\n",
       "      <td>53.600107</td>\n",
       "      <td>74.078431</td>\n",
       "      <td>50.320856</td>\n",
       "      <td>7.461604</td>\n",
       "      <td>1.607478e+09</td>\n",
       "    </tr>\n",
       "    <tr>\n",
       "      <th>std</th>\n",
       "      <td>32.649703</td>\n",
       "      <td>91.212898</td>\n",
       "      <td>28.013250</td>\n",
       "      <td>19.309812</td>\n",
       "      <td>40.732013</td>\n",
       "      <td>5.234343</td>\n",
       "      <td>7.622224e+01</td>\n",
       "    </tr>\n",
       "    <tr>\n",
       "      <th>min</th>\n",
       "      <td>-54.800000</td>\n",
       "      <td>-179.170000</td>\n",
       "      <td>-32.820000</td>\n",
       "      <td>9.000000</td>\n",
       "      <td>0.000000</td>\n",
       "      <td>0.200000</td>\n",
       "      <td>1.607477e+09</td>\n",
       "    </tr>\n",
       "    <tr>\n",
       "      <th>25%</th>\n",
       "      <td>-6.880000</td>\n",
       "      <td>-60.570000</td>\n",
       "      <td>35.600000</td>\n",
       "      <td>65.000000</td>\n",
       "      <td>2.000000</td>\n",
       "      <td>3.440000</td>\n",
       "      <td>1.607478e+09</td>\n",
       "    </tr>\n",
       "    <tr>\n",
       "      <th>50%</th>\n",
       "      <td>21.350000</td>\n",
       "      <td>24.660000</td>\n",
       "      <td>62.780000</td>\n",
       "      <td>79.000000</td>\n",
       "      <td>52.000000</td>\n",
       "      <td>6.020000</td>\n",
       "      <td>1.607478e+09</td>\n",
       "    </tr>\n",
       "    <tr>\n",
       "      <th>75%</th>\n",
       "      <td>46.080000</td>\n",
       "      <td>100.350000</td>\n",
       "      <td>75.360000</td>\n",
       "      <td>88.000000</td>\n",
       "      <td>91.000000</td>\n",
       "      <td>10.000000</td>\n",
       "      <td>1.607478e+09</td>\n",
       "    </tr>\n",
       "    <tr>\n",
       "      <th>max</th>\n",
       "      <td>78.220000</td>\n",
       "      <td>178.420000</td>\n",
       "      <td>91.990000</td>\n",
       "      <td>100.000000</td>\n",
       "      <td>100.000000</td>\n",
       "      <td>31.470000</td>\n",
       "      <td>1.607478e+09</td>\n",
       "    </tr>\n",
       "  </tbody>\n",
       "</table>\n",
       "</div>"
      ],
      "text/plain": [
       "              Lat         Lng    Max Temp    Humidity  Cloudiness  Wind Speed  \\\n",
       "count  561.000000  561.000000  561.000000  561.000000  561.000000  561.000000   \n",
       "mean    18.730339   19.586239   53.600107   74.078431   50.320856    7.461604   \n",
       "std     32.649703   91.212898   28.013250   19.309812   40.732013    5.234343   \n",
       "min    -54.800000 -179.170000  -32.820000    9.000000    0.000000    0.200000   \n",
       "25%     -6.880000  -60.570000   35.600000   65.000000    2.000000    3.440000   \n",
       "50%     21.350000   24.660000   62.780000   79.000000   52.000000    6.020000   \n",
       "75%     46.080000  100.350000   75.360000   88.000000   91.000000   10.000000   \n",
       "max     78.220000  178.420000   91.990000  100.000000  100.000000   31.470000   \n",
       "\n",
       "               Date  \n",
       "count  5.610000e+02  \n",
       "mean   1.607478e+09  \n",
       "std    7.622224e+01  \n",
       "min    1.607477e+09  \n",
       "25%    1.607478e+09  \n",
       "50%    1.607478e+09  \n",
       "75%    1.607478e+09  \n",
       "max    1.607478e+09  "
      ]
     },
     "execution_count": 5,
     "metadata": {},
     "output_type": "execute_result"
    }
   ],
   "source": [
    "df.describe()"
   ]
  },
  {
   "cell_type": "markdown",
   "metadata": {},
   "source": [
    "## Inspect the data and remove the cities where the humidity > 100%.\n",
    "----\n",
    "Skip this step if there are no cities that have humidity > 100%. "
   ]
  },
  {
   "cell_type": "code",
   "execution_count": 6,
   "metadata": {},
   "outputs": [
    {
     "data": {
      "text/html": [
       "<div>\n",
       "<style scoped>\n",
       "    .dataframe tbody tr th:only-of-type {\n",
       "        vertical-align: middle;\n",
       "    }\n",
       "\n",
       "    .dataframe tbody tr th {\n",
       "        vertical-align: top;\n",
       "    }\n",
       "\n",
       "    .dataframe thead th {\n",
       "        text-align: right;\n",
       "    }\n",
       "</style>\n",
       "<table border=\"1\" class=\"dataframe\">\n",
       "  <thead>\n",
       "    <tr style=\"text-align: right;\">\n",
       "      <th></th>\n",
       "      <th>City</th>\n",
       "      <th>Lat</th>\n",
       "      <th>Lng</th>\n",
       "      <th>Max Temp</th>\n",
       "      <th>Humidity</th>\n",
       "      <th>Cloudiness</th>\n",
       "      <th>Wind Speed</th>\n",
       "      <th>Country</th>\n",
       "      <th>Date</th>\n",
       "    </tr>\n",
       "  </thead>\n",
       "  <tbody>\n",
       "  </tbody>\n",
       "</table>\n",
       "</div>"
      ],
      "text/plain": [
       "Empty DataFrame\n",
       "Columns: [City, Lat, Lng, Max Temp, Humidity, Cloudiness, Wind Speed, Country, Date]\n",
       "Index: []"
      ]
     },
     "execution_count": 6,
     "metadata": {},
     "output_type": "execute_result"
    }
   ],
   "source": [
    "#Locate all rows with humidity greater than 100\n",
    "Humidity100 = df.loc[df[\"Humidity\"]>100]\n",
    "Humidity100.head()"
   ]
  },
  {
   "cell_type": "code",
   "execution_count": 7,
   "metadata": {},
   "outputs": [
    {
     "name": "stdout",
     "output_type": "stream",
     "text": [
      "Int64Index([], dtype='int64')\n"
     ]
    }
   ],
   "source": [
    "#  Get the indices of cities that have humidity over 100%.\n",
    "Humidity100_index = df.index[df[\"Humidity\"]>100]\n",
    "print(Humidity100_index)"
   ]
  },
  {
   "cell_type": "code",
   "execution_count": 8,
   "metadata": {},
   "outputs": [
    {
     "data": {
      "text/html": [
       "<div>\n",
       "<style scoped>\n",
       "    .dataframe tbody tr th:only-of-type {\n",
       "        vertical-align: middle;\n",
       "    }\n",
       "\n",
       "    .dataframe tbody tr th {\n",
       "        vertical-align: top;\n",
       "    }\n",
       "\n",
       "    .dataframe thead th {\n",
       "        text-align: right;\n",
       "    }\n",
       "</style>\n",
       "<table border=\"1\" class=\"dataframe\">\n",
       "  <thead>\n",
       "    <tr style=\"text-align: right;\">\n",
       "      <th></th>\n",
       "      <th>City</th>\n",
       "      <th>Lat</th>\n",
       "      <th>Lng</th>\n",
       "      <th>Max Temp</th>\n",
       "      <th>Humidity</th>\n",
       "      <th>Cloudiness</th>\n",
       "      <th>Wind Speed</th>\n",
       "      <th>Country</th>\n",
       "      <th>Date</th>\n",
       "    </tr>\n",
       "  </thead>\n",
       "  <tbody>\n",
       "    <tr>\n",
       "      <th>0</th>\n",
       "      <td>Hilo</td>\n",
       "      <td>19.73</td>\n",
       "      <td>-155.09</td>\n",
       "      <td>82.40</td>\n",
       "      <td>58</td>\n",
       "      <td>75</td>\n",
       "      <td>9.17</td>\n",
       "      <td>US</td>\n",
       "      <td>1607477493</td>\n",
       "    </tr>\n",
       "    <tr>\n",
       "      <th>1</th>\n",
       "      <td>Rikitea</td>\n",
       "      <td>-23.12</td>\n",
       "      <td>-134.97</td>\n",
       "      <td>77.14</td>\n",
       "      <td>78</td>\n",
       "      <td>2</td>\n",
       "      <td>14.05</td>\n",
       "      <td>PF</td>\n",
       "      <td>1607477666</td>\n",
       "    </tr>\n",
       "    <tr>\n",
       "      <th>2</th>\n",
       "      <td>Myanaung</td>\n",
       "      <td>18.28</td>\n",
       "      <td>95.32</td>\n",
       "      <td>70.92</td>\n",
       "      <td>74</td>\n",
       "      <td>85</td>\n",
       "      <td>7.29</td>\n",
       "      <td>MM</td>\n",
       "      <td>1607477667</td>\n",
       "    </tr>\n",
       "    <tr>\n",
       "      <th>3</th>\n",
       "      <td>George Town</td>\n",
       "      <td>5.41</td>\n",
       "      <td>100.34</td>\n",
       "      <td>82.40</td>\n",
       "      <td>78</td>\n",
       "      <td>20</td>\n",
       "      <td>4.70</td>\n",
       "      <td>MY</td>\n",
       "      <td>1607477592</td>\n",
       "    </tr>\n",
       "    <tr>\n",
       "      <th>4</th>\n",
       "      <td>Atuona</td>\n",
       "      <td>-9.80</td>\n",
       "      <td>-139.03</td>\n",
       "      <td>79.20</td>\n",
       "      <td>73</td>\n",
       "      <td>9</td>\n",
       "      <td>12.82</td>\n",
       "      <td>PF</td>\n",
       "      <td>1607477667</td>\n",
       "    </tr>\n",
       "  </tbody>\n",
       "</table>\n",
       "</div>"
      ],
      "text/plain": [
       "          City    Lat     Lng  Max Temp  Humidity  Cloudiness  Wind Speed  \\\n",
       "0         Hilo  19.73 -155.09     82.40        58          75        9.17   \n",
       "1      Rikitea -23.12 -134.97     77.14        78           2       14.05   \n",
       "2     Myanaung  18.28   95.32     70.92        74          85        7.29   \n",
       "3  George Town   5.41  100.34     82.40        78          20        4.70   \n",
       "4       Atuona  -9.80 -139.03     79.20        73           9       12.82   \n",
       "\n",
       "  Country        Date  \n",
       "0      US  1607477493  \n",
       "1      PF  1607477666  \n",
       "2      MM  1607477667  \n",
       "3      MY  1607477592  \n",
       "4      PF  1607477667  "
      ]
     },
     "execution_count": 8,
     "metadata": {},
     "output_type": "execute_result"
    }
   ],
   "source": [
    "# Make a new DataFrame equal to the city data to drop all humidity outliers by index.\n",
    "# Passing \"inplace=False\" will make a copy of the city_data DataFrame, which we call \"clean_city_data\".\n",
    "clean_df = df.drop(Humidity100_index, inplace = False)\n",
    "clean_df.head()"
   ]
  },
  {
   "cell_type": "code",
   "execution_count": 10,
   "metadata": {},
   "outputs": [
    {
     "data": {
      "text/plain": [
       "'12/09/20'"
      ]
     },
     "execution_count": 10,
     "metadata": {},
     "output_type": "execute_result"
    }
   ],
   "source": [
    "date_pull = clean_df.iloc[0,8]\n",
    "date_pull = datetime.utcfromtimestamp(date_pull).strftime('%m/%d/%y')\n",
    "date_pull\n"
   ]
  },
  {
   "cell_type": "markdown",
   "metadata": {},
   "source": [
    "## Plotting the Data\n",
    "* Use proper labeling of the plots using plot titles (including date of analysis) and axes labels.\n",
    "* Save the plotted figures as .pngs."
   ]
  },
  {
   "cell_type": "markdown",
   "metadata": {},
   "source": [
    "## Latitude vs. Temperature Plot"
   ]
  },
  {
   "cell_type": "code",
   "execution_count": 12,
   "metadata": {
    "scrolled": true
   },
   "outputs": [
    {
     "data": {
      "image/png": "[encoded data removed]",
      "text/plain": [
       "<Figure size 432x288 with 1 Axes>"
      ]
     },
     "metadata": {
      "needs_background": "light"
     },
     "output_type": "display_data"
    }
   ],
   "source": [
    "x_axis = clean_df[\"Lat\"]\n",
    "y_axis = clean_df[\"Max Temp\"]\n",
    "plt.scatter(x_axis, y_axis, marker=\"o\", facecolors=\"blue\", edgecolors=\"black\")\n",
    "plt.grid()\n",
    "plt.xlabel(\"Latitude\")\n",
    "plt.ylabel(\"Max Temperature (F)\")\n",
    "plt.title(\"City Latitude vs. Max Temperature \" + date_pull)\n",
    "plt.savefig(\"Images/LatitudeVtemp.png\")\n",
    "plt.show()"
   ]
  },
  {
   "cell_type": "markdown",
   "metadata": {},
   "source": [
    "## Latitude vs. Humidity Plot"
   ]
  },
  {
   "cell_type": "code",
   "execution_count": 13,
   "metadata": {},
   "outputs": [
    {
     "data": {
      "image/png": "[encoded data removed]",
      "text/plain": [
       "<Figure size 432x288 with 1 Axes>"
      ]
     },
     "metadata": {
      "needs_background": "light"
     },
     "output_type": "display_data"
    }
   ],
   "source": [
    "y_axis = clean_df[\"Humidity\"]\n",
    "plt.scatter(x_axis, y_axis, marker=\"o\", facecolors=\"blue\", edgecolors=\"black\")\n",
    "plt.grid()\n",
    "plt.xlabel(\"Latitude\")\n",
    "plt.ylabel(\"Humidity\")\n",
    "plt.title(\"City Latitude vs. Humidity \" + date_pull)\n",
    "plt.savefig(\"Images/LatitudeVhumidity.png\")\n",
    "plt.show()"
   ]
  },
  {
   "cell_type": "markdown",
   "metadata": {},
   "source": [
    "## Latitude vs. Cloudiness Plot"
   ]
  },
  {
   "cell_type": "code",
   "execution_count": 14,
   "metadata": {},
   "outputs": [
    {
     "data": {
      "image/png": "[encoded data removed]",
      "text/plain": [
       "<Figure size 432x288 with 1 Axes>"
      ]
     },
     "metadata": {
      "needs_background": "light"
     },
     "output_type": "display_data"
    }
   ],
   "source": [
    "y_axis = clean_df[\"Cloudiness\"]\n",
    "plt.scatter(x_axis, y_axis, marker=\"o\", facecolors=\"blue\", edgecolors=\"black\")\n",
    "plt.grid()\n",
    "plt.xlabel(\"Latitude\")\n",
    "plt.ylabel(\"Cloudiness\")\n",
    "plt.title(\"City Latitude vs. Cloudiness \"+ date_pull)\n",
    "plt.savefig(\"Images/LatitudeVcloudiness.png\")\n",
    "plt.show()"
   ]
  },
  {
   "cell_type": "markdown",
   "metadata": {},
   "source": [
    "## Latitude vs. Wind Speed Plot"
   ]
  },
  {
   "cell_type": "code",
   "execution_count": 15,
   "metadata": {},
   "outputs": [
    {
     "data": {
      "image/png": "[encoded data removed]",
      "text/plain": [
       "<Figure size 432x288 with 1 Axes>"
      ]
     },
     "metadata": {
      "needs_background": "light"
     },
     "output_type": "display_data"
    }
   ],
   "source": [
    "y_axis = clean_df[\"Wind Speed\"]\n",
    "plt.scatter(x_axis, y_axis, marker=\"o\", facecolors=\"blue\", edgecolors=\"black\")\n",
    "plt.grid()\n",
    "plt.xlabel(\"Latitude\")\n",
    "plt.ylabel(\"Wind Speed\")\n",
    "plt.title(\"City Latitude vs. Wind Speed \" + date_pull)\n",
    "plt.savefig(\"Images/LatitudeVwindSpeed.png\")\n",
    "plt.show()"
   ]
  },
  {
   "cell_type": "markdown",
   "metadata": {},
   "source": [
    "## Linear Regression"
   ]
  },
  {
   "cell_type": "code",
   "execution_count": 17,
   "metadata": {},
   "outputs": [],
   "source": [
    "df_north = clean_df.loc[clean_df[\"Lat\"]>=0]\n",
    "df_south = clean_df.loc[clean_df[\"Lat\"]<0]"
   ]
  },
  {
   "cell_type": "markdown",
   "metadata": {},
   "source": [
    "####  Northern Hemisphere - Max Temp vs. Latitude Linear Regression"
   ]
  },
  {
   "cell_type": "code",
   "execution_count": 18,
   "metadata": {},
   "outputs": [
    {
     "name": "stdout",
     "output_type": "stream",
     "text": [
      "The rsquare-value is: 0.75\n"
     ]
    },
    {
     "data": {
      "image/png": "[encoded data removed]",
      "text/plain": [
       "<Figure size 432x288 with 1 Axes>"
      ]
     },
     "metadata": {
      "needs_background": "light"
     },
     "output_type": "display_data"
    }
   ],
   "source": [
    "x_axis = df_north[\"Lat\"]\n",
    "y_axis = df_north[\"Max Temp\"]\n",
    "(slope, intercept, rvalue, pvalue, stderr) = linregress(x_axis, y_axis)\n",
    "print(f\"The rsquare-value is: {round(rvalue**2,2)}\")\n",
    "regress_values = [x * slope + intercept for x in x_axis]\n",
    "line_eq = \"y = \" + str(round(slope,2)) + \"x + \" + str(round(intercept,2))\n",
    "plt.scatter(x_axis, y_axis)\n",
    "plt.plot(x_axis, regress_values,\"r-\")\n",
    "plt.annotate(line_eq,(5,-20),fontsize=15,color=\"red\")\n",
    "plt.xlabel(\"Latitude\")\n",
    "plt.ylabel(\"Max Temp (F)\")\n",
    "plt.title(\"Northern Hemisphere Max Temps vs. Latitude \" + date_pull)\n",
    "plt.savefig(\"Images/LinReg Northern Hemisphere Max Temps vs. Latitude.png\")\n",
    "plt.show()"
   ]
  },
  {
   "cell_type": "markdown",
   "metadata": {},
   "source": [
    "####  Southern Hemisphere - Max Temp vs. Latitude Linear Regression"
   ]
  },
  {
   "cell_type": "code",
   "execution_count": 19,
   "metadata": {},
   "outputs": [
    {
     "name": "stdout",
     "output_type": "stream",
     "text": [
      "The rsquare-value is: 0.3\n"
     ]
    },
    {
     "data": {
      "image/png": "[encoded data removed]",
      "text/plain": [
       "<Figure size 432x288 with 1 Axes>"
      ]
     },
     "metadata": {
      "needs_background": "light"
     },
     "output_type": "display_data"
    }
   ],
   "source": [
    "x_axis = df_south[\"Lat\"]\n",
    "y_axis = df_south[\"Max Temp\"]\n",
    "(slope, intercept, rvalue, pvalue, stderr) = linregress(x_axis, y_axis)\n",
    "print(f\"The rsquare-value is: {round(rvalue**2,2)}\")\n",
    "regress_values = [x * slope + intercept for x in x_axis]\n",
    "line_eq = \"y = \" + str(round(slope,2)) + \"x + \" + str(round(intercept,2))\n",
    "plt.scatter(x_axis, y_axis)\n",
    "plt.plot(x_axis, regress_values,\"r-\")\n",
    "plt.annotate(line_eq,(-50,90),fontsize=15,color=\"red\")\n",
    "plt.xlabel(\"Latitude\")\n",
    "plt.ylabel(\"Max Temp (F)\")\n",
    "plt.title(\"Southern Hemisphere Max Temps vs. Latitude \" + date_pull)\n",
    "plt.savefig(\"Images/LinReg Southern Hemisphere Max Temps vs. Latitude.png\")\n",
    "plt.show()"
   ]
  },
  {
   "cell_type": "markdown",
   "metadata": {},
   "source": [
    "####  Northern Hemisphere - Humidity (%) vs. Latitude Linear Regression"
   ]
  },
  {
   "cell_type": "code",
   "execution_count": 20,
   "metadata": {},
   "outputs": [
    {
     "name": "stdout",
     "output_type": "stream",
     "text": [
      "The rsquare-value is: 0.09\n"
     ]
    },
    {
     "data": {
      "image/png": "[encoded data removed]",
      "text/plain": [
       "<Figure size 432x288 with 1 Axes>"
      ]
     },
     "metadata": {
      "needs_background": "light"
     },
     "output_type": "display_data"
    }
   ],
   "source": [
    "x_axis = df_north[\"Lat\"]\n",
    "y_axis = df_north[\"Humidity\"]\n",
    "(slope, intercept, rvalue, pvalue, stderr) = linregress(x_axis, y_axis)\n",
    "print(f\"The rsquare-value is: {round(rvalue**2,2)}\")\n",
    "regress_values = [x * slope + intercept for x in x_axis]\n",
    "line_eq = \"y = \" + str(round(slope,2)) + \"x + \" + str(round(intercept,2))\n",
    "plt.scatter(x_axis, y_axis)\n",
    "plt.plot(x_axis, regress_values,\"r-\")\n",
    "plt.annotate(line_eq,(50,40),fontsize=15,color=\"red\")\n",
    "plt.xlabel(\"Latitude\")\n",
    "plt.ylabel(\"Humidity (%)\")\n",
    "plt.title(\"Northern Hemisphere Humidity vs. Latitude \" + date_pull)\n",
    "plt.savefig(\"Images/LinReg Northern Hemisphere Humidity vs. Latitude.png\")\n",
    "plt.show()"
   ]
  },
  {
   "cell_type": "markdown",
   "metadata": {},
   "source": [
    "####  Southern Hemisphere - Humidity (%) vs. Latitude Linear Regression"
   ]
  },
  {
   "cell_type": "code",
   "execution_count": 21,
   "metadata": {},
   "outputs": [
    {
     "name": "stdout",
     "output_type": "stream",
     "text": [
      "The rsquare-value is: 0.05\n"
     ]
    },
    {
     "data": {
      "image/png": "[encoded data removed]",
      "text/plain": [
       "<Figure size 432x288 with 1 Axes>"
      ]
     },
     "metadata": {
      "needs_background": "light"
     },
     "output_type": "display_data"
    }
   ],
   "source": [
    "x_axis = df_south[\"Lat\"]\n",
    "y_axis = df_south[\"Humidity\"]\n",
    "(slope, intercept, rvalue, pvalue, stderr) = linregress(x_axis, y_axis)\n",
    "print(f\"The rsquare-value is: {round(rvalue**2,2)}\")\n",
    "regress_values = [x * slope + intercept for x in x_axis]\n",
    "line_eq = \"y = \" + str(round(slope,2)) + \"x + \" + str(round(intercept,2))\n",
    "plt.scatter(x_axis, y_axis)\n",
    "plt.plot(x_axis, regress_values,\"r-\")\n",
    "plt.annotate(line_eq,(-20,40),fontsize=15,color=\"red\")\n",
    "plt.xlabel(\"Latitude\")\n",
    "plt.ylabel(\"Humidity (%)\")\n",
    "plt.title(\"Southern Hemisphere Humidity vs. Latitude \" + date_pull)\n",
    "plt.savefig(\"Images/LinReg Southern Hemisphere Humidity vs. Latitude.png\")\n",
    "plt.show()"
   ]
  },
  {
   "cell_type": "markdown",
   "metadata": {},
   "source": [
    "####  Northern Hemisphere - Cloudiness (%) vs. Latitude Linear Regression"
   ]
  },
  {
   "cell_type": "code",
   "execution_count": 22,
   "metadata": {},
   "outputs": [
    {
     "name": "stdout",
     "output_type": "stream",
     "text": [
      "The rsquare-value is: 0.03\n"
     ]
    },
    {
     "data": {
      "image/png": "[encoded data removed]",
      "text/plain": [
       "<Figure size 432x288 with 1 Axes>"
      ]
     },
     "metadata": {
      "needs_background": "light"
     },
     "output_type": "display_data"
    }
   ],
   "source": [
    "x_axis = df_north[\"Lat\"]\n",
    "y_axis = df_north[\"Cloudiness\"]\n",
    "(slope, intercept, rvalue, pvalue, stderr) = linregress(x_axis, y_axis)\n",
    "print(f\"The rsquare-value is: {round(rvalue**2,2)}\")\n",
    "regress_values = [x * slope + intercept for x in x_axis]\n",
    "line_eq = \"y = \" + str(round(slope,2)) + \"x + \" + str(round(intercept,2))\n",
    "plt.scatter(x_axis, y_axis)\n",
    "plt.plot(x_axis, regress_values,\"r-\")\n",
    "plt.annotate(line_eq,(50,40),fontsize=15,color=\"red\")\n",
    "plt.xlabel(\"Latitude\")\n",
    "plt.ylabel(\"Cloudiness (%)\")\n",
    "plt.title(\"Northern Hemisphere Cloudiness vs. Latitude \" + date_pull)\n",
    "plt.savefig(\"Images/LinReg Northern Hemisphere Cloudiness vs. Latitude.png\")\n",
    "plt.show()"
   ]
  },
  {
   "cell_type": "markdown",
   "metadata": {},
   "source": [
    "####  Southern Hemisphere - Cloudiness (%) vs. Latitude Linear Regression"
   ]
  },
  {
   "cell_type": "code",
   "execution_count": 23,
   "metadata": {},
   "outputs": [
    {
     "name": "stdout",
     "output_type": "stream",
     "text": [
      "The rsquare-value is: 0.06\n"
     ]
    },
    {
     "data": {
      "image/png": "[encoded data removed]",
      "text/plain": [
       "<Figure size 432x288 with 1 Axes>"
      ]
     },
     "metadata": {
      "needs_background": "light"
     },
     "output_type": "display_data"
    }
   ],
   "source": [
    "x_axis = df_south[\"Lat\"]\n",
    "y_axis = df_south[\"Cloudiness\"]\n",
    "(slope, intercept, rvalue, pvalue, stderr) = linregress(x_axis, y_axis)\n",
    "print(f\"The rsquare-value is: {round(rvalue**2,2)}\")\n",
    "regress_values = [x * slope + intercept for x in x_axis]\n",
    "line_eq = \"y = \" + str(round(slope,2)) + \"x + \" + str(round(intercept,2))\n",
    "plt.scatter(x_axis, y_axis)\n",
    "plt.plot(x_axis, regress_values,\"r-\")\n",
    "plt.annotate(line_eq,(-30,20),fontsize=15,color=\"red\")\n",
    "plt.xlabel(\"Latitude\")\n",
    "plt.ylabel(\"Cloudiness (%)\")\n",
    "plt.title(\"Southern Hemisphere Cloudiness vs. Latitude \" + date_pull)\n",
    "plt.savefig(\"Images/LinReg Southern Hemisphere Cloudiness vs. Latitude.png\")\n",
    "plt.show()"
   ]
  },
  {
   "cell_type": "markdown",
   "metadata": {},
   "source": [
    "####  Northern Hemisphere - Wind Speed (mph) vs. Latitude Linear Regression"
   ]
  },
  {
   "cell_type": "code",
   "execution_count": 24,
   "metadata": {},
   "outputs": [
    {
     "name": "stdout",
     "output_type": "stream",
     "text": [
      "The rsquare-value is: 0.02\n"
     ]
    },
    {
     "data": {
      "image/png": "[encoded data removed]",
      "text/plain": [
       "<Figure size 432x288 with 1 Axes>"
      ]
     },
     "metadata": {
      "needs_background": "light"
     },
     "output_type": "display_data"
    }
   ],
   "source": [
    "x_axis = df_north[\"Lat\"]\n",
    "y_axis = df_north[\"Wind Speed\"]\n",
    "(slope, intercept, rvalue, pvalue, stderr) = linregress(x_axis, y_axis)\n",
    "print(f\"The rsquare-value is: {round(rvalue**2,2)}\")\n",
    "regress_values = [x * slope + intercept for x in x_axis]\n",
    "line_eq = \"y = \" + str(round(slope,2)) + \"x + \" + str(round(intercept,2))\n",
    "plt.scatter(x_axis, y_axis)\n",
    "plt.plot(x_axis, regress_values,\"r-\")\n",
    "plt.annotate(line_eq,(0,30),fontsize=15,color=\"red\")\n",
    "plt.xlabel(\"Latitude\")\n",
    "plt.ylabel(\"Wind Speed (mph)\")\n",
    "plt.title(\"Northern Hemisphere Wind Speed vs. Latitude \" + date_pull) \n",
    "plt.savefig(\"Images/LinReg Northern Hemisphere Wind Speed vs. Latitude.png\")\n",
    "plt.show()"
   ]
  },
  {
   "cell_type": "markdown",
   "metadata": {},
   "source": [
    "####  Southern Hemisphere - Wind Speed (mph) vs. Latitude Linear Regression"
   ]
  },
  {
   "cell_type": "code",
   "execution_count": 25,
   "metadata": {},
   "outputs": [
    {
     "name": "stdout",
     "output_type": "stream",
     "text": [
      "The rsquare-value is: 0.09\n"
     ]
    },
    {
     "data": {
      "image/png": "[encoded data removed]",
      "text/plain": [
       "<Figure size 432x288 with 1 Axes>"
      ]
     },
     "metadata": {
      "needs_background": "light"
     },
     "output_type": "display_data"
    }
   ],
   "source": [
    "x_axis = df_south[\"Lat\"]\n",
    "y_axis = df_south[\"Wind Speed\"]\n",
    "(slope, intercept, rvalue, pvalue, stderr) = linregress(x_axis, y_axis)\n",
    "print(f\"The rsquare-value is: {round(rvalue**2,2)}\")\n",
    "regress_values = [x * slope + intercept for x in x_axis]\n",
    "line_eq = \"y = \" + str(round(slope,2)) + \"x + \" + str(round(intercept,2))\n",
    "plt.scatter(x_axis, y_axis)\n",
    "plt.plot(x_axis, regress_values,\"r-\")\n",
    "plt.annotate(line_eq,(-55,25),fontsize=15,color=\"red\")\n",
    "plt.xlabel(\"Latitude\")\n",
    "plt.ylabel(\"Wind Speed (mph)\")\n",
    "plt.title(\"Southern Hemisphere Wind Speed vs. Latitude \" + date_pull)\n",
    "plt.savefig(\"Images/LinReg Southern Hemisphere Wind Speed vs. Latitude.png\")\n",
    "plt.show()"
   ]
  },
  {
   "cell_type": "code",
   "execution_count": null,
   "metadata": {},
   "outputs": [],
   "source": []
  }
 ],
 "metadata": {
  "anaconda-cloud": {},
  "kernel_info": {
   "name": "python3"
  },
  "kernelspec": {
   "display_name": "pythonEnvir",
   "language": "python",
   "name": "pythonenvir"
  },
  "language_info": {
   "codemirror_mode": {
    "name": "ipython",
    "version": 3
   },
   "file_extension": ".py",
   "mimetype": "text/x-python",
   "name": "python",
   "nbconvert_exporter": "python",
   "pygments_lexer": "ipython3",
   "version": "3.6.10"
  },
  "latex_envs": {
   "LaTeX_envs_menu_present": true,
   "autoclose": false,
   "autocomplete": true,
   "bibliofile": "biblio.bib",
   "cite_by": "apalike",
   "current_citInitial": 1,
   "eqLabelWithNumbers": true,
   "eqNumInitial": 1,
   "hotkeys": {
    "equation": "Ctrl-E",
    "itemize": "Ctrl-I"
   },
   "labels_anchors": false,
   "latex_user_defs": false,
   "report_style_numbering": false,
   "user_envs_cfg": false
  },
  "nteract": {
   "version": "0.12.3"
  }
 },
 "nbformat": 4,
 "nbformat_minor": 2
}
