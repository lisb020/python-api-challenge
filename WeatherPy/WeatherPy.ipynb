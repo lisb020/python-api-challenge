{
 "cells": [
  {
   "cell_type": "markdown",
   "metadata": {},
   "source": [
    "# WeatherPy\n",
    "----\n",
    "\n",
    "#### Note\n",
    "* Instructions have been included for each segment. You do not have to follow them exactly, but they are included to help you think through the steps."
   ]
  },
  {
   "cell_type": "code",
   "execution_count": 1,
   "metadata": {
    "scrolled": true
   },
   "outputs": [],
   "source": [
    "# Dependencies and Setup\n",
    "import matplotlib.pyplot as plt\n",
    "import pandas as pd\n",
    "import numpy as np\n",
    "import requests\n",
    "import time\n",
    "from scipy.stats import linregress\n",
    "\n",
    "# Import API key\n",
    "from api_keys import weather_api_key\n",
    "\n",
    "# Incorporated citipy to determine city based on latitude and longitude\n",
    "from citipy import citipy\n",
    "\n",
    "# Output File (CSV)\n",
    "output_data_file = \"output_data/cities.csv\"\n",
    "\n",
    "# Range of latitudes and longitudes\n",
    "lat_range = (-90, 90)\n",
    "lng_range = (-180, 180)"
   ]
  },
  {
   "cell_type": "markdown",
   "metadata": {},
   "source": [
    "## Generate Cities List"
   ]
  },
  {
   "cell_type": "code",
   "execution_count": 2,
   "metadata": {},
   "outputs": [
    {
     "data": {
      "text/plain": [
       "602"
      ]
     },
     "execution_count": 2,
     "metadata": {},
     "output_type": "execute_result"
    }
   ],
   "source": [
    "# List for holding lat_lngs and cities\n",
    "lat_lngs = []\n",
    "cities = []\n",
    "\n",
    "# Create a set of random lat and lng combinations\n",
    "lats = np.random.uniform(lat_range[0], lat_range[1], size=1500)\n",
    "lngs = np.random.uniform(lng_range[0], lng_range[1], size=1500)\n",
    "lat_lngs = zip(lats, lngs)\n",
    "\n",
    "# Identify nearest city for each lat, lng combination\n",
    "for lat_lng in lat_lngs:\n",
    "    city = citipy.nearest_city(lat_lng[0], lat_lng[1]).city_name\n",
    "    \n",
    "    # If the city is unique, then add it to a our cities list\n",
    "    if city not in cities:\n",
    "        cities.append(city)\n",
    "\n",
    "# Print the city count to confirm sufficient count\n",
    "len(cities)"
   ]
  },
  {
   "cell_type": "markdown",
   "metadata": {},
   "source": [
    "### Perform API Calls\n",
    "* Perform a weather check on each city using a series of successive API calls.\n",
    "* Include a print log of each city as it'sbeing processed (with the city number and city name).\n"
   ]
  },
  {
   "cell_type": "code",
   "execution_count": 10,
   "metadata": {
    "scrolled": true
   },
   "outputs": [
    {
     "name": "stdout",
     "output_type": "stream",
     "text": [
      "Processing Record 1 of Set 1 | xinzhi\n",
      "Processing Record 2 of Set 1 | bengkulu\n",
      "Processing Record 3 of Set 1 | taolanaro\n",
      "City not found. Skipping...\n",
      "Processing Record 4 of Set 1 | punta arenas\n",
      "Processing Record 5 of Set 1 | siocon\n",
      "Processing Record 6 of Set 1 | nome\n",
      "Processing Record 7 of Set 1 | hervey bay\n",
      "Processing Record 8 of Set 1 | port alfred\n",
      "Processing Record 9 of Set 1 | busselton\n",
      "Processing Record 10 of Set 1 | sao joao da barra\n",
      "Processing Record 11 of Set 1 | rikitea\n",
      "Processing Record 12 of Set 1 | bluff\n",
      "Processing Record 13 of Set 1 | vanimo\n",
      "Processing Record 14 of Set 1 | zhigansk\n",
      "Processing Record 15 of Set 1 | zwedru\n",
      "Processing Record 16 of Set 1 | lagoa\n",
      "Processing Record 17 of Set 1 | newport\n",
      "Processing Record 18 of Set 1 | padang\n",
      "Processing Record 19 of Set 1 | barrow\n",
      "Processing Record 20 of Set 1 | albany\n",
      "Processing Record 21 of Set 1 | flinders\n",
      "Processing Record 22 of Set 1 | ust-kamchatsk\n",
      "City not found. Skipping...\n",
      "Processing Record 23 of Set 1 | palabuhanratu\n",
      "City not found. Skipping...\n",
      "Processing Record 24 of Set 1 | tunduru\n",
      "City not found. Skipping...\n",
      "Processing Record 25 of Set 1 | ushuaia\n",
      "Processing Record 26 of Set 1 | altay\n",
      "Processing Record 27 of Set 1 | westport\n",
      "Processing Record 28 of Set 1 | katsuura\n",
      "Processing Record 29 of Set 1 | kon tum\n",
      "Processing Record 30 of Set 1 | manggar\n",
      "Processing Record 31 of Set 1 | hermanus\n",
      "Processing Record 32 of Set 1 | hasaki\n",
      "Processing Record 33 of Set 1 | ribeira grande\n",
      "Processing Record 34 of Set 1 | mar del plata\n",
      "Processing Record 35 of Set 1 | geraldton\n",
      "Processing Record 36 of Set 1 | vaitupu\n",
      "City not found. Skipping...\n",
      "Processing Record 37 of Set 1 | vitim\n",
      "Processing Record 38 of Set 1 | hilo\n",
      "Processing Record 39 of Set 1 | adelaide\n",
      "Processing Record 40 of Set 1 | mount gambier\n",
      "Processing Record 41 of Set 1 | morondava\n",
      "Processing Record 42 of Set 1 | tiznit\n",
      "Processing Record 43 of Set 1 | avarua\n",
      "Processing Record 44 of Set 1 | urusha\n",
      "Processing Record 45 of Set 1 | tuktoyaktuk\n",
      "Processing Record 46 of Set 1 | new norfolk\n",
      "Processing Record 47 of Set 1 | belushya guba\n",
      "City not found. Skipping...\n",
      "Processing Record 48 of Set 1 | mataura\n",
      "Processing Record 49 of Set 1 | galle\n",
      "Processing Record 50 of Set 1 | gympie\n",
      "Processing Record 51 of Set 1 | san carlos\n",
      "Processing Record 1 of Set 2 | kodiak\n",
      "Processing Record 2 of Set 2 | cayenne\n",
      "Processing Record 3 of Set 2 | bethel\n",
      "Processing Record 4 of Set 2 | sakakah\n",
      "Processing Record 5 of Set 2 | shubarshi\n",
      "Processing Record 6 of Set 2 | longyearbyen\n",
      "Processing Record 7 of Set 2 | nam tha\n",
      "City not found. Skipping...\n",
      "Processing Record 8 of Set 2 | nemuro\n",
      "Processing Record 9 of Set 2 | castro\n",
      "Processing Record 10 of Set 2 | vardo\n",
      "Processing Record 11 of Set 2 | college\n",
      "Processing Record 12 of Set 2 | chuy\n",
      "Processing Record 13 of Set 2 | hithadhoo\n",
      "Processing Record 14 of Set 2 | iturama\n",
      "Processing Record 15 of Set 2 | holt\n",
      "Processing Record 16 of Set 2 | barcelos\n",
      "Processing Record 17 of Set 2 | liverpool\n",
      "Processing Record 18 of Set 2 | zhangye\n",
      "Processing Record 19 of Set 2 | baiyin\n",
      "Processing Record 20 of Set 2 | airai\n",
      "Processing Record 21 of Set 2 | san cristobal\n",
      "Processing Record 22 of Set 2 | raga\n",
      "Processing Record 23 of Set 2 | cidreira\n",
      "Processing Record 24 of Set 2 | raudeberg\n",
      "Processing Record 25 of Set 2 | yumen\n",
      "Processing Record 26 of Set 2 | faanui\n",
      "Processing Record 27 of Set 2 | evensk\n",
      "Processing Record 28 of Set 2 | trairi\n",
      "Processing Record 29 of Set 2 | ambilobe\n",
      "Processing Record 30 of Set 2 | pevek\n",
      "Processing Record 31 of Set 2 | inhambane\n",
      "Processing Record 32 of Set 2 | thompson\n",
      "Processing Record 33 of Set 2 | alice springs\n",
      "Processing Record 34 of Set 2 | acuna\n",
      "City not found. Skipping...\n",
      "Processing Record 35 of Set 2 | byron bay\n",
      "Processing Record 36 of Set 2 | port keats\n",
      "Processing Record 37 of Set 2 | guaraniacu\n",
      "Processing Record 38 of Set 2 | grand centre\n",
      "City not found. Skipping...\n",
      "Processing Record 39 of Set 2 | kazalinsk\n",
      "City not found. Skipping...\n",
      "Processing Record 40 of Set 2 | salalah\n",
      "Processing Record 41 of Set 2 | vaini\n",
      "Processing Record 42 of Set 2 | dingle\n",
      "Processing Record 43 of Set 2 | hobyo\n",
      "Processing Record 44 of Set 2 | tambopata\n",
      "Processing Record 45 of Set 2 | puerto ayora\n",
      "Processing Record 46 of Set 2 | east london\n",
      "Processing Record 47 of Set 2 | lebu\n",
      "Processing Record 48 of Set 2 | warrington\n",
      "Processing Record 49 of Set 2 | kapaa\n",
      "Processing Record 50 of Set 2 | pacific grove\n",
      "Processing Record 51 of Set 2 | bredasdorp\n",
      "Processing Record 1 of Set 3 | tabiauea\n",
      "City not found. Skipping...\n",
      "Processing Record 2 of Set 3 | maradi\n",
      "Processing Record 3 of Set 3 | tateyama\n",
      "Processing Record 4 of Set 3 | poum\n",
      "Processing Record 5 of Set 3 | dogondoutchi\n",
      "Processing Record 6 of Set 3 | port macquarie\n",
      "Processing Record 7 of Set 3 | mitsamiouli\n",
      "Processing Record 8 of Set 3 | buala\n",
      "Processing Record 9 of Set 3 | mys shmidta\n",
      "City not found. Skipping...\n",
      "Processing Record 10 of Set 3 | honningsvag\n",
      "Processing Record 11 of Set 3 | jamestown\n",
      "Processing Record 12 of Set 3 | tiksi\n",
      "Processing Record 13 of Set 3 | tunceli\n",
      "Processing Record 14 of Set 3 | rawson\n",
      "Processing Record 15 of Set 3 | ndouci\n",
      "City not found. Skipping...\n",
      "Processing Record 16 of Set 3 | talnakh\n",
      "Processing Record 17 of Set 3 | atuona\n",
      "Processing Record 18 of Set 3 | srednekolymsk\n",
      "Processing Record 19 of Set 3 | tukrah\n",
      "Processing Record 20 of Set 3 | phan thiet\n",
      "Processing Record 21 of Set 3 | san jose\n",
      "Processing Record 22 of Set 3 | bambous virieux\n",
      "Processing Record 23 of Set 3 | khartoum\n",
      "Processing Record 24 of Set 3 | sitka\n",
      "Processing Record 25 of Set 3 | tuatapere\n",
      "Processing Record 26 of Set 3 | doraha\n",
      "Processing Record 27 of Set 3 | ilulissat\n",
      "Processing Record 28 of Set 3 | hobart\n",
      "Processing Record 29 of Set 3 | villazon\n",
      "Processing Record 30 of Set 3 | akyab\n",
      "Processing Record 31 of Set 3 | moron\n",
      "Processing Record 32 of Set 3 | attawapiskat\n",
      "City not found. Skipping...\n",
      "Processing Record 33 of Set 3 | kachug\n",
      "Processing Record 34 of Set 3 | andros town\n",
      "Processing Record 35 of Set 3 | aldan\n",
      "Processing Record 36 of Set 3 | deputatskiy\n",
      "Processing Record 37 of Set 3 | aflu\n",
      "City not found. Skipping...\n",
      "Processing Record 38 of Set 3 | illoqqortoormiut\n",
      "City not found. Skipping...\n",
      "Processing Record 39 of Set 3 | broome\n",
      "Processing Record 40 of Set 3 | port elizabeth\n",
      "Processing Record 41 of Set 3 | chapais\n",
      "Processing Record 42 of Set 3 | port augusta\n",
      "Processing Record 43 of Set 3 | kpagouda\n",
      "City not found. Skipping...\n",
      "Processing Record 44 of Set 3 | cabo san lucas\n",
      "Processing Record 45 of Set 3 | aloleng\n",
      "Processing Record 46 of Set 3 | puerto castilla\n",
      "Processing Record 47 of Set 3 | qaqortoq\n",
      "Processing Record 48 of Set 3 | mugur-aksy\n",
      "Processing Record 49 of Set 3 | waiuku\n",
      "Processing Record 50 of Set 3 | darhan\n",
      "Processing Record 51 of Set 3 | praia\n",
      "Processing Record 1 of Set 4 | tezu\n",
      "Processing Record 2 of Set 4 | kavieng\n",
      "Processing Record 3 of Set 4 | rzhev\n",
      "Processing Record 4 of Set 4 | marsh harbour\n",
      "Processing Record 5 of Set 4 | miramar\n",
      "Processing Record 6 of Set 4 | lompoc\n",
      "Processing Record 7 of Set 4 | puro\n",
      "Processing Record 8 of Set 4 | dikson\n",
      "Processing Record 9 of Set 4 | lorengau\n",
      "Processing Record 10 of Set 4 | kuching\n",
      "Processing Record 11 of Set 4 | luderitz\n",
      "Processing Record 12 of Set 4 | arraial do cabo\n",
      "Processing Record 13 of Set 4 | luanda\n",
      "Processing Record 14 of Set 4 | muros\n",
      "Processing Record 15 of Set 4 | uncia\n",
      "Processing Record 16 of Set 4 | lodja\n",
      "Processing Record 17 of Set 4 | clyde river\n",
      "Processing Record 18 of Set 4 | bundaberg\n",
      "Processing Record 19 of Set 4 | bodden town\n",
      "Processing Record 20 of Set 4 | amderma\n",
      "City not found. Skipping...\n",
      "Processing Record 21 of Set 4 | upernavik\n",
      "Processing Record 22 of Set 4 | tumannyy\n",
      "City not found. Skipping...\n",
      "Processing Record 23 of Set 4 | gobabis\n",
      "Processing Record 24 of Set 4 | saint-philippe\n",
      "Processing Record 25 of Set 4 | port-gentil\n",
      "Processing Record 26 of Set 4 | yarada\n",
      "Processing Record 27 of Set 4 | saint george\n",
      "Processing Record 28 of Set 4 | dekoa\n",
      "City not found. Skipping...\n",
      "Processing Record 29 of Set 4 | ekibastuz\n",
      "Processing Record 30 of Set 4 | avera\n",
      "Processing Record 31 of Set 4 | kalmunai\n",
      "Processing Record 32 of Set 4 | saint anthony\n",
      "Processing Record 33 of Set 4 | rio grande\n",
      "Processing Record 34 of Set 4 | novomykolayivka\n",
      "Processing Record 35 of Set 4 | sisimiut\n"
     ]
    },
    {
     "name": "stdout",
     "output_type": "stream",
     "text": [
      "Processing Record 36 of Set 4 | butaritari\n",
      "Processing Record 37 of Set 4 | quatre cocos\n",
      "Processing Record 38 of Set 4 | haines junction\n",
      "Processing Record 39 of Set 4 | narsaq\n",
      "Processing Record 40 of Set 4 | saleaula\n",
      "City not found. Skipping...\n",
      "Processing Record 41 of Set 4 | enterprise\n",
      "Processing Record 42 of Set 4 | warqla\n",
      "City not found. Skipping...\n",
      "Processing Record 43 of Set 4 | saldanha\n",
      "Processing Record 44 of Set 4 | biak\n",
      "Processing Record 45 of Set 4 | baykit\n",
      "Processing Record 46 of Set 4 | kununurra\n",
      "Processing Record 47 of Set 4 | kandrian\n",
      "Processing Record 48 of Set 4 | saint-augustin\n",
      "Processing Record 49 of Set 4 | caravelas\n",
      "Processing Record 50 of Set 4 | ler\n",
      "Processing Record 51 of Set 4 | cumaribo\n",
      "City not found. Skipping...\n",
      "Processing Record 1 of Set 5 | cape town\n",
      "Processing Record 2 of Set 5 | yellowknife\n",
      "Processing Record 3 of Set 5 | zhuanghe\n",
      "Processing Record 4 of Set 5 | baihar\n",
      "Processing Record 5 of Set 5 | mugla\n",
      "Processing Record 6 of Set 5 | kilifarevo\n",
      "Processing Record 7 of Set 5 | comodoro rivadavia\n",
      "Processing Record 8 of Set 5 | kashary\n",
      "Processing Record 9 of Set 5 | beidao\n",
      "Processing Record 10 of Set 5 | makakilo city\n",
      "Processing Record 11 of Set 5 | kavaratti\n",
      "Processing Record 12 of Set 5 | santa cruz de la palma\n",
      "Processing Record 13 of Set 5 | hami\n",
      "Processing Record 14 of Set 5 | barentsburg\n",
      "City not found. Skipping...\n",
      "Processing Record 15 of Set 5 | lubango\n",
      "Processing Record 16 of Set 5 | pandoh\n",
      "Processing Record 17 of Set 5 | provideniya\n",
      "Processing Record 18 of Set 5 | kricim\n",
      "City not found. Skipping...\n",
      "Processing Record 19 of Set 5 | alamos\n",
      "Processing Record 20 of Set 5 | presidencia roque saenz pena\n",
      "Processing Record 21 of Set 5 | nikolskoye\n",
      "Processing Record 22 of Set 5 | labuhan\n",
      "Processing Record 23 of Set 5 | chokurdakh\n",
      "Processing Record 24 of Set 5 | saint-pierre\n",
      "Processing Record 25 of Set 5 | kisangani\n",
      "Processing Record 26 of Set 5 | ayame\n",
      "Processing Record 27 of Set 5 | najran\n",
      "Processing Record 28 of Set 5 | ardistan\n",
      "City not found. Skipping...\n",
      "Processing Record 29 of Set 5 | georgetown\n",
      "Processing Record 30 of Set 5 | tasiilaq\n",
      "Processing Record 31 of Set 5 | victoria\n",
      "Processing Record 32 of Set 5 | sao jose da coroa grande\n",
      "Processing Record 33 of Set 5 | iqaluit\n",
      "Processing Record 34 of Set 5 | qaanaaq\n",
      "Processing Record 35 of Set 5 | lasa\n",
      "Processing Record 36 of Set 5 | chokwe\n",
      "Processing Record 37 of Set 5 | yerbogachen\n",
      "Processing Record 38 of Set 5 | beringovskiy\n",
      "Processing Record 39 of Set 5 | gurgan\n",
      "City not found. Skipping...\n",
      "Processing Record 40 of Set 5 | atocha\n",
      "Processing Record 41 of Set 5 | mackay\n",
      "Processing Record 42 of Set 5 | aklavik\n",
      "Processing Record 43 of Set 5 | guicheng\n",
      "City not found. Skipping...\n",
      "Processing Record 44 of Set 5 | jalu\n",
      "Processing Record 45 of Set 5 | pozo colorado\n",
      "Processing Record 46 of Set 5 | fort nelson\n",
      "Processing Record 47 of Set 5 | coquimbo\n",
      "Processing Record 48 of Set 5 | maniitsoq\n",
      "Processing Record 49 of Set 5 | mangrol\n",
      "Processing Record 50 of Set 5 | denpasar\n",
      "Processing Record 51 of Set 5 | rungata\n",
      "City not found. Skipping...\n",
      "Processing Record 1 of Set 6 | malente\n",
      "Processing Record 2 of Set 6 | araouane\n",
      "Processing Record 3 of Set 6 | peniche\n",
      "Processing Record 4 of Set 6 | grand river south east\n",
      "City not found. Skipping...\n",
      "Processing Record 5 of Set 6 | half moon bay\n",
      "Processing Record 6 of Set 6 | severo-kurilsk\n",
      "Processing Record 7 of Set 6 | skjervoy\n",
      "Processing Record 8 of Set 6 | george town\n",
      "Processing Record 9 of Set 6 | sars\n",
      "Processing Record 10 of Set 6 | kholodnyy\n",
      "Processing Record 11 of Set 6 | sentyabrskiy\n",
      "City not found. Skipping...\n",
      "Processing Record 12 of Set 6 | tiarei\n",
      "Processing Record 13 of Set 6 | grindavik\n",
      "Processing Record 14 of Set 6 | tadine\n",
      "Processing Record 15 of Set 6 | jumla\n",
      "Processing Record 16 of Set 6 | darnah\n",
      "Processing Record 17 of Set 6 | erenhot\n",
      "Processing Record 18 of Set 6 | lukoyanov\n",
      "Processing Record 19 of Set 6 | kahului\n",
      "Processing Record 20 of Set 6 | ponta delgada\n",
      "Processing Record 21 of Set 6 | sao filipe\n",
      "Processing Record 22 of Set 6 | healesville\n",
      "Processing Record 23 of Set 6 | iralaya\n",
      "Processing Record 24 of Set 6 | mumford\n",
      "Processing Record 25 of Set 6 | suzhou\n",
      "Processing Record 26 of Set 6 | saint-leu\n",
      "Processing Record 27 of Set 6 | pangnirtung\n",
      "Processing Record 28 of Set 6 | pedernales\n",
      "Processing Record 29 of Set 6 | te anau\n",
      "Processing Record 30 of Set 6 | isangel\n",
      "Processing Record 31 of Set 6 | nhulunbuy\n",
      "Processing Record 32 of Set 6 | mahebourg\n",
      "Processing Record 33 of Set 6 | cherskiy\n",
      "Processing Record 34 of Set 6 | maykain\n",
      "City not found. Skipping...\n",
      "Processing Record 35 of Set 6 | trelew\n",
      "Processing Record 36 of Set 6 | esperance\n",
      "Processing Record 37 of Set 6 | argos\n",
      "Processing Record 38 of Set 6 | tazovskiy\n",
      "Processing Record 39 of Set 6 | kruisfontein\n",
      "Processing Record 40 of Set 6 | rock sound\n",
      "Processing Record 41 of Set 6 | la ronge\n",
      "Processing Record 42 of Set 6 | shchuchye\n",
      "City not found. Skipping...\n",
      "Processing Record 43 of Set 6 | palmer\n",
      "Processing Record 44 of Set 6 | kachiry\n",
      "Processing Record 45 of Set 6 | takoradi\n",
      "Processing Record 46 of Set 6 | husavik\n",
      "Processing Record 47 of Set 6 | ballstad\n",
      "City not found. Skipping...\n",
      "Processing Record 48 of Set 6 | vostok\n",
      "Processing Record 49 of Set 6 | lac du bonnet\n",
      "Processing Record 50 of Set 6 | filingue\n",
      "Processing Record 51 of Set 6 | sandanski\n",
      "Processing Record 1 of Set 7 | chicama\n",
      "Processing Record 2 of Set 7 | bagdarin\n",
      "Processing Record 3 of Set 7 | roald\n",
      "Processing Record 4 of Set 7 | saint-francois\n",
      "Processing Record 5 of Set 7 | san carlos de bariloche\n",
      "Processing Record 6 of Set 7 | belmonte\n",
      "Processing Record 7 of Set 7 | port hedland\n",
      "Processing Record 8 of Set 7 | ostrovnoy\n",
      "Processing Record 9 of Set 7 | samusu\n",
      "City not found. Skipping...\n",
      "Processing Record 10 of Set 7 | khani\n",
      "Processing Record 11 of Set 7 | lakeway\n",
      "Processing Record 12 of Set 7 | bereda\n",
      "Processing Record 13 of Set 7 | vao\n",
      "Processing Record 14 of Set 7 | baruun-urt\n",
      "Processing Record 15 of Set 7 | guerrero negro\n",
      "Processing Record 16 of Set 7 | sorland\n",
      "Processing Record 17 of Set 7 | chernyshevskiy\n",
      "Processing Record 18 of Set 7 | constantine\n",
      "Processing Record 19 of Set 7 | pisco\n",
      "Processing Record 20 of Set 7 | vawkavysk\n",
      "Processing Record 21 of Set 7 | belaya gora\n",
      "Processing Record 22 of Set 7 | hirado\n",
      "Processing Record 23 of Set 7 | khasan\n",
      "Processing Record 24 of Set 7 | bandarbeyla\n",
      "Processing Record 25 of Set 7 | ewo\n",
      "Processing Record 26 of Set 7 | samarai\n",
      "Processing Record 27 of Set 7 | tugalan\n",
      "City not found. Skipping...\n",
      "Processing Record 28 of Set 7 | lolua\n",
      "City not found. Skipping...\n",
      "Processing Record 29 of Set 7 | sydney\n",
      "Processing Record 30 of Set 7 | igrim\n",
      "Processing Record 31 of Set 7 | kaitangata\n",
      "Processing Record 32 of Set 7 | borda da mata\n",
      "Processing Record 33 of Set 7 | tondano\n",
      "Processing Record 34 of Set 7 | gore\n",
      "Processing Record 35 of Set 7 | carnarvon\n",
      "Processing Record 36 of Set 7 | patiya\n",
      "Processing Record 37 of Set 7 | leningradskiy\n",
      "Processing Record 38 of Set 7 | port hardy\n",
      "Processing Record 39 of Set 7 | birao\n",
      "Processing Record 40 of Set 7 | wad rawah\n",
      "Processing Record 41 of Set 7 | talcahuano\n",
      "Processing Record 42 of Set 7 | inuvik\n",
      "Processing Record 43 of Set 7 | baghmara\n",
      "Processing Record 44 of Set 7 | fortuna\n",
      "Processing Record 45 of Set 7 | rio gallegos\n",
      "Processing Record 46 of Set 7 | okhotsk\n",
      "Processing Record 47 of Set 7 | batagay-alyta\n",
      "Processing Record 48 of Set 7 | damara\n",
      "Processing Record 49 of Set 7 | mrirt\n",
      "City not found. Skipping...\n",
      "Processing Record 50 of Set 7 | ndjole\n",
      "Processing Record 51 of Set 7 | gorontalo\n",
      "Processing Record 1 of Set 8 | sorong\n",
      "Processing Record 2 of Set 8 | nanortalik\n",
      "Processing Record 3 of Set 8 | hagerstown\n",
      "Processing Record 4 of Set 8 | souillac\n",
      "Processing Record 5 of Set 8 | sabha\n",
      "Processing Record 6 of Set 8 | monte alto\n",
      "Processing Record 7 of Set 8 | saskylakh\n",
      "Processing Record 8 of Set 8 | mponela\n",
      "Processing Record 9 of Set 8 | tura\n",
      "Processing Record 10 of Set 8 | arrecife\n",
      "Processing Record 11 of Set 8 | takaungu\n",
      "Processing Record 12 of Set 8 | nizwa\n",
      "Processing Record 13 of Set 8 | cap-aux-meules\n",
      "Processing Record 14 of Set 8 | eureka\n",
      "Processing Record 15 of Set 8 | road town\n",
      "Processing Record 16 of Set 8 | torbay\n",
      "Processing Record 17 of Set 8 | veere\n",
      "Processing Record 18 of Set 8 | constitucion\n"
     ]
    },
    {
     "name": "stdout",
     "output_type": "stream",
     "text": [
      "Processing Record 19 of Set 8 | moree\n",
      "Processing Record 20 of Set 8 | hihifo\n",
      "City not found. Skipping...\n",
      "Processing Record 21 of Set 8 | kailua\n",
      "Processing Record 22 of Set 8 | anadyr\n",
      "Processing Record 23 of Set 8 | bokoro\n",
      "Processing Record 24 of Set 8 | alta floresta\n",
      "Processing Record 25 of Set 8 | moen\n",
      "Processing Record 26 of Set 8 | bonavista\n",
      "Processing Record 27 of Set 8 | karratha\n",
      "Processing Record 28 of Set 8 | sarangpur\n",
      "Processing Record 29 of Set 8 | hattiesburg\n",
      "Processing Record 30 of Set 8 | bilma\n",
      "Processing Record 31 of Set 8 | yaan\n",
      "Processing Record 32 of Set 8 | sur\n",
      "Processing Record 33 of Set 8 | realeza\n",
      "Processing Record 34 of Set 8 | marcona\n",
      "City not found. Skipping...\n",
      "Processing Record 35 of Set 8 | muroto\n",
      "Processing Record 36 of Set 8 | dwarka\n",
      "Processing Record 37 of Set 8 | yalta\n",
      "Processing Record 38 of Set 8 | gizo\n",
      "Processing Record 39 of Set 8 | teneguiban\n",
      "City not found. Skipping...\n",
      "Processing Record 40 of Set 8 | bowen\n",
      "Processing Record 41 of Set 8 | arcachon\n",
      "Processing Record 42 of Set 8 | kawana waters\n",
      "City not found. Skipping...\n",
      "Processing Record 43 of Set 8 | tawang\n",
      "Processing Record 44 of Set 8 | luganville\n",
      "Processing Record 45 of Set 8 | codrington\n",
      "Processing Record 46 of Set 8 | vilani\n",
      "Processing Record 47 of Set 8 | ondorhaan\n",
      "City not found. Skipping...\n",
      "Processing Record 48 of Set 8 | khatanga\n",
      "Processing Record 49 of Set 8 | korla\n",
      "Processing Record 50 of Set 8 | mecca\n",
      "Processing Record 51 of Set 8 | alofi\n",
      "Processing Record 1 of Set 9 | kupang\n",
      "Processing Record 2 of Set 9 | kieta\n",
      "Processing Record 3 of Set 9 | ola\n",
      "Processing Record 4 of Set 9 | progreso\n",
      "Processing Record 5 of Set 9 | yirol\n",
      "City not found. Skipping...\n",
      "Processing Record 6 of Set 9 | ust-kuyga\n",
      "Processing Record 7 of Set 9 | lavrentiya\n",
      "Processing Record 8 of Set 9 | evansville\n",
      "Processing Record 9 of Set 9 | camocim\n",
      "Processing Record 10 of Set 9 | dicamay\n",
      "Processing Record 11 of Set 9 | santiago de cao\n",
      "Processing Record 12 of Set 9 | hastings\n",
      "Processing Record 13 of Set 9 | nuuk\n",
      "Processing Record 14 of Set 9 | tenenkou\n",
      "Processing Record 15 of Set 9 | arlit\n",
      "Processing Record 16 of Set 9 | kokorevka\n",
      "Processing Record 17 of Set 9 | pakxan\n",
      "Processing Record 18 of Set 9 | tuensang\n",
      "Processing Record 19 of Set 9 | saint-louis\n",
      "Processing Record 20 of Set 9 | douglas\n",
      "Processing Record 21 of Set 9 | sao jose de piranhas\n",
      "Processing Record 22 of Set 9 | milingimbi\n",
      "City not found. Skipping...\n",
      "Processing Record 23 of Set 9 | krasnyy chikoy\n",
      "Processing Record 24 of Set 9 | dudinka\n",
      "Processing Record 25 of Set 9 | wawa\n",
      "Processing Record 26 of Set 9 | tecuala\n",
      "Processing Record 27 of Set 9 | bontang\n",
      "Processing Record 28 of Set 9 | guanare\n",
      "Processing Record 29 of Set 9 | kloulklubed\n",
      "Processing Record 30 of Set 9 | a\n",
      "City not found. Skipping...\n",
      "Processing Record 31 of Set 9 | guanica\n",
      "Processing Record 32 of Set 9 | izhma\n",
      "Processing Record 33 of Set 9 | asau\n",
      "Processing Record 34 of Set 9 | sligo\n",
      "Processing Record 35 of Set 9 | banmo\n",
      "City not found. Skipping...\n",
      "Processing Record 36 of Set 9 | mosquera\n",
      "Processing Record 37 of Set 9 | teofilo otoni\n",
      "Processing Record 38 of Set 9 | innisfail\n",
      "Processing Record 39 of Set 9 | vila velha\n",
      "Processing Record 40 of Set 9 | wuwei\n",
      "Processing Record 41 of Set 9 | fonte boa\n",
      "Processing Record 42 of Set 9 | ambunti\n",
      "Processing Record 43 of Set 9 | klaksvik\n",
      "Processing Record 44 of Set 9 | lethem\n",
      "Processing Record 45 of Set 9 | sorkjosen\n",
      "Processing Record 46 of Set 9 | tual\n",
      "Processing Record 47 of Set 9 | coihaique\n",
      "Processing Record 48 of Set 9 | bubaque\n",
      "Processing Record 49 of Set 9 | yar-sale\n",
      "Processing Record 50 of Set 9 | hofn\n",
      "Processing Record 51 of Set 9 | xico\n",
      "Processing Record 1 of Set 10 | mergui\n",
      "City not found. Skipping...\n",
      "Processing Record 2 of Set 10 | sayville\n",
      "Processing Record 3 of Set 10 | urubicha\n",
      "Processing Record 4 of Set 10 | hualmay\n",
      "Processing Record 5 of Set 10 | nara\n",
      "Processing Record 6 of Set 10 | honolulu\n",
      "Processing Record 7 of Set 10 | vila do maio\n",
      "Processing Record 8 of Set 10 | bossier city\n",
      "Processing Record 9 of Set 10 | turukhansk\n",
      "Processing Record 10 of Set 10 | sadiqabad\n",
      "Processing Record 11 of Set 10 | nizhneyansk\n",
      "City not found. Skipping...\n",
      "Processing Record 12 of Set 10 | le port\n",
      "Processing Record 13 of Set 10 | lumsden\n",
      "Processing Record 14 of Set 10 | taylorville\n",
      "Processing Record 15 of Set 10 | namibe\n",
      "Processing Record 16 of Set 10 | san patricio\n",
      "Processing Record 17 of Set 10 | san ramon\n",
      "Processing Record 18 of Set 10 | atar\n",
      "Processing Record 19 of Set 10 | nishihara\n",
      "Processing Record 20 of Set 10 | barretos\n",
      "Processing Record 21 of Set 10 | lecce\n",
      "Processing Record 22 of Set 10 | smoky lake\n",
      "Processing Record 23 of Set 10 | richards bay\n",
      "Processing Record 24 of Set 10 | bay roberts\n",
      "Processing Record 25 of Set 10 | redlands\n",
      "Processing Record 26 of Set 10 | la crosse\n",
      "Processing Record 27 of Set 10 | levin\n",
      "Processing Record 28 of Set 10 | reims\n",
      "Processing Record 29 of Set 10 | tsienyane\n",
      "City not found. Skipping...\n",
      "Processing Record 30 of Set 10 | playa vicente\n",
      "Processing Record 31 of Set 10 | cherdyn\n",
      "Processing Record 32 of Set 10 | zouxian\n",
      "City not found. Skipping...\n",
      "Processing Record 33 of Set 10 | svetlyy\n",
      "Processing Record 34 of Set 10 | camopi\n",
      "Processing Record 35 of Set 10 | dori\n",
      "Processing Record 36 of Set 10 | nha trang\n",
      "Processing Record 37 of Set 10 | odienne\n",
      "Processing Record 38 of Set 10 | goundam\n",
      "Processing Record 39 of Set 10 | izumo\n",
      "Processing Record 40 of Set 10 | berlevag\n",
      "Processing Record 41 of Set 10 | mityana\n",
      "Processing Record 42 of Set 10 | baglan\n",
      "Processing Record 43 of Set 10 | kabelvag\n",
      "Processing Record 44 of Set 10 | gimli\n",
      "Processing Record 45 of Set 10 | adrar\n",
      "Processing Record 46 of Set 10 | sumbuya\n",
      "Processing Record 47 of Set 10 | pasighat\n",
      "Processing Record 48 of Set 10 | lengshuitan\n",
      "Processing Record 49 of Set 10 | kirakira\n",
      "Processing Record 50 of Set 10 | jiaojiang\n",
      "Processing Record 51 of Set 10 | beloha\n",
      "Processing Record 1 of Set 11 | bhuj\n",
      "Processing Record 2 of Set 11 | laukaa\n",
      "Processing Record 3 of Set 11 | nautla\n",
      "Processing Record 4 of Set 11 | menongue\n",
      "Processing Record 5 of Set 11 | keetmanshoop\n",
      "Processing Record 6 of Set 11 | olafsvik\n",
      "Processing Record 7 of Set 11 | omboue\n",
      "Processing Record 8 of Set 11 | kiruna\n",
      "Processing Record 9 of Set 11 | itarema\n",
      "Processing Record 10 of Set 11 | moju\n",
      "Processing Record 11 of Set 11 | sitrah\n",
      "Processing Record 12 of Set 11 | tsihombe\n",
      "City not found. Skipping...\n",
      "Processing Record 13 of Set 11 | sivas\n",
      "Processing Record 14 of Set 11 | tuy hoa\n",
      "Processing Record 15 of Set 11 | solnechnyy\n",
      "Processing Record 16 of Set 11 | vestmannaeyjar\n",
      "Processing Record 17 of Set 11 | camacari\n",
      "Processing Record 18 of Set 11 | aksarka\n",
      "Processing Record 19 of Set 11 | mindelo\n",
      "Processing Record 20 of Set 11 | paradwip\n",
      "City not found. Skipping...\n",
      "Processing Record 21 of Set 11 | makinsk\n",
      "Processing Record 22 of Set 11 | mezen\n",
      "Processing Record 23 of Set 11 | kondagaon\n",
      "Processing Record 24 of Set 11 | auki\n",
      "Processing Record 25 of Set 11 | bathsheba\n",
      "Processing Record 26 of Set 11 | mayo\n",
      "Processing Record 27 of Set 11 | impfondo\n",
      "Processing Record 28 of Set 11 | bargal\n",
      "City not found. Skipping...\n",
      "Processing Record 29 of Set 11 | lebanon\n",
      "Processing Record 30 of Set 11 | hurricane\n",
      "Processing Record 31 of Set 11 | los llanos de aridane\n",
      "Processing Record 32 of Set 11 | kodinsk\n",
      "Processing Record 33 of Set 11 | bemidji\n",
      "Processing Record 34 of Set 11 | mantua\n",
      "Processing Record 35 of Set 11 | krasnoselkup\n",
      "Processing Record 36 of Set 11 | jalpan\n",
      "Processing Record 37 of Set 11 | farkhor\n",
      "Processing Record 38 of Set 11 | cottonwood\n",
      "Processing Record 39 of Set 11 | touros\n",
      "Processing Record 40 of Set 11 | meyungs\n",
      "City not found. Skipping...\n",
      "Processing Record 41 of Set 11 | mahadday weyne\n",
      "City not found. Skipping...\n",
      "Processing Record 42 of Set 11 | mazatlan\n",
      "Processing Record 43 of Set 11 | port shepstone\n",
      "Processing Record 44 of Set 11 | lata\n",
      "Processing Record 45 of Set 11 | viransehir\n",
      "Processing Record 46 of Set 11 | kitale\n",
      "Processing Record 47 of Set 11 | waitara\n",
      "Processing Record 48 of Set 11 | chadiza\n",
      "Processing Record 49 of Set 11 | wasilla\n",
      "Processing Record 50 of Set 11 | oistins\n",
      "Processing Record 51 of Set 11 | los zacatones\n",
      "Processing Record 1 of Set 12 | bereslavka\n",
      "Processing Record 2 of Set 12 | norman wells\n"
     ]
    },
    {
     "name": "stdout",
     "output_type": "stream",
     "text": [
      "Processing Record 3 of Set 12 | mauganj\n",
      "Processing Record 4 of Set 12 | portland\n",
      "Processing Record 5 of Set 12 | jaque\n",
      "Processing Record 6 of Set 12 | eloy\n",
      "Processing Record 7 of Set 12 | mikonos\n",
      "City not found. Skipping...\n",
      "Processing Record 8 of Set 12 | porto-vecchio\n",
      "Processing Record 9 of Set 12 | dutse\n",
      "Processing Record 10 of Set 12 | suntar\n",
      "Processing Record 11 of Set 12 | mehamn\n",
      "Processing Record 12 of Set 12 | ahipara\n",
      "Processing Record 13 of Set 12 | ancud\n",
      "Processing Record 14 of Set 12 | birjand\n",
      "Processing Record 15 of Set 12 | reconquista\n",
      "Processing Record 16 of Set 12 | agadir\n",
      "Processing Record 17 of Set 12 | zeya\n",
      "Processing Record 18 of Set 12 | ixtapa\n",
      "Processing Record 19 of Set 12 | mahaicony\n",
      "City not found. Skipping...\n",
      "Processing Record 20 of Set 12 | rafsanjan\n",
      "Processing Record 21 of Set 12 | jieshi\n",
      "Processing Record 22 of Set 12 | conceicao das alagoas\n",
      "Processing Record 23 of Set 12 | udachnyy\n",
      "Processing Record 24 of Set 12 | pyryatyn\n",
      "Processing Record 25 of Set 12 | heinola\n",
      "Processing Record 26 of Set 12 | xining\n",
      "Processing Record 27 of Set 12 | arauca\n",
      "Processing Record 28 of Set 12 | koboldo\n",
      "City not found. Skipping...\n",
      "Processing Record 29 of Set 12 | kilindoni\n",
      "Processing Record 30 of Set 12 | sasni\n",
      "Processing Record 31 of Set 12 | hearst\n",
      "Processing Record 32 of Set 12 | xifeng\n",
      "Processing Record 33 of Set 12 | abbeville\n",
      "Processing Record 34 of Set 12 | muyezerskiy\n",
      "Processing Record 35 of Set 12 | marzuq\n",
      "Processing Record 36 of Set 12 | tokomaru\n",
      "Processing Record 37 of Set 12 | hamilton\n",
      "Processing Record 38 of Set 12 | big rapids\n",
      "Processing Record 39 of Set 12 | viligili\n",
      "City not found. Skipping...\n",
      "Processing Record 40 of Set 12 | kyshtovka\n",
      "Processing Record 41 of Set 12 | valparaiso\n",
      "------------------------------\n",
      "Data Retrieval Complete\n",
      "------------------------------\n"
     ]
    }
   ],
   "source": [
    "base_url = \"http://api.openweathermap.org/data/2.5/weather?\"\n",
    "#create empty lists to fill\n",
    "City2 = []\n",
    "Lat=[]\n",
    "Lng=[]\n",
    "Max_Temp = []\n",
    "Humidity = []\n",
    "Cloudiness = []\n",
    "Wind_Speed = []\n",
    "Country = []\n",
    "Date = []\n",
    "count = 0\n",
    "Set = 1\n",
    "#Loop through each city\n",
    "for city in cities:    \n",
    "    try:\n",
    "        #Query API\n",
    "        query_url = base_url + \"appid=\" + weather_api_key + \"&q=\" + city + \"&units=imperial\"\n",
    "        weather_response = requests.get(query_url).json()\n",
    "        #Start the count and if it's greater than 50, then start a new set and sleep for 1 sec to allow time for API\n",
    "        if count > 50:\n",
    "            Set += 1\n",
    "            count = 0\n",
    "            time.sleep(1.0)\n",
    "        count += 1\n",
    "        #Print out the beginning and append to lists\n",
    "        print(f\"Processing Record {count} of Set {Set} | {city}\")\n",
    "        City2.append(weather_response['name'])\n",
    "        Lat.append(weather_response['coord']['lat'])\n",
    "        Lng.append(weather_response['coord']['lon'])\n",
    "        Max_Temp.append(weather_response['main']['temp_max'])\n",
    "        Humidity.append(weather_response['main']['humidity'])\n",
    "        Cloudiness.append(weather_response['clouds']['all'])\n",
    "        Wind_Speed.append(weather_response['wind']['speed'])\n",
    "        Country.append(weather_response[\"sys\"]['country'])\n",
    "        Date.append(weather_response['dt'])\n",
    "    #If there is an error finding the city, skip\n",
    "    except KeyError:\n",
    "        print(\"City not found. Skipping...\")\n",
    "print(\"------------------------------\")\n",
    "print(\"Data Retrieval Complete\")\n",
    "print(\"------------------------------\")"
   ]
  },
  {
   "cell_type": "markdown",
   "metadata": {},
   "source": [
    "### Convert Raw Data to DataFrame\n",
    "* Export the city data into a .csv.\n",
    "* Display the DataFrame"
   ]
  },
  {
   "cell_type": "code",
   "execution_count": 21,
   "metadata": {},
   "outputs": [
    {
     "data": {
      "text/html": [
       "<div>\n",
       "<style scoped>\n",
       "    .dataframe tbody tr th:only-of-type {\n",
       "        vertical-align: middle;\n",
       "    }\n",
       "\n",
       "    .dataframe tbody tr th {\n",
       "        vertical-align: top;\n",
       "    }\n",
       "\n",
       "    .dataframe thead th {\n",
       "        text-align: right;\n",
       "    }\n",
       "</style>\n",
       "<table border=\"1\" class=\"dataframe\">\n",
       "  <thead>\n",
       "    <tr style=\"text-align: right;\">\n",
       "      <th></th>\n",
       "      <th>City</th>\n",
       "      <th>Lat</th>\n",
       "      <th>Lng</th>\n",
       "      <th>Max Temp</th>\n",
       "      <th>Humidity</th>\n",
       "      <th>Cloudiness</th>\n",
       "      <th>Wind Speed</th>\n",
       "      <th>Country</th>\n",
       "      <th>Date</th>\n",
       "    </tr>\n",
       "  </thead>\n",
       "  <tbody>\n",
       "    <tr>\n",
       "      <th>0</th>\n",
       "      <td>Xinzhi</td>\n",
       "      <td>36.50</td>\n",
       "      <td>111.70</td>\n",
       "      <td>30.34</td>\n",
       "      <td>70</td>\n",
       "      <td>87</td>\n",
       "      <td>8.25</td>\n",
       "      <td>CN</td>\n",
       "      <td>1607302085</td>\n",
       "    </tr>\n",
       "    <tr>\n",
       "      <th>1</th>\n",
       "      <td>Bengkulu</td>\n",
       "      <td>-3.80</td>\n",
       "      <td>102.27</td>\n",
       "      <td>78.96</td>\n",
       "      <td>81</td>\n",
       "      <td>4</td>\n",
       "      <td>4.63</td>\n",
       "      <td>ID</td>\n",
       "      <td>1607302086</td>\n",
       "    </tr>\n",
       "    <tr>\n",
       "      <th>2</th>\n",
       "      <td>Punta Arenas</td>\n",
       "      <td>-53.15</td>\n",
       "      <td>-70.92</td>\n",
       "      <td>60.80</td>\n",
       "      <td>63</td>\n",
       "      <td>100</td>\n",
       "      <td>21.92</td>\n",
       "      <td>CL</td>\n",
       "      <td>1607301797</td>\n",
       "    </tr>\n",
       "    <tr>\n",
       "      <th>3</th>\n",
       "      <td>Siocon</td>\n",
       "      <td>7.71</td>\n",
       "      <td>122.14</td>\n",
       "      <td>82.87</td>\n",
       "      <td>71</td>\n",
       "      <td>52</td>\n",
       "      <td>2.62</td>\n",
       "      <td>PH</td>\n",
       "      <td>1607302086</td>\n",
       "    </tr>\n",
       "    <tr>\n",
       "      <th>4</th>\n",
       "      <td>Nome</td>\n",
       "      <td>64.50</td>\n",
       "      <td>-165.41</td>\n",
       "      <td>17.60</td>\n",
       "      <td>44</td>\n",
       "      <td>1</td>\n",
       "      <td>10.29</td>\n",
       "      <td>US</td>\n",
       "      <td>1607302086</td>\n",
       "    </tr>\n",
       "  </tbody>\n",
       "</table>\n",
       "</div>"
      ],
      "text/plain": [
       "           City    Lat     Lng  Max Temp  Humidity  Cloudiness  Wind Speed  \\\n",
       "0        Xinzhi  36.50  111.70     30.34        70          87        8.25   \n",
       "1      Bengkulu  -3.80  102.27     78.96        81           4        4.63   \n",
       "2  Punta Arenas -53.15  -70.92     60.80        63         100       21.92   \n",
       "3        Siocon   7.71  122.14     82.87        71          52        2.62   \n",
       "4          Nome  64.50 -165.41     17.60        44           1       10.29   \n",
       "\n",
       "  Country        Date  \n",
       "0      CN  1607302085  \n",
       "1      ID  1607302086  \n",
       "2      CL  1607301797  \n",
       "3      PH  1607302086  \n",
       "4      US  1607302086  "
      ]
     },
     "execution_count": 21,
     "metadata": {},
     "output_type": "execute_result"
    }
   ],
   "source": [
    "df = pd.DataFrame({\"City\":City2,\n",
    "                        \"Lat\":Lat,\n",
    "                        \"Lng\":Lng,\n",
    "                        \"Max Temp\":Max_Temp,\n",
    "                        \"Humidity\":Humidity,\n",
    "                        \"Cloudiness\":Cloudiness,\n",
    "                        \"Wind Speed\":Wind_Speed,\n",
    "                        \"Country\":Country,\n",
    "                        \"Date\":Date})\n",
    "\n",
    "df.to_csv(output_data_file)\n",
    "df.head()"
   ]
  },
  {
   "cell_type": "code",
   "execution_count": 12,
   "metadata": {},
   "outputs": [
    {
     "data": {
      "text/html": [
       "<div>\n",
       "<style scoped>\n",
       "    .dataframe tbody tr th:only-of-type {\n",
       "        vertical-align: middle;\n",
       "    }\n",
       "\n",
       "    .dataframe tbody tr th {\n",
       "        vertical-align: top;\n",
       "    }\n",
       "\n",
       "    .dataframe thead th {\n",
       "        text-align: right;\n",
       "    }\n",
       "</style>\n",
       "<table border=\"1\" class=\"dataframe\">\n",
       "  <thead>\n",
       "    <tr style=\"text-align: right;\">\n",
       "      <th></th>\n",
       "      <th>Lat</th>\n",
       "      <th>Lng</th>\n",
       "      <th>Max Temp</th>\n",
       "      <th>Humidity</th>\n",
       "      <th>Cloudiness</th>\n",
       "      <th>Wind Speed</th>\n",
       "      <th>Date</th>\n",
       "    </tr>\n",
       "  </thead>\n",
       "  <tbody>\n",
       "    <tr>\n",
       "      <th>count</th>\n",
       "      <td>542.000000</td>\n",
       "      <td>542.000000</td>\n",
       "      <td>542.000000</td>\n",
       "      <td>542.000000</td>\n",
       "      <td>542.000000</td>\n",
       "      <td>542.000000</td>\n",
       "      <td>5.420000e+02</td>\n",
       "    </tr>\n",
       "    <tr>\n",
       "      <th>mean</th>\n",
       "      <td>19.834649</td>\n",
       "      <td>19.442030</td>\n",
       "      <td>52.621052</td>\n",
       "      <td>74.326568</td>\n",
       "      <td>55.488930</td>\n",
       "      <td>7.767140</td>\n",
       "      <td>1.607302e+09</td>\n",
       "    </tr>\n",
       "    <tr>\n",
       "      <th>std</th>\n",
       "      <td>33.789218</td>\n",
       "      <td>91.375648</td>\n",
       "      <td>27.520778</td>\n",
       "      <td>19.747912</td>\n",
       "      <td>40.888456</td>\n",
       "      <td>5.303058</td>\n",
       "      <td>1.316869e+02</td>\n",
       "    </tr>\n",
       "    <tr>\n",
       "      <th>min</th>\n",
       "      <td>-54.800000</td>\n",
       "      <td>-175.200000</td>\n",
       "      <td>-33.340000</td>\n",
       "      <td>7.000000</td>\n",
       "      <td>0.000000</td>\n",
       "      <td>0.580000</td>\n",
       "      <td>1.607302e+09</td>\n",
       "    </tr>\n",
       "    <tr>\n",
       "      <th>25%</th>\n",
       "      <td>-8.522500</td>\n",
       "      <td>-59.620000</td>\n",
       "      <td>32.000000</td>\n",
       "      <td>65.000000</td>\n",
       "      <td>6.000000</td>\n",
       "      <td>3.597500</td>\n",
       "      <td>1.607302e+09</td>\n",
       "    </tr>\n",
       "    <tr>\n",
       "      <th>50%</th>\n",
       "      <td>22.485000</td>\n",
       "      <td>20.755000</td>\n",
       "      <td>60.790000</td>\n",
       "      <td>80.500000</td>\n",
       "      <td>75.000000</td>\n",
       "      <td>6.815000</td>\n",
       "      <td>1.607302e+09</td>\n",
       "    </tr>\n",
       "    <tr>\n",
       "      <th>75%</th>\n",
       "      <td>47.952500</td>\n",
       "      <td>102.442500</td>\n",
       "      <td>75.200000</td>\n",
       "      <td>89.000000</td>\n",
       "      <td>98.000000</td>\n",
       "      <td>10.832500</td>\n",
       "      <td>1.607302e+09</td>\n",
       "    </tr>\n",
       "    <tr>\n",
       "      <th>max</th>\n",
       "      <td>78.220000</td>\n",
       "      <td>179.320000</td>\n",
       "      <td>96.760000</td>\n",
       "      <td>100.000000</td>\n",
       "      <td>100.000000</td>\n",
       "      <td>33.170000</td>\n",
       "      <td>1.607302e+09</td>\n",
       "    </tr>\n",
       "  </tbody>\n",
       "</table>\n",
       "</div>"
      ],
      "text/plain": [
       "              Lat         Lng    Max Temp    Humidity  Cloudiness  Wind Speed  \\\n",
       "count  542.000000  542.000000  542.000000  542.000000  542.000000  542.000000   \n",
       "mean    19.834649   19.442030   52.621052   74.326568   55.488930    7.767140   \n",
       "std     33.789218   91.375648   27.520778   19.747912   40.888456    5.303058   \n",
       "min    -54.800000 -175.200000  -33.340000    7.000000    0.000000    0.580000   \n",
       "25%     -8.522500  -59.620000   32.000000   65.000000    6.000000    3.597500   \n",
       "50%     22.485000   20.755000   60.790000   80.500000   75.000000    6.815000   \n",
       "75%     47.952500  102.442500   75.200000   89.000000   98.000000   10.832500   \n",
       "max     78.220000  179.320000   96.760000  100.000000  100.000000   33.170000   \n",
       "\n",
       "               Date  \n",
       "count  5.420000e+02  \n",
       "mean   1.607302e+09  \n",
       "std    1.316869e+02  \n",
       "min    1.607302e+09  \n",
       "25%    1.607302e+09  \n",
       "50%    1.607302e+09  \n",
       "75%    1.607302e+09  \n",
       "max    1.607302e+09  "
      ]
     },
     "execution_count": 12,
     "metadata": {},
     "output_type": "execute_result"
    }
   ],
   "source": [
    "df.describe()"
   ]
  },
  {
   "cell_type": "markdown",
   "metadata": {},
   "source": [
    "## Inspect the data and remove the cities where the humidity > 100%.\n",
    "----\n",
    "Skip this step if there are no cities that have humidity > 100%. "
   ]
  },
  {
   "cell_type": "code",
   "execution_count": 13,
   "metadata": {},
   "outputs": [
    {
     "data": {
      "text/html": [
       "<div>\n",
       "<style scoped>\n",
       "    .dataframe tbody tr th:only-of-type {\n",
       "        vertical-align: middle;\n",
       "    }\n",
       "\n",
       "    .dataframe tbody tr th {\n",
       "        vertical-align: top;\n",
       "    }\n",
       "\n",
       "    .dataframe thead th {\n",
       "        text-align: right;\n",
       "    }\n",
       "</style>\n",
       "<table border=\"1\" class=\"dataframe\">\n",
       "  <thead>\n",
       "    <tr style=\"text-align: right;\">\n",
       "      <th></th>\n",
       "      <th>City</th>\n",
       "      <th>Lat</th>\n",
       "      <th>Lng</th>\n",
       "      <th>Max Temp</th>\n",
       "      <th>Humidity</th>\n",
       "      <th>Cloudiness</th>\n",
       "      <th>Wind Speed</th>\n",
       "      <th>Country</th>\n",
       "      <th>Date</th>\n",
       "    </tr>\n",
       "  </thead>\n",
       "  <tbody>\n",
       "  </tbody>\n",
       "</table>\n",
       "</div>"
      ],
      "text/plain": [
       "Empty DataFrame\n",
       "Columns: [City, Lat, Lng, Max Temp, Humidity, Cloudiness, Wind Speed, Country, Date]\n",
       "Index: []"
      ]
     },
     "execution_count": 13,
     "metadata": {},
     "output_type": "execute_result"
    }
   ],
   "source": [
    "#Locate all rows with humidity greater than 100\n",
    "Humidity100 = df.loc[df[\"Humidity\"]>100]\n",
    "Humidity100.head()"
   ]
  },
  {
   "cell_type": "code",
   "execution_count": 14,
   "metadata": {},
   "outputs": [
    {
     "name": "stdout",
     "output_type": "stream",
     "text": [
      "Int64Index([], dtype='int64')\n"
     ]
    }
   ],
   "source": [
    "#  Get the indices of cities that have humidity over 100%.\n",
    "Humidity100_index = df.index[df[\"Humidity\"]>100]\n",
    "print(Humidity100_index)"
   ]
  },
  {
   "cell_type": "code",
   "execution_count": 15,
   "metadata": {},
   "outputs": [
    {
     "data": {
      "text/html": [
       "<div>\n",
       "<style scoped>\n",
       "    .dataframe tbody tr th:only-of-type {\n",
       "        vertical-align: middle;\n",
       "    }\n",
       "\n",
       "    .dataframe tbody tr th {\n",
       "        vertical-align: top;\n",
       "    }\n",
       "\n",
       "    .dataframe thead th {\n",
       "        text-align: right;\n",
       "    }\n",
       "</style>\n",
       "<table border=\"1\" class=\"dataframe\">\n",
       "  <thead>\n",
       "    <tr style=\"text-align: right;\">\n",
       "      <th></th>\n",
       "      <th>City</th>\n",
       "      <th>Lat</th>\n",
       "      <th>Lng</th>\n",
       "      <th>Max Temp</th>\n",
       "      <th>Humidity</th>\n",
       "      <th>Cloudiness</th>\n",
       "      <th>Wind Speed</th>\n",
       "      <th>Country</th>\n",
       "      <th>Date</th>\n",
       "    </tr>\n",
       "  </thead>\n",
       "  <tbody>\n",
       "    <tr>\n",
       "      <th>0</th>\n",
       "      <td>Xinzhi</td>\n",
       "      <td>36.50</td>\n",
       "      <td>111.70</td>\n",
       "      <td>30.34</td>\n",
       "      <td>70</td>\n",
       "      <td>87</td>\n",
       "      <td>8.25</td>\n",
       "      <td>CN</td>\n",
       "      <td>1607302085</td>\n",
       "    </tr>\n",
       "    <tr>\n",
       "      <th>1</th>\n",
       "      <td>Bengkulu</td>\n",
       "      <td>-3.80</td>\n",
       "      <td>102.27</td>\n",
       "      <td>78.96</td>\n",
       "      <td>81</td>\n",
       "      <td>4</td>\n",
       "      <td>4.63</td>\n",
       "      <td>ID</td>\n",
       "      <td>1607302086</td>\n",
       "    </tr>\n",
       "    <tr>\n",
       "      <th>2</th>\n",
       "      <td>Punta Arenas</td>\n",
       "      <td>-53.15</td>\n",
       "      <td>-70.92</td>\n",
       "      <td>60.80</td>\n",
       "      <td>63</td>\n",
       "      <td>100</td>\n",
       "      <td>21.92</td>\n",
       "      <td>CL</td>\n",
       "      <td>1607301797</td>\n",
       "    </tr>\n",
       "    <tr>\n",
       "      <th>3</th>\n",
       "      <td>Siocon</td>\n",
       "      <td>7.71</td>\n",
       "      <td>122.14</td>\n",
       "      <td>82.87</td>\n",
       "      <td>71</td>\n",
       "      <td>52</td>\n",
       "      <td>2.62</td>\n",
       "      <td>PH</td>\n",
       "      <td>1607302086</td>\n",
       "    </tr>\n",
       "    <tr>\n",
       "      <th>4</th>\n",
       "      <td>Nome</td>\n",
       "      <td>64.50</td>\n",
       "      <td>-165.41</td>\n",
       "      <td>17.60</td>\n",
       "      <td>44</td>\n",
       "      <td>1</td>\n",
       "      <td>10.29</td>\n",
       "      <td>US</td>\n",
       "      <td>1607302086</td>\n",
       "    </tr>\n",
       "  </tbody>\n",
       "</table>\n",
       "</div>"
      ],
      "text/plain": [
       "           City    Lat     Lng  Max Temp  Humidity  Cloudiness  Wind Speed  \\\n",
       "0        Xinzhi  36.50  111.70     30.34        70          87        8.25   \n",
       "1      Bengkulu  -3.80  102.27     78.96        81           4        4.63   \n",
       "2  Punta Arenas -53.15  -70.92     60.80        63         100       21.92   \n",
       "3        Siocon   7.71  122.14     82.87        71          52        2.62   \n",
       "4          Nome  64.50 -165.41     17.60        44           1       10.29   \n",
       "\n",
       "  Country        Date  \n",
       "0      CN  1607302085  \n",
       "1      ID  1607302086  \n",
       "2      CL  1607301797  \n",
       "3      PH  1607302086  \n",
       "4      US  1607302086  "
      ]
     },
     "execution_count": 15,
     "metadata": {},
     "output_type": "execute_result"
    }
   ],
   "source": [
    "# Make a new DataFrame equal to the city data to drop all humidity outliers by index.\n",
    "# Passing \"inplace=False\" will make a copy of the city_data DataFrame, which we call \"clean_city_data\".\n",
    "clean_df = df.drop(Humidity100_index, inplace = False)\n",
    "clean_df.head()"
   ]
  },
  {
   "cell_type": "code",
   "execution_count": null,
   "metadata": {},
   "outputs": [],
   "source": [
    "\n"
   ]
  },
  {
   "cell_type": "markdown",
   "metadata": {},
   "source": [
    "## Plotting the Data\n",
    "* Use proper labeling of the plots using plot titles (including date of analysis) and axes labels.\n",
    "* Save the plotted figures as .pngs."
   ]
  },
  {
   "cell_type": "markdown",
   "metadata": {},
   "source": [
    "## Latitude vs. Temperature Plot"
   ]
  },
  {
   "cell_type": "code",
   "execution_count": 16,
   "metadata": {
    "scrolled": true
   },
   "outputs": [
    {
     "data": {
      "image/png": "[encoded data removed]",
      "text/plain": [
       "<Figure size 432x288 with 1 Axes>"
      ]
     },
     "metadata": {
      "needs_background": "light"
     },
     "output_type": "display_data"
    }
   ],
   "source": [
    "x_axis = clean_df[\"Lat\"]\n",
    "y_axis = clean_df[\"Max Temp\"]\n",
    "plt.scatter(x_axis, y_axis, marker=\"o\", facecolors=\"blue\", edgecolors=\"black\")\n",
    "plt.grid()\n",
    "plt.xlabel(\"Latitude\")\n",
    "plt.ylabel(\"Max Temperature (F)\")\n",
    "plt.title(\"City Latitude vs. Max Temperature \")\n",
    "plt.savefig(\"Images/LatitudeVtemp.png\")\n",
    "plt.show()"
   ]
  },
  {
   "cell_type": "markdown",
   "metadata": {},
   "source": [
    "## Latitude vs. Humidity Plot"
   ]
  },
  {
   "cell_type": "code",
   "execution_count": 17,
   "metadata": {},
   "outputs": [
    {
     "data": {
      "image/png": "[encoded data removed]",
      "text/plain": [
       "<Figure size 432x288 with 1 Axes>"
      ]
     },
     "metadata": {
      "needs_background": "light"
     },
     "output_type": "display_data"
    }
   ],
   "source": [
    "y_axis = clean_df[\"Humidity\"]\n",
    "plt.scatter(x_axis, y_axis, marker=\"o\", facecolors=\"blue\", edgecolors=\"black\")\n",
    "plt.grid()\n",
    "plt.xlabel(\"Latitude\")\n",
    "plt.ylabel(\"Humidity\")\n",
    "plt.title(\"City Latitude vs. Humidity \")\n",
    "plt.savefig(\"Images/LatitudeVhumidity.png\")\n",
    "plt.show()"
   ]
  },
  {
   "cell_type": "markdown",
   "metadata": {},
   "source": [
    "## Latitude vs. Cloudiness Plot"
   ]
  },
  {
   "cell_type": "code",
   "execution_count": 18,
   "metadata": {},
   "outputs": [
    {
     "data": {
      "image/png": "[encoded data removed]",
      "text/plain": [
       "<Figure size 432x288 with 1 Axes>"
      ]
     },
     "metadata": {
      "needs_background": "light"
     },
     "output_type": "display_data"
    }
   ],
   "source": [
    "y_axis = clean_df[\"Cloudiness\"]\n",
    "plt.scatter(x_axis, y_axis, marker=\"o\", facecolors=\"blue\", edgecolors=\"black\")\n",
    "plt.grid()\n",
    "plt.xlabel(\"Latitude\")\n",
    "plt.ylabel(\"Cloudiness\")\n",
    "plt.title(\"City Latitude vs. Cloudiness\")\n",
    "plt.savefig(\"Images/LatitudeVcloudiness.png\")\n",
    "plt.show()"
   ]
  },
  {
   "cell_type": "markdown",
   "metadata": {},
   "source": [
    "## Latitude vs. Wind Speed Plot"
   ]
  },
  {
   "cell_type": "code",
   "execution_count": 19,
   "metadata": {},
   "outputs": [
    {
     "data": {
      "image/png": "[encoded data removed]",
      "text/plain": [
       "<Figure size 432x288 with 1 Axes>"
      ]
     },
     "metadata": {
      "needs_background": "light"
     },
     "output_type": "display_data"
    }
   ],
   "source": [
    "y_axis = clean_df[\"Wind Speed\"]\n",
    "plt.scatter(x_axis, y_axis, marker=\"o\", facecolors=\"blue\", edgecolors=\"black\")\n",
    "plt.grid()\n",
    "plt.xlabel(\"Latitude\")\n",
    "plt.ylabel(\"Wind Speed\")\n",
    "plt.title(\"City Latitude vs. Wind Speed\")\n",
    "plt.savefig(\"Images/LatitudeVwindSpeed.png\")\n",
    "plt.show()"
   ]
  },
  {
   "cell_type": "markdown",
   "metadata": {},
   "source": [
    "## Linear Regression"
   ]
  },
  {
   "cell_type": "code",
   "execution_count": 24,
   "metadata": {},
   "outputs": [],
   "source": [
    "df_north = clean_df.loc[clean_df[\"Lat\"]>=0]\n",
    "df_south = clean_df.loc[clean_df[\"Lat\"]<0]"
   ]
  },
  {
   "cell_type": "markdown",
   "metadata": {},
   "source": [
    "####  Northern Hemisphere - Max Temp vs. Latitude Linear Regression"
   ]
  },
  {
   "cell_type": "code",
   "execution_count": 55,
   "metadata": {},
   "outputs": [
    {
     "name": "stdout",
     "output_type": "stream",
     "text": [
      "The rsquare-value is: 0.74\n"
     ]
    },
    {
     "data": {
      "image/png": "[encoded data removed]",
      "text/plain": [
       "<Figure size 432x288 with 1 Axes>"
      ]
     },
     "metadata": {
      "needs_background": "light"
     },
     "output_type": "display_data"
    }
   ],
   "source": [
    "x_axis = df_north[\"Lat\"]\n",
    "y_axis = df_north[\"Max Temp\"]\n",
    "(slope, intercept, rvalue, pvalue, stderr) = linregress(x_axis, y_axis)\n",
    "print(f\"The rsquare-value is: {round(rvalue**2,2)}\")\n",
    "regress_values = [x * slope + intercept for x in x_axis]\n",
    "line_eq = \"y = \" + str(round(slope,2)) + \"x + \" + str(round(intercept,2))\n",
    "plt.scatter(x_axis, y_axis)\n",
    "plt.plot(x_axis, regress_values,\"r-\")\n",
    "plt.annotate(line_eq,(5,-20),fontsize=15,color=\"red\")\n",
    "plt.xlabel(\"Latitude\")\n",
    "plt.ylabel(\"Max Temp (F)\")\n",
    "plt.title(\"Northern Hemisphere Max Temps vs. Latitude\")\n",
    "plt.savefig(\"Images/LinReg Northern Hemisphere Max Temps vs. Latitude.png\")\n",
    "plt.show()"
   ]
  },
  {
   "cell_type": "markdown",
   "metadata": {},
   "source": [
    "####  Southern Hemisphere - Max Temp vs. Latitude Linear Regression"
   ]
  },
  {
   "cell_type": "code",
   "execution_count": 56,
   "metadata": {},
   "outputs": [
    {
     "name": "stdout",
     "output_type": "stream",
     "text": [
      "The rsquare-value is: 0.29\n"
     ]
    },
    {
     "data": {
      "image/png": "[encoded data removed]",
      "text/plain": [
       "<Figure size 432x288 with 1 Axes>"
      ]
     },
     "metadata": {
      "needs_background": "light"
     },
     "output_type": "display_data"
    }
   ],
   "source": [
    "x_axis = df_south[\"Lat\"]\n",
    "y_axis = df_south[\"Max Temp\"]\n",
    "(slope, intercept, rvalue, pvalue, stderr) = linregress(x_axis, y_axis)\n",
    "print(f\"The rsquare-value is: {round(rvalue**2,2)}\")\n",
    "regress_values = [x * slope + intercept for x in x_axis]\n",
    "line_eq = \"y = \" + str(round(slope,2)) + \"x + \" + str(round(intercept,2))\n",
    "plt.scatter(x_axis, y_axis)\n",
    "plt.plot(x_axis, regress_values,\"r-\")\n",
    "plt.annotate(line_eq,(-50,90),fontsize=15,color=\"red\")\n",
    "plt.xlabel(\"Latitude\")\n",
    "plt.ylabel(\"Max Temp (F)\")\n",
    "plt.title(\"Southern Hemisphere Max Temps vs. Latitude\")\n",
    "plt.savefig(\"Images/LinReg Southern Hemisphere Max Temps vs. Latitude.png\")\n",
    "plt.show()"
   ]
  },
  {
   "cell_type": "markdown",
   "metadata": {},
   "source": [
    "####  Northern Hemisphere - Humidity (%) vs. Latitude Linear Regression"
   ]
  },
  {
   "cell_type": "code",
   "execution_count": 57,
   "metadata": {},
   "outputs": [
    {
     "name": "stdout",
     "output_type": "stream",
     "text": [
      "The rsquare-value is: 0.14\n"
     ]
    },
    {
     "data": {
      "image/png": "[encoded data removed]",
      "text/plain": [
       "<Figure size 432x288 with 1 Axes>"
      ]
     },
     "metadata": {
      "needs_background": "light"
     },
     "output_type": "display_data"
    }
   ],
   "source": [
    "x_axis = df_north[\"Lat\"]\n",
    "y_axis = df_north[\"Humidity\"]\n",
    "(slope, intercept, rvalue, pvalue, stderr) = linregress(x_axis, y_axis)\n",
    "print(f\"The rsquare-value is: {round(rvalue**2,2)}\")\n",
    "regress_values = [x * slope + intercept for x in x_axis]\n",
    "line_eq = \"y = \" + str(round(slope,2)) + \"x + \" + str(round(intercept,2))\n",
    "plt.scatter(x_axis, y_axis)\n",
    "plt.plot(x_axis, regress_values,\"r-\")\n",
    "plt.annotate(line_eq,(50,40),fontsize=15,color=\"red\")\n",
    "plt.xlabel(\"Latitude\")\n",
    "plt.ylabel(\"Humidity (%)\")\n",
    "plt.title(\"Northern Hemisphere Humidity vs. Latitude\")\n",
    "plt.savefig(\"Images/LinReg Northern Hemisphere Humidity vs. Latitude.png\")\n",
    "plt.show()"
   ]
  },
  {
   "cell_type": "markdown",
   "metadata": {},
   "source": [
    "####  Southern Hemisphere - Humidity (%) vs. Latitude Linear Regression"
   ]
  },
  {
   "cell_type": "code",
   "execution_count": 58,
   "metadata": {},
   "outputs": [
    {
     "name": "stdout",
     "output_type": "stream",
     "text": [
      "The rsquare-value is: 0.09\n"
     ]
    },
    {
     "data": {
      "image/png": "[encoded data removed]",
      "text/plain": [
       "<Figure size 432x288 with 1 Axes>"
      ]
     },
     "metadata": {
      "needs_background": "light"
     },
     "output_type": "display_data"
    }
   ],
   "source": [
    "x_axis = df_south[\"Lat\"]\n",
    "y_axis = df_south[\"Humidity\"]\n",
    "(slope, intercept, rvalue, pvalue, stderr) = linregress(x_axis, y_axis)\n",
    "print(f\"The rsquare-value is: {round(rvalue**2,2)}\")\n",
    "regress_values = [x * slope + intercept for x in x_axis]\n",
    "line_eq = \"y = \" + str(round(slope,2)) + \"x + \" + str(round(intercept,2))\n",
    "plt.scatter(x_axis, y_axis)\n",
    "plt.plot(x_axis, regress_values,\"r-\")\n",
    "plt.annotate(line_eq,(-20,40),fontsize=15,color=\"red\")\n",
    "plt.xlabel(\"Latitude\")\n",
    "plt.ylabel(\"Humidity (%)\")\n",
    "plt.title(\"Southern Hemisphere Humidity vs. Latitude\")\n",
    "plt.savefig(\"Images/LinReg Southern Hemisphere Humidity vs. Latitude.png\")\n",
    "plt.show()"
   ]
  },
  {
   "cell_type": "markdown",
   "metadata": {},
   "source": [
    "####  Northern Hemisphere - Cloudiness (%) vs. Latitude Linear Regression"
   ]
  },
  {
   "cell_type": "code",
   "execution_count": 59,
   "metadata": {},
   "outputs": [
    {
     "name": "stdout",
     "output_type": "stream",
     "text": [
      "The rsquare-value is: 0.08\n"
     ]
    },
    {
     "data": {
      "image/png": "[encoded data removed]",
      "text/plain": [
       "<Figure size 432x288 with 1 Axes>"
      ]
     },
     "metadata": {
      "needs_background": "light"
     },
     "output_type": "display_data"
    }
   ],
   "source": [
    "x_axis = df_north[\"Lat\"]\n",
    "y_axis = df_north[\"Cloudiness\"]\n",
    "(slope, intercept, rvalue, pvalue, stderr) = linregress(x_axis, y_axis)\n",
    "print(f\"The rsquare-value is: {round(rvalue**2,2)}\")\n",
    "regress_values = [x * slope + intercept for x in x_axis]\n",
    "line_eq = \"y = \" + str(round(slope,2)) + \"x + \" + str(round(intercept,2))\n",
    "plt.scatter(x_axis, y_axis)\n",
    "plt.plot(x_axis, regress_values,\"r-\")\n",
    "plt.annotate(line_eq,(50,40),fontsize=15,color=\"red\")\n",
    "plt.xlabel(\"Latitude\")\n",
    "plt.ylabel(\"Cloudiness (%)\")\n",
    "plt.title(\"Northern Hemisphere Cloudiness vs. Latitude\")\n",
    "plt.savefig(\"Images/LinReg Northern Hemisphere Cloudiness vs. Latitude.png\")\n",
    "plt.show()"
   ]
  },
  {
   "cell_type": "markdown",
   "metadata": {},
   "source": [
    "####  Southern Hemisphere - Cloudiness (%) vs. Latitude Linear Regression"
   ]
  },
  {
   "cell_type": "code",
   "execution_count": 60,
   "metadata": {},
   "outputs": [
    {
     "name": "stdout",
     "output_type": "stream",
     "text": [
      "The rsquare-value is: 0.04\n"
     ]
    },
    {
     "data": {
      "image/png": "[encoded data removed]",
      "text/plain": [
       "<Figure size 432x288 with 1 Axes>"
      ]
     },
     "metadata": {
      "needs_background": "light"
     },
     "output_type": "display_data"
    }
   ],
   "source": [
    "x_axis = df_south[\"Lat\"]\n",
    "y_axis = df_south[\"Cloudiness\"]\n",
    "(slope, intercept, rvalue, pvalue, stderr) = linregress(x_axis, y_axis)\n",
    "print(f\"The rsquare-value is: {round(rvalue**2,2)}\")\n",
    "regress_values = [x * slope + intercept for x in x_axis]\n",
    "line_eq = \"y = \" + str(round(slope,2)) + \"x + \" + str(round(intercept,2))\n",
    "plt.scatter(x_axis, y_axis)\n",
    "plt.plot(x_axis, regress_values,\"r-\")\n",
    "plt.annotate(line_eq,(-30,20),fontsize=15,color=\"red\")\n",
    "plt.xlabel(\"Latitude\")\n",
    "plt.ylabel(\"Cloudiness (%)\")\n",
    "plt.title(\"Southern Hemisphere Cloudiness vs. Latitude\")\n",
    "plt.savefig(\"Images/LinReg Southern Hemisphere Cloudiness vs. Latitude.png\")\n",
    "plt.show()"
   ]
  },
  {
   "cell_type": "markdown",
   "metadata": {},
   "source": [
    "####  Northern Hemisphere - Wind Speed (mph) vs. Latitude Linear Regression"
   ]
  },
  {
   "cell_type": "code",
   "execution_count": 61,
   "metadata": {},
   "outputs": [
    {
     "name": "stdout",
     "output_type": "stream",
     "text": [
      "The rsquare-value is: 0.03\n"
     ]
    },
    {
     "data": {
      "image/png": "[encoded data removed]",
      "text/plain": [
       "<Figure size 432x288 with 1 Axes>"
      ]
     },
     "metadata": {
      "needs_background": "light"
     },
     "output_type": "display_data"
    }
   ],
   "source": [
    "x_axis = df_north[\"Lat\"]\n",
    "y_axis = df_north[\"Wind Speed\"]\n",
    "(slope, intercept, rvalue, pvalue, stderr) = linregress(x_axis, y_axis)\n",
    "print(f\"The rsquare-value is: {round(rvalue**2,2)}\")\n",
    "regress_values = [x * slope + intercept for x in x_axis]\n",
    "line_eq = \"y = \" + str(round(slope,2)) + \"x + \" + str(round(intercept,2))\n",
    "plt.scatter(x_axis, y_axis)\n",
    "plt.plot(x_axis, regress_values,\"r-\")\n",
    "plt.annotate(line_eq,(0,30),fontsize=15,color=\"red\")\n",
    "plt.xlabel(\"Latitude\")\n",
    "plt.ylabel(\"Wind Speed (mph)\")\n",
    "plt.title(\"Northern Hemisphere Wind Speed vs. Latitude\")\n",
    "plt.savefig(\"Images/LinReg Northern Hemisphere Wind Speed vs. Latitude.png\")\n",
    "plt.show()"
   ]
  },
  {
   "cell_type": "markdown",
   "metadata": {},
   "source": [
    "####  Southern Hemisphere - Wind Speed (mph) vs. Latitude Linear Regression"
   ]
  },
  {
   "cell_type": "code",
   "execution_count": 62,
   "metadata": {},
   "outputs": [
    {
     "name": "stdout",
     "output_type": "stream",
     "text": [
      "The rsquare-value is: 0.12\n"
     ]
    },
    {
     "data": {
      "image/png": "[encoded data removed]",
      "text/plain": [
       "<Figure size 432x288 with 1 Axes>"
      ]
     },
     "metadata": {
      "needs_background": "light"
     },
     "output_type": "display_data"
    }
   ],
   "source": [
    "x_axis = df_south[\"Lat\"]\n",
    "y_axis = df_south[\"Wind Speed\"]\n",
    "(slope, intercept, rvalue, pvalue, stderr) = linregress(x_axis, y_axis)\n",
    "print(f\"The rsquare-value is: {round(rvalue**2,2)}\")\n",
    "regress_values = [x * slope + intercept for x in x_axis]\n",
    "line_eq = \"y = \" + str(round(slope,2)) + \"x + \" + str(round(intercept,2))\n",
    "plt.scatter(x_axis, y_axis)\n",
    "plt.plot(x_axis, regress_values,\"r-\")\n",
    "plt.annotate(line_eq,(-55,25),fontsize=15,color=\"red\")\n",
    "plt.xlabel(\"Latitude\")\n",
    "plt.ylabel(\"Wind Speed (mph)\")\n",
    "plt.title(\"Southern Hemisphere Wind Speed vs. Latitude\")\n",
    "plt.savefig(\"Images/LinReg Southern Hemisphere Wind Speed vs. Latitude.png\")\n",
    "plt.show()"
   ]
  },
  {
   "cell_type": "code",
   "execution_count": null,
   "metadata": {},
   "outputs": [],
   "source": []
  }
 ],
 "metadata": {
  "anaconda-cloud": {},
  "kernel_info": {
   "name": "python3"
  },
  "kernelspec": {
   "display_name": "pythonEnvir",
   "language": "python",
   "name": "pythonenvir"
  },
  "language_info": {
   "codemirror_mode": {
    "name": "ipython",
    "version": 3
   },
   "file_extension": ".py",
   "mimetype": "text/x-python",
   "name": "python",
   "nbconvert_exporter": "python",
   "pygments_lexer": "ipython3",
   "version": "3.6.10"
  },
  "latex_envs": {
   "LaTeX_envs_menu_present": true,
   "autoclose": false,
   "autocomplete": true,
   "bibliofile": "biblio.bib",
   "cite_by": "apalike",
   "current_citInitial": 1,
   "eqLabelWithNumbers": true,
   "eqNumInitial": 1,
   "hotkeys": {
    "equation": "Ctrl-E",
    "itemize": "Ctrl-I"
   },
   "labels_anchors": false,
   "latex_user_defs": false,
   "report_style_numbering": false,
   "user_envs_cfg": false
  },
  "nteract": {
   "version": "0.12.3"
  }
 },
 "nbformat": 4,
 "nbformat_minor": 2
}
