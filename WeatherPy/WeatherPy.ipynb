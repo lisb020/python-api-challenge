{
 "cells": [
  {
   "cell_type": "markdown",
   "metadata": {},
   "source": [
    "# WeatherPy\n",
    "----\n",
    "\n",
    "#### Note\n",
    "* Instructions have been included for each segment. You do not have to follow them exactly, but they are included to help you think through the steps."
   ]
  },
  {
   "cell_type": "code",
   "execution_count": 1,
   "metadata": {
    "scrolled": true
   },
   "outputs": [],
   "source": [
    "# Dependencies and Setup\n",
    "import matplotlib.pyplot as plt\n",
    "import pandas as pd\n",
    "import numpy as np\n",
    "import requests\n",
    "import time\n",
    "from scipy.stats import linregress\n",
    "from datetime import datetime\n",
    "\n",
    "# Import API key\n",
    "from api_keys import weather_api_key\n",
    "\n",
    "# Incorporated citipy to determine city based on latitude and longitude\n",
    "from citipy import citipy\n",
    "\n",
    "# Output File (CSV)\n",
    "output_data_file = \"output_data/cities.csv\"\n",
    "\n",
    "# Range of latitudes and longitudes\n",
    "lat_range = (-90, 90)\n",
    "lng_range = (-180, 180)"
   ]
  },
  {
   "cell_type": "markdown",
   "metadata": {},
   "source": [
    "## Generate Cities List"
   ]
  },
  {
   "cell_type": "code",
   "execution_count": 2,
   "metadata": {},
   "outputs": [
    {
     "data": {
      "text/plain": [
       "609"
      ]
     },
     "execution_count": 2,
     "metadata": {},
     "output_type": "execute_result"
    }
   ],
   "source": [
    "# List for holding lat_lngs and cities\n",
    "lat_lngs = []\n",
    "cities = []\n",
    "\n",
    "# Create a set of random lat and lng combinations\n",
    "lats = np.random.uniform(lat_range[0], lat_range[1], size=1500)\n",
    "lngs = np.random.uniform(lng_range[0], lng_range[1], size=1500)\n",
    "lat_lngs = zip(lats, lngs)\n",
    "\n",
    "# Identify nearest city for each lat, lng combination\n",
    "for lat_lng in lat_lngs:\n",
    "    city = citipy.nearest_city(lat_lng[0], lat_lng[1]).city_name\n",
    "    \n",
    "    # If the city is unique, then add it to a our cities list\n",
    "    if city not in cities:\n",
    "        cities.append(city)\n",
    "\n",
    "# Print the city count to confirm sufficient count\n",
    "len(cities)"
   ]
  },
  {
   "cell_type": "markdown",
   "metadata": {},
   "source": [
    "### Perform API Calls\n",
    "* Perform a weather check on each city using a series of successive API calls.\n",
    "* Include a print log of each city as it'sbeing processed (with the city number and city name).\n"
   ]
  },
  {
   "cell_type": "code",
   "execution_count": 3,
   "metadata": {
    "scrolled": true
   },
   "outputs": [
    {
     "name": "stdout",
     "output_type": "stream",
     "text": [
      "Processing Record 1 of Set 1 | avarua\n",
      "Processing Record 2 of Set 1 | cody\n",
      "Processing Record 3 of Set 1 | addi ugri\n",
      "City not found. Skipping...\n",
      "Processing Record 4 of Set 1 | kodiak\n",
      "Processing Record 5 of Set 1 | bengkulu\n",
      "Processing Record 6 of Set 1 | mataura\n",
      "Processing Record 7 of Set 1 | innisfail\n",
      "Processing Record 8 of Set 1 | butaritari\n",
      "Processing Record 9 of Set 1 | ostrovnoy\n",
      "Processing Record 10 of Set 1 | port alfred\n",
      "Processing Record 11 of Set 1 | beringovskiy\n",
      "Processing Record 12 of Set 1 | paamiut\n",
      "Processing Record 13 of Set 1 | norman wells\n",
      "Processing Record 14 of Set 1 | vaini\n",
      "Processing Record 15 of Set 1 | rikitea\n",
      "Processing Record 16 of Set 1 | sisimiut\n",
      "Processing Record 17 of Set 1 | punta arenas\n",
      "Processing Record 18 of Set 1 | mar del plata\n",
      "Processing Record 19 of Set 1 | attawapiskat\n",
      "City not found. Skipping...\n",
      "Processing Record 20 of Set 1 | hobart\n",
      "Processing Record 21 of Set 1 | siguiri\n",
      "Processing Record 22 of Set 1 | moerai\n",
      "Processing Record 23 of Set 1 | belushya guba\n",
      "City not found. Skipping...\n",
      "Processing Record 24 of Set 1 | illoqqortoormiut\n",
      "City not found. Skipping...\n",
      "Processing Record 25 of Set 1 | kapaa\n",
      "Processing Record 26 of Set 1 | albany\n",
      "Processing Record 27 of Set 1 | skagastrond\n",
      "City not found. Skipping...\n",
      "Processing Record 28 of Set 1 | taolanaro\n",
      "City not found. Skipping...\n",
      "Processing Record 29 of Set 1 | hithadhoo\n",
      "Processing Record 30 of Set 1 | mys shmidta\n",
      "City not found. Skipping...\n",
      "Processing Record 31 of Set 1 | isangel\n",
      "Processing Record 32 of Set 1 | qaanaaq\n",
      "Processing Record 33 of Set 1 | tabiauea\n",
      "City not found. Skipping...\n",
      "Processing Record 34 of Set 1 | vostok\n",
      "Processing Record 35 of Set 1 | yeppoon\n",
      "Processing Record 36 of Set 1 | takoradi\n",
      "Processing Record 37 of Set 1 | bilma\n",
      "Processing Record 38 of Set 1 | ushuaia\n",
      "Processing Record 39 of Set 1 | brainerd\n",
      "Processing Record 40 of Set 1 | sitka\n",
      "Processing Record 41 of Set 1 | bluefields\n",
      "Processing Record 42 of Set 1 | samarai\n",
      "Processing Record 43 of Set 1 | hamilton\n",
      "Processing Record 44 of Set 1 | nouadhibou\n",
      "Processing Record 45 of Set 1 | evensk\n",
      "Processing Record 46 of Set 1 | saleaula\n",
      "City not found. Skipping...\n",
      "Processing Record 47 of Set 1 | cape town\n",
      "Processing Record 48 of Set 1 | vila velha\n",
      "Processing Record 49 of Set 1 | bathsheba\n",
      "Processing Record 50 of Set 1 | provideniya\n",
      "Processing Record 51 of Set 1 | fortuna\n",
      "Processing Record 1 of Set 2 | palabuhanratu\n",
      "City not found. Skipping...\n",
      "Processing Record 2 of Set 2 | bluff\n",
      "Processing Record 3 of Set 2 | kandrian\n",
      "Processing Record 4 of Set 2 | hasaki\n",
      "Processing Record 5 of Set 2 | opuwo\n",
      "Processing Record 6 of Set 2 | hilo\n",
      "Processing Record 7 of Set 2 | hermanus\n",
      "Processing Record 8 of Set 2 | lebu\n",
      "Processing Record 9 of Set 2 | mukdahan\n",
      "Processing Record 10 of Set 2 | muros\n",
      "Processing Record 11 of Set 2 | busselton\n",
      "Processing Record 12 of Set 2 | ponta do sol\n",
      "Processing Record 13 of Set 2 | awjilah\n",
      "Processing Record 14 of Set 2 | ambunti\n",
      "Processing Record 15 of Set 2 | inderborskiy\n",
      "City not found. Skipping...\n",
      "Processing Record 16 of Set 2 | amapa\n",
      "Processing Record 17 of Set 2 | pevek\n",
      "Processing Record 18 of Set 2 | shimoda\n",
      "Processing Record 19 of Set 2 | san juan bautista\n",
      "Processing Record 20 of Set 2 | yerbogachen\n",
      "Processing Record 21 of Set 2 | viligili\n",
      "City not found. Skipping...\n",
      "Processing Record 22 of Set 2 | carnarvon\n",
      "Processing Record 23 of Set 2 | nizhneyansk\n",
      "City not found. Skipping...\n",
      "Processing Record 24 of Set 2 | upernavik\n",
      "Processing Record 25 of Set 2 | los llanos de aridane\n",
      "Processing Record 26 of Set 2 | virginia beach\n",
      "Processing Record 27 of Set 2 | cabra\n",
      "Processing Record 28 of Set 2 | kruisfontein\n",
      "Processing Record 29 of Set 2 | manaia\n",
      "Processing Record 30 of Set 2 | jamestown\n",
      "Processing Record 31 of Set 2 | puerto carreno\n",
      "Processing Record 32 of Set 2 | vagamo\n",
      "Processing Record 33 of Set 2 | east london\n",
      "Processing Record 34 of Set 2 | vao\n",
      "Processing Record 35 of Set 2 | baruun-urt\n",
      "Processing Record 36 of Set 2 | vestmannaeyjar\n",
      "Processing Record 37 of Set 2 | guanica\n",
      "Processing Record 38 of Set 2 | saskylakh\n",
      "Processing Record 39 of Set 2 | simao\n",
      "Processing Record 40 of Set 2 | lago da pedra\n",
      "Processing Record 41 of Set 2 | rocha\n",
      "Processing Record 42 of Set 2 | nikolskoye\n",
      "Processing Record 43 of Set 2 | puerto ayora\n",
      "Processing Record 44 of Set 2 | veraval\n",
      "Processing Record 45 of Set 2 | lima\n",
      "Processing Record 46 of Set 2 | brae\n",
      "Processing Record 47 of Set 2 | merke\n",
      "Processing Record 48 of Set 2 | marcona\n",
      "City not found. Skipping...\n",
      "Processing Record 49 of Set 2 | bouna\n",
      "Processing Record 50 of Set 2 | samusu\n",
      "City not found. Skipping...\n",
      "Processing Record 51 of Set 2 | barrow\n",
      "Processing Record 1 of Set 3 | bolungarvik\n",
      "City not found. Skipping...\n",
      "Processing Record 2 of Set 3 | grand river south east\n",
      "City not found. Skipping...\n",
      "Processing Record 3 of Set 3 | rustam\n",
      "Processing Record 4 of Set 3 | bonthe\n",
      "Processing Record 5 of Set 3 | orange\n",
      "Processing Record 6 of Set 3 | roma\n",
      "Processing Record 7 of Set 3 | new norfolk\n",
      "Processing Record 8 of Set 3 | la ronge\n",
      "Processing Record 9 of Set 3 | sinnamary\n",
      "Processing Record 10 of Set 3 | ribeira grande\n",
      "Processing Record 11 of Set 3 | naugarzan\n",
      "City not found. Skipping...\n",
      "Processing Record 12 of Set 3 | luderitz\n",
      "Processing Record 13 of Set 3 | san policarpo\n",
      "Processing Record 14 of Set 3 | fernley\n",
      "Processing Record 15 of Set 3 | esperance\n",
      "Processing Record 16 of Set 3 | cockburn harbour\n",
      "City not found. Skipping...\n",
      "Processing Record 17 of Set 3 | sao joao da barra\n",
      "Processing Record 18 of Set 3 | waingapu\n",
      "Processing Record 19 of Set 3 | avera\n",
      "Processing Record 20 of Set 3 | bredasdorp\n",
      "Processing Record 21 of Set 3 | turukhansk\n",
      "Processing Record 22 of Set 3 | kangaatsiaq\n",
      "Processing Record 23 of Set 3 | jalu\n",
      "Processing Record 24 of Set 3 | morgantown\n",
      "Processing Record 25 of Set 3 | sorvag\n",
      "City not found. Skipping...\n",
      "Processing Record 26 of Set 3 | cherskiy\n",
      "Processing Record 27 of Set 3 | lambarene\n",
      "Processing Record 28 of Set 3 | mahebourg\n",
      "Processing Record 29 of Set 3 | gayeri\n",
      "Processing Record 30 of Set 3 | port lincoln\n",
      "Processing Record 31 of Set 3 | ixtapa\n",
      "Processing Record 32 of Set 3 | council bluffs\n",
      "Processing Record 33 of Set 3 | port elizabeth\n",
      "Processing Record 34 of Set 3 | port blair\n",
      "Processing Record 35 of Set 3 | bambous virieux\n",
      "Processing Record 36 of Set 3 | kieta\n",
      "Processing Record 37 of Set 3 | san cristobal\n",
      "Processing Record 38 of Set 3 | chuy\n",
      "Processing Record 39 of Set 3 | foz do iguacu\n",
      "Processing Record 40 of Set 3 | atuona\n",
      "Processing Record 41 of Set 3 | pisco\n",
      "Processing Record 42 of Set 3 | altonia\n",
      "City not found. Skipping...\n",
      "Processing Record 43 of Set 3 | picota\n",
      "Processing Record 44 of Set 3 | clyde river\n",
      "Processing Record 45 of Set 3 | saint-philippe\n",
      "Processing Record 46 of Set 3 | kuusamo\n",
      "Processing Record 47 of Set 3 | tuktoyaktuk\n",
      "Processing Record 48 of Set 3 | tautira\n",
      "Processing Record 49 of Set 3 | bondoukou\n",
      "Processing Record 50 of Set 3 | souillac\n",
      "Processing Record 51 of Set 3 | grand gaube\n",
      "Processing Record 1 of Set 4 | pecos\n",
      "Processing Record 2 of Set 4 | hede\n",
      "Processing Record 3 of Set 4 | northam\n",
      "Processing Record 4 of Set 4 | karratha\n",
      "Processing Record 5 of Set 4 | kirakira\n",
      "Processing Record 6 of Set 4 | pilikwe\n",
      "Processing Record 7 of Set 4 | tessalit\n",
      "Processing Record 8 of Set 4 | honningsvag\n",
      "Processing Record 9 of Set 4 | thompson\n",
      "Processing Record 10 of Set 4 | seymchan\n",
      "Processing Record 11 of Set 4 | satitoa\n",
      "City not found. Skipping...\n",
      "Processing Record 12 of Set 4 | bousso\n",
      "Processing Record 13 of Set 4 | luanda\n",
      "Processing Record 14 of Set 4 | tasiilaq\n",
      "Processing Record 15 of Set 4 | ginda\n",
      "Processing Record 16 of Set 4 | kallupatti\n",
      "Processing Record 17 of Set 4 | palu\n",
      "Processing Record 18 of Set 4 | srednekolymsk\n",
      "Processing Record 19 of Set 4 | doha\n",
      "Processing Record 20 of Set 4 | klaksvik\n",
      "Processing Record 21 of Set 4 | sao filipe\n",
      "Processing Record 22 of Set 4 | carauari\n",
      "Processing Record 23 of Set 4 | vanderhoof\n",
      "Processing Record 24 of Set 4 | metkovic\n",
      "Processing Record 25 of Set 4 | dailly\n",
      "Processing Record 26 of Set 4 | lasa\n",
      "Processing Record 27 of Set 4 | salalah\n",
      "Processing Record 28 of Set 4 | mpulungu\n",
      "Processing Record 29 of Set 4 | kaura namoda\n",
      "Processing Record 30 of Set 4 | ati\n",
      "Processing Record 31 of Set 4 | viedma\n"
     ]
    },
    {
     "name": "stdout",
     "output_type": "stream",
     "text": [
      "Processing Record 32 of Set 4 | komsomolskiy\n",
      "Processing Record 33 of Set 4 | phichit\n",
      "Processing Record 34 of Set 4 | kapuskasing\n",
      "Processing Record 35 of Set 4 | georgetown\n",
      "Processing Record 36 of Set 4 | mount isa\n",
      "Processing Record 37 of Set 4 | kingisepp\n",
      "Processing Record 38 of Set 4 | buala\n",
      "Processing Record 39 of Set 4 | kusti\n",
      "Processing Record 40 of Set 4 | kawalu\n",
      "Processing Record 41 of Set 4 | chumphon\n",
      "Processing Record 42 of Set 4 | peterhead\n",
      "Processing Record 43 of Set 4 | bingerville\n",
      "Processing Record 44 of Set 4 | guigue\n",
      "Processing Record 45 of Set 4 | maceio\n",
      "Processing Record 46 of Set 4 | port moresby\n",
      "Processing Record 47 of Set 4 | bethel\n",
      "Processing Record 48 of Set 4 | dikson\n",
      "Processing Record 49 of Set 4 | mokhsogollokh\n",
      "Processing Record 50 of Set 4 | tecpan\n",
      "Processing Record 51 of Set 4 | lagoa\n",
      "Processing Record 1 of Set 5 | bloemhof\n",
      "Processing Record 2 of Set 5 | ahipara\n",
      "Processing Record 3 of Set 5 | guerrero negro\n",
      "Processing Record 4 of Set 5 | lahaina\n",
      "Processing Record 5 of Set 5 | khatanga\n",
      "Processing Record 6 of Set 5 | ewa beach\n",
      "Processing Record 7 of Set 5 | caravelas\n",
      "Processing Record 8 of Set 5 | mount gambier\n",
      "Processing Record 9 of Set 5 | chase\n",
      "Processing Record 10 of Set 5 | yizheng\n",
      "Processing Record 11 of Set 5 | canitas\n",
      "City not found. Skipping...\n",
      "Processing Record 12 of Set 5 | faanui\n",
      "Processing Record 13 of Set 5 | kavaratti\n",
      "Processing Record 14 of Set 5 | san jose\n",
      "Processing Record 15 of Set 5 | cabo san lucas\n",
      "Processing Record 16 of Set 5 | victoria\n",
      "Processing Record 17 of Set 5 | jamnah\n",
      "City not found. Skipping...\n",
      "Processing Record 18 of Set 5 | ilinsko-podomskoye\n",
      "City not found. Skipping...\n",
      "Processing Record 19 of Set 5 | hofn\n",
      "Processing Record 20 of Set 5 | cidreira\n",
      "Processing Record 21 of Set 5 | lillooet\n",
      "Processing Record 22 of Set 5 | cangucu\n",
      "Processing Record 23 of Set 5 | adrar\n",
      "Processing Record 24 of Set 5 | castro\n",
      "Processing Record 25 of Set 5 | yellowknife\n",
      "Processing Record 26 of Set 5 | porto de moz\n",
      "Processing Record 27 of Set 5 | cam ranh\n",
      "Processing Record 28 of Set 5 | airai\n",
      "Processing Record 29 of Set 5 | fare\n",
      "Processing Record 30 of Set 5 | karauzyak\n",
      "City not found. Skipping...\n",
      "Processing Record 31 of Set 5 | baracoa\n",
      "Processing Record 32 of Set 5 | semnan\n",
      "Processing Record 33 of Set 5 | makakilo city\n",
      "Processing Record 34 of Set 5 | leningradskiy\n",
      "Processing Record 35 of Set 5 | alta floresta\n",
      "Processing Record 36 of Set 5 | ninghai\n",
      "Processing Record 37 of Set 5 | aloleng\n",
      "Processing Record 38 of Set 5 | petrolandia\n",
      "City not found. Skipping...\n",
      "Processing Record 39 of Set 5 | amderma\n",
      "City not found. Skipping...\n",
      "Processing Record 40 of Set 5 | fort nelson\n",
      "Processing Record 41 of Set 5 | marsh harbour\n",
      "Processing Record 42 of Set 5 | chikwawa\n",
      "Processing Record 43 of Set 5 | cajati\n",
      "Processing Record 44 of Set 5 | muroto\n",
      "Processing Record 45 of Set 5 | mackay\n",
      "Processing Record 46 of Set 5 | ancud\n",
      "Processing Record 47 of Set 5 | rantepao\n",
      "Processing Record 48 of Set 5 | chala\n",
      "Processing Record 49 of Set 5 | hualmay\n",
      "Processing Record 50 of Set 5 | alice springs\n",
      "Processing Record 51 of Set 5 | teahupoo\n",
      "Processing Record 1 of Set 6 | manjhanpur\n",
      "Processing Record 2 of Set 6 | altay\n",
      "Processing Record 3 of Set 6 | tocopilla\n",
      "Processing Record 4 of Set 6 | bijawar\n",
      "Processing Record 5 of Set 6 | tiksi\n",
      "Processing Record 6 of Set 6 | matamoros\n",
      "Processing Record 7 of Set 6 | lerwick\n",
      "Processing Record 8 of Set 6 | san patricio\n",
      "Processing Record 9 of Set 6 | bazarnyye mataki\n",
      "Processing Record 10 of Set 6 | mola di bari\n",
      "Processing Record 11 of Set 6 | narsaq\n",
      "Processing Record 12 of Set 6 | delmas\n",
      "Processing Record 13 of Set 6 | arraial do cabo\n",
      "Processing Record 14 of Set 6 | ilulissat\n",
      "Processing Record 15 of Set 6 | inhambane\n",
      "Processing Record 16 of Set 6 | quatre cocos\n",
      "Processing Record 17 of Set 6 | barao de melgaco\n",
      "Processing Record 18 of Set 6 | salinas\n",
      "Processing Record 19 of Set 6 | vitim\n",
      "Processing Record 20 of Set 6 | chokurdakh\n",
      "Processing Record 21 of Set 6 | luau\n",
      "Processing Record 22 of Set 6 | jiddah\n",
      "City not found. Skipping...\n",
      "Processing Record 23 of Set 6 | phuket\n",
      "Processing Record 24 of Set 6 | barranca\n",
      "Processing Record 25 of Set 6 | pangnirtung\n",
      "Processing Record 26 of Set 6 | englewood\n",
      "Processing Record 27 of Set 6 | tholos\n",
      "Processing Record 28 of Set 6 | raahe\n",
      "Processing Record 29 of Set 6 | oistins\n",
      "Processing Record 30 of Set 6 | newcastle\n",
      "Processing Record 31 of Set 6 | port hedland\n",
      "Processing Record 32 of Set 6 | comodoro rivadavia\n",
      "Processing Record 33 of Set 6 | berlevag\n",
      "Processing Record 34 of Set 6 | bubaque\n",
      "Processing Record 35 of Set 6 | fairbanks\n",
      "Processing Record 36 of Set 6 | saldanha\n",
      "Processing Record 37 of Set 6 | kuche\n",
      "City not found. Skipping...\n",
      "Processing Record 38 of Set 6 | aswan\n",
      "Processing Record 39 of Set 6 | belfast\n",
      "Processing Record 40 of Set 6 | grindavik\n",
      "Processing Record 41 of Set 6 | palauig\n",
      "Processing Record 42 of Set 6 | torbay\n",
      "Processing Record 43 of Set 6 | racine\n",
      "Processing Record 44 of Set 6 | kaitangata\n",
      "Processing Record 45 of Set 6 | biskamzha\n",
      "Processing Record 46 of Set 6 | dutse\n",
      "Processing Record 47 of Set 6 | gurgan\n",
      "City not found. Skipping...\n",
      "Processing Record 48 of Set 6 | talakan\n",
      "Processing Record 49 of Set 6 | kangavar\n",
      "Processing Record 50 of Set 6 | ormara\n",
      "Processing Record 51 of Set 6 | iqaluit\n",
      "Processing Record 1 of Set 7 | kosh-agach\n",
      "Processing Record 2 of Set 7 | yantal\n",
      "Processing Record 3 of Set 7 | dingle\n",
      "Processing Record 4 of Set 7 | lompoc\n",
      "Processing Record 5 of Set 7 | staryy nadym\n",
      "Processing Record 6 of Set 7 | bathurst\n",
      "Processing Record 7 of Set 7 | buchanan\n",
      "Processing Record 8 of Set 7 | longyearbyen\n",
      "Processing Record 9 of Set 7 | kysyl-syr\n",
      "Processing Record 10 of Set 7 | tumannyy\n",
      "City not found. Skipping...\n",
      "Processing Record 11 of Set 7 | yar-sale\n",
      "Processing Record 12 of Set 7 | sedelnikovo\n",
      "City not found. Skipping...\n",
      "Processing Record 13 of Set 7 | porto walter\n",
      "Processing Record 14 of Set 7 | richards bay\n",
      "Processing Record 15 of Set 7 | moindou\n",
      "Processing Record 16 of Set 7 | uige\n",
      "Processing Record 17 of Set 7 | porto novo\n",
      "Processing Record 18 of Set 7 | celestun\n",
      "Processing Record 19 of Set 7 | el paso\n",
      "Processing Record 20 of Set 7 | mala\n",
      "Processing Record 21 of Set 7 | kaihua\n",
      "Processing Record 22 of Set 7 | praia\n",
      "Processing Record 23 of Set 7 | galiwinku\n",
      "City not found. Skipping...\n",
      "Processing Record 24 of Set 7 | atherton\n",
      "Processing Record 25 of Set 7 | tsihombe\n",
      "City not found. Skipping...\n",
      "Processing Record 26 of Set 7 | westport\n",
      "Processing Record 27 of Set 7 | puerto escondido\n",
      "Processing Record 28 of Set 7 | yurimaguas\n",
      "Processing Record 29 of Set 7 | lolua\n",
      "City not found. Skipping...\n",
      "Processing Record 30 of Set 7 | invermere\n",
      "Processing Record 31 of Set 7 | taoudenni\n",
      "Processing Record 32 of Set 7 | bajo baudo\n",
      "City not found. Skipping...\n",
      "Processing Record 33 of Set 7 | batagay-alyta\n",
      "Processing Record 34 of Set 7 | fairview\n",
      "Processing Record 35 of Set 7 | cabinda\n",
      "Processing Record 36 of Set 7 | vila\n",
      "Processing Record 37 of Set 7 | kazalinsk\n",
      "City not found. Skipping...\n",
      "Processing Record 38 of Set 7 | umkomaas\n",
      "Processing Record 39 of Set 7 | kortkeros\n",
      "Processing Record 40 of Set 7 | lingao\n",
      "Processing Record 41 of Set 7 | waipawa\n",
      "Processing Record 42 of Set 7 | jiaohe\n",
      "Processing Record 43 of Set 7 | shellbrook\n",
      "Processing Record 44 of Set 7 | tabas\n",
      "Processing Record 45 of Set 7 | mbanza-ngungu\n",
      "Processing Record 46 of Set 7 | dali\n",
      "Processing Record 47 of Set 7 | kalabo\n",
      "Processing Record 48 of Set 7 | bogorodskoye\n",
      "Processing Record 49 of Set 7 | jauharabad\n",
      "Processing Record 50 of Set 7 | kusk\n",
      "City not found. Skipping...\n",
      "Processing Record 51 of Set 7 | auki\n",
      "Processing Record 1 of Set 8 | roebourne\n",
      "Processing Record 2 of Set 8 | kahului\n",
      "Processing Record 3 of Set 8 | poum\n",
      "Processing Record 4 of Set 8 | noumea\n",
      "Processing Record 5 of Set 8 | paramithia\n",
      "City not found. Skipping...\n",
      "Processing Record 6 of Set 8 | plettenberg bay\n",
      "Processing Record 7 of Set 8 | kutum\n",
      "Processing Record 8 of Set 8 | codrington\n",
      "Processing Record 9 of Set 8 | sioux lookout\n",
      "Processing Record 10 of Set 8 | hihifo\n",
      "City not found. Skipping...\n",
      "Processing Record 11 of Set 8 | sorland\n",
      "Processing Record 12 of Set 8 | severo-kurilsk\n",
      "Processing Record 13 of Set 8 | belaya gora\n",
      "Processing Record 14 of Set 8 | deputatskiy\n"
     ]
    },
    {
     "name": "stdout",
     "output_type": "stream",
     "text": [
      "Processing Record 15 of Set 8 | chikoy\n",
      "City not found. Skipping...\n",
      "Processing Record 16 of Set 8 | mananara\n",
      "Processing Record 17 of Set 8 | poya\n",
      "Processing Record 18 of Set 8 | tura\n",
      "Processing Record 19 of Set 8 | melbu\n",
      "Processing Record 20 of Set 8 | aykhal\n",
      "Processing Record 21 of Set 8 | tabursuq\n",
      "Processing Record 22 of Set 8 | nalut\n",
      "Processing Record 23 of Set 8 | bulgan\n",
      "Processing Record 24 of Set 8 | teeli\n",
      "Processing Record 25 of Set 8 | barentsburg\n",
      "City not found. Skipping...\n",
      "Processing Record 26 of Set 8 | sarangani\n",
      "Processing Record 27 of Set 8 | petauke\n",
      "Processing Record 28 of Set 8 | geraldton\n",
      "Processing Record 29 of Set 8 | baishishan\n",
      "Processing Record 30 of Set 8 | sabha\n",
      "Processing Record 31 of Set 8 | labuhan\n",
      "Processing Record 32 of Set 8 | lufilufi\n",
      "Processing Record 33 of Set 8 | talnakh\n",
      "Processing Record 34 of Set 8 | eresos\n",
      "Processing Record 35 of Set 8 | rapid valley\n",
      "Processing Record 36 of Set 8 | osakarovka\n",
      "Processing Record 37 of Set 8 | biu\n",
      "Processing Record 38 of Set 8 | kokopo\n",
      "Processing Record 39 of Set 8 | bara\n",
      "Processing Record 40 of Set 8 | itoman\n",
      "Processing Record 41 of Set 8 | balkhash\n",
      "Processing Record 42 of Set 8 | awbari\n",
      "Processing Record 43 of Set 8 | wanaka\n",
      "Processing Record 44 of Set 8 | lodwar\n",
      "Processing Record 45 of Set 8 | mersing\n",
      "Processing Record 46 of Set 8 | parrita\n",
      "Processing Record 47 of Set 8 | uwayl\n",
      "City not found. Skipping...\n",
      "Processing Record 48 of Set 8 | kulhudhuffushi\n",
      "Processing Record 49 of Set 8 | maniitsoq\n",
      "Processing Record 50 of Set 8 | anadyr\n",
      "Processing Record 51 of Set 8 | aljezur\n",
      "Processing Record 1 of Set 9 | odweyne\n",
      "Processing Record 2 of Set 9 | eirunepe\n",
      "Processing Record 3 of Set 9 | padang\n",
      "Processing Record 4 of Set 9 | diego de almagro\n",
      "Processing Record 5 of Set 9 | gillette\n",
      "Processing Record 6 of Set 9 | bambanglipuro\n",
      "Processing Record 7 of Set 9 | sosua\n",
      "Processing Record 8 of Set 9 | qianan\n",
      "Processing Record 9 of Set 9 | aurillac\n",
      "Processing Record 10 of Set 9 | kamarion\n",
      "Processing Record 11 of Set 9 | nuuk\n",
      "Processing Record 12 of Set 9 | narasannapeta\n",
      "Processing Record 13 of Set 9 | inuvik\n",
      "Processing Record 14 of Set 9 | sfantu gheorghe\n",
      "Processing Record 15 of Set 9 | opobo\n",
      "City not found. Skipping...\n",
      "Processing Record 16 of Set 9 | angoche\n",
      "Processing Record 17 of Set 9 | tazovskiy\n",
      "Processing Record 18 of Set 9 | umzimvubu\n",
      "City not found. Skipping...\n",
      "Processing Record 19 of Set 9 | bhinga\n",
      "Processing Record 20 of Set 9 | bandarbeyla\n",
      "Processing Record 21 of Set 9 | bargal\n",
      "City not found. Skipping...\n",
      "Processing Record 22 of Set 9 | bolshoye sorokino\n",
      "City not found. Skipping...\n",
      "Processing Record 23 of Set 9 | juliaca\n",
      "Processing Record 24 of Set 9 | shieli\n",
      "Processing Record 25 of Set 9 | asau\n",
      "Processing Record 26 of Set 9 | williams lake\n",
      "Processing Record 27 of Set 9 | tiznit\n",
      "Processing Record 28 of Set 9 | lanivtsi\n",
      "Processing Record 29 of Set 9 | kavieng\n",
      "Processing Record 30 of Set 9 | baoding\n",
      "Processing Record 31 of Set 9 | pinotepa nacional\n",
      "Processing Record 32 of Set 9 | popondetta\n",
      "Processing Record 33 of Set 9 | knysna\n",
      "Processing Record 34 of Set 9 | broken hill\n",
      "Processing Record 35 of Set 9 | belokurikha\n",
      "Processing Record 36 of Set 9 | bosaso\n",
      "Processing Record 37 of Set 9 | nanortalik\n",
      "Processing Record 38 of Set 9 | sovetskiy\n",
      "Processing Record 39 of Set 9 | bayan\n",
      "Processing Record 40 of Set 9 | mashhad\n",
      "Processing Record 41 of Set 9 | lukovetskiy\n",
      "Processing Record 42 of Set 9 | dibaya\n",
      "City not found. Skipping...\n",
      "Processing Record 43 of Set 9 | eyl\n",
      "Processing Record 44 of Set 9 | shymkent\n",
      "Processing Record 45 of Set 9 | ust-nera\n",
      "Processing Record 46 of Set 9 | raudeberg\n",
      "Processing Record 47 of Set 9 | maine-soroa\n",
      "Processing Record 48 of Set 9 | jomalig\n",
      "City not found. Skipping...\n",
      "Processing Record 49 of Set 9 | coquimbo\n",
      "Processing Record 50 of Set 9 | abalak\n",
      "Processing Record 51 of Set 9 | namibe\n",
      "Processing Record 1 of Set 10 | lavrentiya\n",
      "Processing Record 2 of Set 10 | mackenzie\n",
      "Processing Record 3 of Set 10 | acajutla\n",
      "Processing Record 4 of Set 10 | shingu\n",
      "Processing Record 5 of Set 10 | trincomalee\n",
      "Processing Record 6 of Set 10 | jiwani\n",
      "Processing Record 7 of Set 10 | gizo\n",
      "Processing Record 8 of Set 10 | chara\n",
      "Processing Record 9 of Set 10 | coihaique\n",
      "Processing Record 10 of Set 10 | fangshan\n",
      "Processing Record 11 of Set 10 | ust-barguzin\n",
      "Processing Record 12 of Set 10 | slave lake\n",
      "Processing Record 13 of Set 10 | buraydah\n",
      "Processing Record 14 of Set 10 | bolshaya rechka\n",
      "Processing Record 15 of Set 10 | dukat\n",
      "Processing Record 16 of Set 10 | curumani\n",
      "Processing Record 17 of Set 10 | piryion\n",
      "City not found. Skipping...\n",
      "Processing Record 18 of Set 10 | constitucion\n",
      "Processing Record 19 of Set 10 | ponta delgada\n",
      "Processing Record 20 of Set 10 | khorramshahr\n",
      "Processing Record 21 of Set 10 | oktyabrskiy\n",
      "Processing Record 22 of Set 10 | vila franca do campo\n",
      "Processing Record 23 of Set 10 | beira\n",
      "Processing Record 24 of Set 10 | sechura\n",
      "Processing Record 25 of Set 10 | togul\n",
      "Processing Record 26 of Set 10 | mareeba\n",
      "Processing Record 27 of Set 10 | ayan\n",
      "Processing Record 28 of Set 10 | khirkiya\n",
      "Processing Record 29 of Set 10 | grootfontein\n",
      "Processing Record 30 of Set 10 | cayenne\n",
      "Processing Record 31 of Set 10 | ulaanbaatar\n",
      "Processing Record 32 of Set 10 | solnechnyy\n",
      "Processing Record 33 of Set 10 | saint george\n",
      "Processing Record 34 of Set 10 | jabiru\n",
      "City not found. Skipping...\n",
      "Processing Record 35 of Set 10 | toora-khem\n",
      "Processing Record 36 of Set 10 | sola\n",
      "Processing Record 37 of Set 10 | hit\n",
      "Processing Record 38 of Set 10 | kapit\n",
      "Processing Record 39 of Set 10 | chiredzi\n",
      "Processing Record 40 of Set 10 | poplar bluff\n",
      "Processing Record 41 of Set 10 | broomfield\n",
      "Processing Record 42 of Set 10 | katsuura\n",
      "Processing Record 43 of Set 10 | vanimo\n",
      "Processing Record 44 of Set 10 | poronaysk\n",
      "Processing Record 45 of Set 10 | katobu\n",
      "Processing Record 46 of Set 10 | gaffney\n",
      "Processing Record 47 of Set 10 | severo-yeniseyskiy\n",
      "Processing Record 48 of Set 10 | tinongan\n",
      "Processing Record 49 of Set 10 | boa vista\n",
      "Processing Record 50 of Set 10 | domoni\n",
      "Processing Record 51 of Set 10 | antofagasta\n",
      "Processing Record 1 of Set 11 | nova borova\n",
      "Processing Record 2 of Set 11 | saint-pierre\n",
      "Processing Record 3 of Set 11 | sungaipenuh\n",
      "Processing Record 4 of Set 11 | monrovia\n",
      "Processing Record 5 of Set 11 | halalo\n",
      "City not found. Skipping...\n",
      "Processing Record 6 of Set 11 | castlemaine\n",
      "Processing Record 7 of Set 11 | evans\n",
      "Processing Record 8 of Set 11 | kupang\n",
      "Processing Record 9 of Set 11 | lazaro cardenas\n",
      "Processing Record 10 of Set 11 | paulo afonso\n",
      "Processing Record 11 of Set 11 | columbus\n",
      "Processing Record 12 of Set 11 | longyan\n",
      "Processing Record 13 of Set 11 | zabid\n",
      "Processing Record 14 of Set 11 | canico\n",
      "Processing Record 15 of Set 11 | meulaboh\n",
      "Processing Record 16 of Set 11 | miles city\n",
      "Processing Record 17 of Set 11 | san juan\n",
      "Processing Record 18 of Set 11 | singuilucan\n",
      "Processing Record 19 of Set 11 | vestmanna\n",
      "Processing Record 20 of Set 11 | navolato\n",
      "Processing Record 21 of Set 11 | mubi\n",
      "Processing Record 22 of Set 11 | batsfjord\n",
      "Processing Record 23 of Set 11 | harper\n",
      "Processing Record 24 of Set 11 | preston\n",
      "Processing Record 25 of Set 11 | ngukurr\n",
      "City not found. Skipping...\n",
      "Processing Record 26 of Set 11 | clarence town\n",
      "Processing Record 27 of Set 11 | waitara\n",
      "Processing Record 28 of Set 11 | tucuman\n",
      "Processing Record 29 of Set 11 | marquette\n",
      "Processing Record 30 of Set 11 | kasulu\n",
      "Processing Record 31 of Set 11 | havoysund\n",
      "Processing Record 32 of Set 11 | nadym\n",
      "Processing Record 33 of Set 11 | ola\n",
      "Processing Record 34 of Set 11 | nanlong\n",
      "Processing Record 35 of Set 11 | kalbay\n",
      "Processing Record 36 of Set 11 | mbandaka\n",
      "Processing Record 37 of Set 11 | teya\n",
      "Processing Record 38 of Set 11 | hengshui\n",
      "Processing Record 39 of Set 11 | vrangel\n",
      "Processing Record 40 of Set 11 | port macquarie\n",
      "Processing Record 41 of Set 11 | guaratinga\n",
      "Processing Record 42 of Set 11 | caraballeda\n",
      "Processing Record 43 of Set 11 | brufut\n",
      "Processing Record 44 of Set 11 | salzwedel\n",
      "Processing Record 45 of Set 11 | tabou\n",
      "Processing Record 46 of Set 11 | havre-saint-pierre\n",
      "Processing Record 47 of Set 11 | manggar\n",
      "Processing Record 48 of Set 11 | tarata\n",
      "Processing Record 49 of Set 11 | ouesso\n",
      "Processing Record 50 of Set 11 | tynda\n"
     ]
    },
    {
     "name": "stdout",
     "output_type": "stream",
     "text": [
      "Processing Record 51 of Set 11 | dandong\n",
      "Processing Record 1 of Set 12 | namatanai\n",
      "Processing Record 2 of Set 12 | mochalishche\n",
      "Processing Record 3 of Set 12 | flinders\n",
      "Processing Record 4 of Set 12 | nazas\n",
      "Processing Record 5 of Set 12 | atikokan\n",
      "Processing Record 6 of Set 12 | nyurba\n",
      "Processing Record 7 of Set 12 | gorom-gorom\n",
      "Processing Record 8 of Set 12 | tuatapere\n",
      "Processing Record 9 of Set 12 | nome\n",
      "Processing Record 10 of Set 12 | chernigovka\n",
      "Processing Record 11 of Set 12 | do gonbadan\n",
      "Processing Record 12 of Set 12 | rawson\n",
      "Processing Record 13 of Set 12 | mushie\n",
      "Processing Record 14 of Set 12 | itaituba\n",
      "Processing Record 15 of Set 12 | vallenar\n",
      "Processing Record 16 of Set 12 | amurzet\n",
      "Processing Record 17 of Set 12 | zambezi\n",
      "Processing Record 18 of Set 12 | tado\n",
      "Processing Record 19 of Set 12 | penzance\n",
      "Processing Record 20 of Set 12 | el alto\n",
      "Processing Record 21 of Set 12 | rio gallegos\n",
      "Processing Record 22 of Set 12 | aklavik\n",
      "Processing Record 23 of Set 12 | colares\n",
      "Processing Record 24 of Set 12 | pacific grove\n",
      "Processing Record 25 of Set 12 | guymon\n",
      "Processing Record 26 of Set 12 | darhan\n",
      "Processing Record 27 of Set 12 | maneadero\n",
      "Processing Record 28 of Set 12 | camacha\n",
      "Processing Record 29 of Set 12 | tahoua\n",
      "Processing Record 30 of Set 12 | road town\n",
      "Processing Record 31 of Set 12 | lewiston\n",
      "Processing Record 32 of Set 12 | illapel\n",
      "Processing Record 33 of Set 12 | quelimane\n",
      "Processing Record 34 of Set 12 | vaitupu\n",
      "City not found. Skipping...\n",
      "Processing Record 35 of Set 12 | rosetta\n",
      "Processing Record 36 of Set 12 | rochegda\n",
      "Processing Record 37 of Set 12 | hovd\n",
      "Processing Record 38 of Set 12 | boca do acre\n",
      "Processing Record 39 of Set 12 | mafinga\n",
      "Processing Record 40 of Set 12 | bodden town\n",
      "Processing Record 41 of Set 12 | ust-kamchatsk\n",
      "City not found. Skipping...\n",
      "Processing Record 42 of Set 12 | camacari\n",
      "Processing Record 43 of Set 12 | isnos\n",
      "Processing Record 44 of Set 12 | alofi\n",
      "Processing Record 45 of Set 12 | kathmandu\n",
      "Processing Record 46 of Set 12 | shakhtinsk\n",
      "Processing Record 47 of Set 12 | sur\n",
      "Processing Record 48 of Set 12 | usinsk\n",
      "------------------------------\n",
      "Data Retrieval Complete\n",
      "------------------------------\n"
     ]
    }
   ],
   "source": [
    "base_url = \"http://api.openweathermap.org/data/2.5/weather?\"\n",
    "#create empty lists to fill\n",
    "City2 = []\n",
    "Lat=[]\n",
    "Lng=[]\n",
    "Max_Temp = []\n",
    "Humidity = []\n",
    "Cloudiness = []\n",
    "Wind_Speed = []\n",
    "Country = []\n",
    "Date = []\n",
    "count = 0\n",
    "Set = 1\n",
    "#Loop through each city\n",
    "for city in cities:    \n",
    "    try:\n",
    "        #Query API\n",
    "        query_url = base_url + \"appid=\" + weather_api_key + \"&q=\" + city + \"&units=imperial\"\n",
    "        weather_response = requests.get(query_url).json()\n",
    "        #Start the count and if it's greater than 50, then start a new set and sleep for 1 sec to allow time for API\n",
    "        if count > 50:\n",
    "            Set += 1\n",
    "            count = 0\n",
    "            time.sleep(1.0)\n",
    "        count += 1\n",
    "        #Print out the beginning and append to lists\n",
    "        print(f\"Processing Record {count} of Set {Set} | {city}\")\n",
    "        City2.append(weather_response['name'])\n",
    "        Lat.append(weather_response['coord']['lat'])\n",
    "        Lng.append(weather_response['coord']['lon'])\n",
    "        Max_Temp.append(weather_response['main']['temp_max'])\n",
    "        Humidity.append(weather_response['main']['humidity'])\n",
    "        Cloudiness.append(weather_response['clouds']['all'])\n",
    "        Wind_Speed.append(weather_response['wind']['speed'])\n",
    "        Country.append(weather_response[\"sys\"]['country'])\n",
    "        Date.append(weather_response['dt'])\n",
    "    #If there is an error finding the city, skip\n",
    "    except KeyError:\n",
    "        print(\"City not found. Skipping...\")\n",
    "print(\"------------------------------\")\n",
    "print(\"Data Retrieval Complete\")\n",
    "print(\"------------------------------\")"
   ]
  },
  {
   "cell_type": "markdown",
   "metadata": {},
   "source": [
    "### Convert Raw Data to DataFrame\n",
    "* Export the city data into a .csv.\n",
    "* Display the DataFrame"
   ]
  },
  {
   "cell_type": "code",
   "execution_count": 4,
   "metadata": {},
   "outputs": [
    {
     "data": {
      "text/html": [
       "<div>\n",
       "<style scoped>\n",
       "    .dataframe tbody tr th:only-of-type {\n",
       "        vertical-align: middle;\n",
       "    }\n",
       "\n",
       "    .dataframe tbody tr th {\n",
       "        vertical-align: top;\n",
       "    }\n",
       "\n",
       "    .dataframe thead th {\n",
       "        text-align: right;\n",
       "    }\n",
       "</style>\n",
       "<table border=\"1\" class=\"dataframe\">\n",
       "  <thead>\n",
       "    <tr style=\"text-align: right;\">\n",
       "      <th></th>\n",
       "      <th>City</th>\n",
       "      <th>Lat</th>\n",
       "      <th>Lng</th>\n",
       "      <th>Max Temp</th>\n",
       "      <th>Humidity</th>\n",
       "      <th>Cloudiness</th>\n",
       "      <th>Wind Speed</th>\n",
       "      <th>Country</th>\n",
       "      <th>Date</th>\n",
       "    </tr>\n",
       "  </thead>\n",
       "  <tbody>\n",
       "    <tr>\n",
       "      <th>0</th>\n",
       "      <td>Avarua</td>\n",
       "      <td>-21.21</td>\n",
       "      <td>-159.78</td>\n",
       "      <td>80.60</td>\n",
       "      <td>74</td>\n",
       "      <td>2</td>\n",
       "      <td>10.29</td>\n",
       "      <td>CK</td>\n",
       "      <td>1607579715</td>\n",
       "    </tr>\n",
       "    <tr>\n",
       "      <th>1</th>\n",
       "      <td>Cody</td>\n",
       "      <td>44.53</td>\n",
       "      <td>-109.06</td>\n",
       "      <td>39.99</td>\n",
       "      <td>44</td>\n",
       "      <td>1</td>\n",
       "      <td>11.41</td>\n",
       "      <td>US</td>\n",
       "      <td>1607579716</td>\n",
       "    </tr>\n",
       "    <tr>\n",
       "      <th>2</th>\n",
       "      <td>Saint Paul Harbor</td>\n",
       "      <td>57.79</td>\n",
       "      <td>-152.41</td>\n",
       "      <td>28.40</td>\n",
       "      <td>63</td>\n",
       "      <td>1</td>\n",
       "      <td>13.87</td>\n",
       "      <td>US</td>\n",
       "      <td>1607579716</td>\n",
       "    </tr>\n",
       "    <tr>\n",
       "      <th>3</th>\n",
       "      <td>Bengkulu</td>\n",
       "      <td>-3.80</td>\n",
       "      <td>102.27</td>\n",
       "      <td>83.71</td>\n",
       "      <td>72</td>\n",
       "      <td>43</td>\n",
       "      <td>13.02</td>\n",
       "      <td>ID</td>\n",
       "      <td>1607579644</td>\n",
       "    </tr>\n",
       "    <tr>\n",
       "      <th>4</th>\n",
       "      <td>Mataura</td>\n",
       "      <td>-46.19</td>\n",
       "      <td>168.86</td>\n",
       "      <td>55.99</td>\n",
       "      <td>86</td>\n",
       "      <td>63</td>\n",
       "      <td>11.99</td>\n",
       "      <td>NZ</td>\n",
       "      <td>1607579716</td>\n",
       "    </tr>\n",
       "  </tbody>\n",
       "</table>\n",
       "</div>"
      ],
      "text/plain": [
       "                City    Lat     Lng  Max Temp  Humidity  Cloudiness  \\\n",
       "0             Avarua -21.21 -159.78     80.60        74           2   \n",
       "1               Cody  44.53 -109.06     39.99        44           1   \n",
       "2  Saint Paul Harbor  57.79 -152.41     28.40        63           1   \n",
       "3           Bengkulu  -3.80  102.27     83.71        72          43   \n",
       "4            Mataura -46.19  168.86     55.99        86          63   \n",
       "\n",
       "   Wind Speed Country        Date  \n",
       "0       10.29      CK  1607579715  \n",
       "1       11.41      US  1607579716  \n",
       "2       13.87      US  1607579716  \n",
       "3       13.02      ID  1607579644  \n",
       "4       11.99      NZ  1607579716  "
      ]
     },
     "execution_count": 4,
     "metadata": {},
     "output_type": "execute_result"
    }
   ],
   "source": [
    "df = pd.DataFrame({\"City\":City2,\n",
    "                        \"Lat\":Lat,\n",
    "                        \"Lng\":Lng,\n",
    "                        \"Max Temp\":Max_Temp,\n",
    "                        \"Humidity\":Humidity,\n",
    "                        \"Cloudiness\":Cloudiness,\n",
    "                        \"Wind Speed\":Wind_Speed,\n",
    "                        \"Country\":Country,\n",
    "                        \"Date\":Date})\n",
    "\n",
    "df.to_csv(output_data_file)\n",
    "df.head()"
   ]
  },
  {
   "cell_type": "code",
   "execution_count": 5,
   "metadata": {},
   "outputs": [
    {
     "data": {
      "text/html": [
       "<div>\n",
       "<style scoped>\n",
       "    .dataframe tbody tr th:only-of-type {\n",
       "        vertical-align: middle;\n",
       "    }\n",
       "\n",
       "    .dataframe tbody tr th {\n",
       "        vertical-align: top;\n",
       "    }\n",
       "\n",
       "    .dataframe thead th {\n",
       "        text-align: right;\n",
       "    }\n",
       "</style>\n",
       "<table border=\"1\" class=\"dataframe\">\n",
       "  <thead>\n",
       "    <tr style=\"text-align: right;\">\n",
       "      <th></th>\n",
       "      <th>Lat</th>\n",
       "      <th>Lng</th>\n",
       "      <th>Max Temp</th>\n",
       "      <th>Humidity</th>\n",
       "      <th>Cloudiness</th>\n",
       "      <th>Wind Speed</th>\n",
       "      <th>Date</th>\n",
       "    </tr>\n",
       "  </thead>\n",
       "  <tbody>\n",
       "    <tr>\n",
       "      <th>count</th>\n",
       "      <td>553.000000</td>\n",
       "      <td>553.000000</td>\n",
       "      <td>553.000000</td>\n",
       "      <td>553.000000</td>\n",
       "      <td>553.000000</td>\n",
       "      <td>553.000000</td>\n",
       "      <td>5.530000e+02</td>\n",
       "    </tr>\n",
       "    <tr>\n",
       "      <th>mean</th>\n",
       "      <td>18.835913</td>\n",
       "      <td>18.106546</td>\n",
       "      <td>52.980796</td>\n",
       "      <td>74.278481</td>\n",
       "      <td>52.048825</td>\n",
       "      <td>7.494105</td>\n",
       "      <td>1.607580e+09</td>\n",
       "    </tr>\n",
       "    <tr>\n",
       "      <th>std</th>\n",
       "      <td>33.438803</td>\n",
       "      <td>92.874309</td>\n",
       "      <td>29.308053</td>\n",
       "      <td>19.983286</td>\n",
       "      <td>38.356066</td>\n",
       "      <td>5.432412</td>\n",
       "      <td>7.296331e+01</td>\n",
       "    </tr>\n",
       "    <tr>\n",
       "      <th>min</th>\n",
       "      <td>-54.800000</td>\n",
       "      <td>-175.200000</td>\n",
       "      <td>-40.000000</td>\n",
       "      <td>8.000000</td>\n",
       "      <td>0.000000</td>\n",
       "      <td>0.310000</td>\n",
       "      <td>1.607579e+09</td>\n",
       "    </tr>\n",
       "    <tr>\n",
       "      <th>25%</th>\n",
       "      <td>-8.930000</td>\n",
       "      <td>-67.490000</td>\n",
       "      <td>35.600000</td>\n",
       "      <td>65.000000</td>\n",
       "      <td>11.000000</td>\n",
       "      <td>3.310000</td>\n",
       "      <td>1.607580e+09</td>\n",
       "    </tr>\n",
       "    <tr>\n",
       "      <th>50%</th>\n",
       "      <td>20.870000</td>\n",
       "      <td>20.040000</td>\n",
       "      <td>62.010000</td>\n",
       "      <td>80.000000</td>\n",
       "      <td>57.000000</td>\n",
       "      <td>6.150000</td>\n",
       "      <td>1.607580e+09</td>\n",
       "    </tr>\n",
       "    <tr>\n",
       "      <th>75%</th>\n",
       "      <td>47.670000</td>\n",
       "      <td>103.530000</td>\n",
       "      <td>75.990000</td>\n",
       "      <td>89.000000</td>\n",
       "      <td>90.000000</td>\n",
       "      <td>10.290000</td>\n",
       "      <td>1.607580e+09</td>\n",
       "    </tr>\n",
       "    <tr>\n",
       "      <th>max</th>\n",
       "      <td>78.220000</td>\n",
       "      <td>179.320000</td>\n",
       "      <td>100.400000</td>\n",
       "      <td>100.000000</td>\n",
       "      <td>100.000000</td>\n",
       "      <td>26.730000</td>\n",
       "      <td>1.607580e+09</td>\n",
       "    </tr>\n",
       "  </tbody>\n",
       "</table>\n",
       "</div>"
      ],
      "text/plain": [
       "              Lat         Lng    Max Temp    Humidity  Cloudiness  Wind Speed  \\\n",
       "count  553.000000  553.000000  553.000000  553.000000  553.000000  553.000000   \n",
       "mean    18.835913   18.106546   52.980796   74.278481   52.048825    7.494105   \n",
       "std     33.438803   92.874309   29.308053   19.983286   38.356066    5.432412   \n",
       "min    -54.800000 -175.200000  -40.000000    8.000000    0.000000    0.310000   \n",
       "25%     -8.930000  -67.490000   35.600000   65.000000   11.000000    3.310000   \n",
       "50%     20.870000   20.040000   62.010000   80.000000   57.000000    6.150000   \n",
       "75%     47.670000  103.530000   75.990000   89.000000   90.000000   10.290000   \n",
       "max     78.220000  179.320000  100.400000  100.000000  100.000000   26.730000   \n",
       "\n",
       "               Date  \n",
       "count  5.530000e+02  \n",
       "mean   1.607580e+09  \n",
       "std    7.296331e+01  \n",
       "min    1.607579e+09  \n",
       "25%    1.607580e+09  \n",
       "50%    1.607580e+09  \n",
       "75%    1.607580e+09  \n",
       "max    1.607580e+09  "
      ]
     },
     "execution_count": 5,
     "metadata": {},
     "output_type": "execute_result"
    }
   ],
   "source": [
    "df.describe()"
   ]
  },
  {
   "cell_type": "markdown",
   "metadata": {},
   "source": [
    "## Inspect the data and remove the cities where the humidity > 100%.\n",
    "----\n",
    "Skip this step if there are no cities that have humidity > 100%. "
   ]
  },
  {
   "cell_type": "code",
   "execution_count": 6,
   "metadata": {},
   "outputs": [
    {
     "data": {
      "text/html": [
       "<div>\n",
       "<style scoped>\n",
       "    .dataframe tbody tr th:only-of-type {\n",
       "        vertical-align: middle;\n",
       "    }\n",
       "\n",
       "    .dataframe tbody tr th {\n",
       "        vertical-align: top;\n",
       "    }\n",
       "\n",
       "    .dataframe thead th {\n",
       "        text-align: right;\n",
       "    }\n",
       "</style>\n",
       "<table border=\"1\" class=\"dataframe\">\n",
       "  <thead>\n",
       "    <tr style=\"text-align: right;\">\n",
       "      <th></th>\n",
       "      <th>City</th>\n",
       "      <th>Lat</th>\n",
       "      <th>Lng</th>\n",
       "      <th>Max Temp</th>\n",
       "      <th>Humidity</th>\n",
       "      <th>Cloudiness</th>\n",
       "      <th>Wind Speed</th>\n",
       "      <th>Country</th>\n",
       "      <th>Date</th>\n",
       "    </tr>\n",
       "  </thead>\n",
       "  <tbody>\n",
       "  </tbody>\n",
       "</table>\n",
       "</div>"
      ],
      "text/plain": [
       "Empty DataFrame\n",
       "Columns: [City, Lat, Lng, Max Temp, Humidity, Cloudiness, Wind Speed, Country, Date]\n",
       "Index: []"
      ]
     },
     "execution_count": 6,
     "metadata": {},
     "output_type": "execute_result"
    }
   ],
   "source": [
    "#Locate all rows with humidity greater than 100\n",
    "Humidity100 = df.loc[df[\"Humidity\"]>100]\n",
    "Humidity100.head()"
   ]
  },
  {
   "cell_type": "code",
   "execution_count": 7,
   "metadata": {},
   "outputs": [
    {
     "name": "stdout",
     "output_type": "stream",
     "text": [
      "Int64Index([], dtype='int64')\n"
     ]
    }
   ],
   "source": [
    "#  Get the indices of cities that have humidity over 100%.\n",
    "Humidity100_index = df.index[df[\"Humidity\"]>100]\n",
    "print(Humidity100_index)"
   ]
  },
  {
   "cell_type": "code",
   "execution_count": 8,
   "metadata": {},
   "outputs": [
    {
     "data": {
      "text/html": [
       "<div>\n",
       "<style scoped>\n",
       "    .dataframe tbody tr th:only-of-type {\n",
       "        vertical-align: middle;\n",
       "    }\n",
       "\n",
       "    .dataframe tbody tr th {\n",
       "        vertical-align: top;\n",
       "    }\n",
       "\n",
       "    .dataframe thead th {\n",
       "        text-align: right;\n",
       "    }\n",
       "</style>\n",
       "<table border=\"1\" class=\"dataframe\">\n",
       "  <thead>\n",
       "    <tr style=\"text-align: right;\">\n",
       "      <th></th>\n",
       "      <th>City</th>\n",
       "      <th>Lat</th>\n",
       "      <th>Lng</th>\n",
       "      <th>Max Temp</th>\n",
       "      <th>Humidity</th>\n",
       "      <th>Cloudiness</th>\n",
       "      <th>Wind Speed</th>\n",
       "      <th>Country</th>\n",
       "      <th>Date</th>\n",
       "    </tr>\n",
       "  </thead>\n",
       "  <tbody>\n",
       "    <tr>\n",
       "      <th>0</th>\n",
       "      <td>Avarua</td>\n",
       "      <td>-21.21</td>\n",
       "      <td>-159.78</td>\n",
       "      <td>80.60</td>\n",
       "      <td>74</td>\n",
       "      <td>2</td>\n",
       "      <td>10.29</td>\n",
       "      <td>CK</td>\n",
       "      <td>1607579715</td>\n",
       "    </tr>\n",
       "    <tr>\n",
       "      <th>1</th>\n",
       "      <td>Cody</td>\n",
       "      <td>44.53</td>\n",
       "      <td>-109.06</td>\n",
       "      <td>39.99</td>\n",
       "      <td>44</td>\n",
       "      <td>1</td>\n",
       "      <td>11.41</td>\n",
       "      <td>US</td>\n",
       "      <td>1607579716</td>\n",
       "    </tr>\n",
       "    <tr>\n",
       "      <th>2</th>\n",
       "      <td>Saint Paul Harbor</td>\n",
       "      <td>57.79</td>\n",
       "      <td>-152.41</td>\n",
       "      <td>28.40</td>\n",
       "      <td>63</td>\n",
       "      <td>1</td>\n",
       "      <td>13.87</td>\n",
       "      <td>US</td>\n",
       "      <td>1607579716</td>\n",
       "    </tr>\n",
       "    <tr>\n",
       "      <th>3</th>\n",
       "      <td>Bengkulu</td>\n",
       "      <td>-3.80</td>\n",
       "      <td>102.27</td>\n",
       "      <td>83.71</td>\n",
       "      <td>72</td>\n",
       "      <td>43</td>\n",
       "      <td>13.02</td>\n",
       "      <td>ID</td>\n",
       "      <td>1607579644</td>\n",
       "    </tr>\n",
       "    <tr>\n",
       "      <th>4</th>\n",
       "      <td>Mataura</td>\n",
       "      <td>-46.19</td>\n",
       "      <td>168.86</td>\n",
       "      <td>55.99</td>\n",
       "      <td>86</td>\n",
       "      <td>63</td>\n",
       "      <td>11.99</td>\n",
       "      <td>NZ</td>\n",
       "      <td>1607579716</td>\n",
       "    </tr>\n",
       "  </tbody>\n",
       "</table>\n",
       "</div>"
      ],
      "text/plain": [
       "                City    Lat     Lng  Max Temp  Humidity  Cloudiness  \\\n",
       "0             Avarua -21.21 -159.78     80.60        74           2   \n",
       "1               Cody  44.53 -109.06     39.99        44           1   \n",
       "2  Saint Paul Harbor  57.79 -152.41     28.40        63           1   \n",
       "3           Bengkulu  -3.80  102.27     83.71        72          43   \n",
       "4            Mataura -46.19  168.86     55.99        86          63   \n",
       "\n",
       "   Wind Speed Country        Date  \n",
       "0       10.29      CK  1607579715  \n",
       "1       11.41      US  1607579716  \n",
       "2       13.87      US  1607579716  \n",
       "3       13.02      ID  1607579644  \n",
       "4       11.99      NZ  1607579716  "
      ]
     },
     "execution_count": 8,
     "metadata": {},
     "output_type": "execute_result"
    }
   ],
   "source": [
    "# Make a new DataFrame equal to the city data to drop all humidity outliers by index.\n",
    "# Passing \"inplace=False\" will make a copy of the city_data DataFrame, which we call \"clean_city_data\".\n",
    "clean_df = df.drop(Humidity100_index, inplace = False)\n",
    "clean_df.head()"
   ]
  },
  {
   "cell_type": "code",
   "execution_count": 9,
   "metadata": {},
   "outputs": [
    {
     "data": {
      "text/plain": [
       "'12/10/20'"
      ]
     },
     "execution_count": 9,
     "metadata": {},
     "output_type": "execute_result"
    }
   ],
   "source": [
    "date_pull = clean_df.iloc[0,8]\n",
    "date_pull = datetime.utcfromtimestamp(date_pull).strftime('%m/%d/%y')\n",
    "date_pull\n"
   ]
  },
  {
   "cell_type": "markdown",
   "metadata": {},
   "source": [
    "## Plotting the Data\n",
    "* Use proper labeling of the plots using plot titles (including date of analysis) and axes labels.\n",
    "* Save the plotted figures as .pngs."
   ]
  },
  {
   "cell_type": "markdown",
   "metadata": {},
   "source": [
    "## Latitude vs. Temperature Plot"
   ]
  },
  {
   "cell_type": "code",
   "execution_count": 10,
   "metadata": {
    "scrolled": true
   },
   "outputs": [
    {
     "data": {
      "image/png": "[encoded data removed]",
      "text/plain": [
       "<Figure size 432x288 with 1 Axes>"
      ]
     },
     "metadata": {
      "needs_background": "light"
     },
     "output_type": "display_data"
    }
   ],
   "source": [
    "x_axis = clean_df[\"Lat\"]\n",
    "y_axis = clean_df[\"Max Temp\"]\n",
    "plt.scatter(x_axis, y_axis, marker=\"o\", facecolors=\"blue\", edgecolors=\"black\")\n",
    "plt.grid()\n",
    "plt.xlabel(\"Latitude\")\n",
    "plt.ylabel(\"Max Temperature (F)\")\n",
    "plt.title(\"City Latitude vs. Max Temperature \" + date_pull)\n",
    "plt.savefig(\"Images/LatitudeVtemp.png\")\n",
    "plt.show()"
   ]
  },
  {
   "cell_type": "markdown",
   "metadata": {},
   "source": [
    "As the latitude moves away from the equator, the max temperature decreases and more drastically in the northern hemisphere. The highest max temperatures are at 0 latitude/equator. The regression is not linear but does become linear when the northern and southern hemispheres are split up. The r2 value in the northern hemisphere of 0.76 demonstrates the strong correlation between latitude and max temperature in the norther hemisphere. The southern hemisphere does not correlate as well with an r2 value of 0.31."
   ]
  },
  {
   "cell_type": "markdown",
   "metadata": {},
   "source": [
    "## Latitude vs. Humidity Plot"
   ]
  },
  {
   "cell_type": "code",
   "execution_count": 11,
   "metadata": {},
   "outputs": [
    {
     "data": {
      "image/png": "[encoded data removed]",
      "text/plain": [
       "<Figure size 432x288 with 1 Axes>"
      ]
     },
     "metadata": {
      "needs_background": "light"
     },
     "output_type": "display_data"
    }
   ],
   "source": [
    "y_axis = clean_df[\"Humidity\"]\n",
    "plt.scatter(x_axis, y_axis, marker=\"o\", facecolors=\"blue\", edgecolors=\"black\")\n",
    "plt.grid()\n",
    "plt.xlabel(\"Latitude\")\n",
    "plt.ylabel(\"Humidity\")\n",
    "plt.title(\"City Latitude vs. Humidity \" + date_pull)\n",
    "plt.savefig(\"Images/LatitudeVhumidity.png\")\n",
    "plt.show()"
   ]
  },
  {
   "cell_type": "markdown",
   "metadata": {},
   "source": [
    "The humidity does not correlate with latitude. The linear regression below with the low r2 value (0.14 and 0.03) for the northern and southern hemisphere demonstrate the low correlation."
   ]
  },
  {
   "cell_type": "markdown",
   "metadata": {},
   "source": [
    "## Latitude vs. Cloudiness Plot"
   ]
  },
  {
   "cell_type": "code",
   "execution_count": 12,
   "metadata": {},
   "outputs": [
    {
     "data": {
      "image/png": "[encoded data removed]",
      "text/plain": [
       "<Figure size 432x288 with 1 Axes>"
      ]
     },
     "metadata": {
      "needs_background": "light"
     },
     "output_type": "display_data"
    }
   ],
   "source": [
    "y_axis = clean_df[\"Cloudiness\"]\n",
    "plt.scatter(x_axis, y_axis, marker=\"o\", facecolors=\"blue\", edgecolors=\"black\")\n",
    "plt.grid()\n",
    "plt.xlabel(\"Latitude\")\n",
    "plt.ylabel(\"Cloudiness\")\n",
    "plt.title(\"City Latitude vs. Cloudiness \"+ date_pull)\n",
    "plt.savefig(\"Images/LatitudeVcloudiness.png\")\n",
    "plt.show()"
   ]
  },
  {
   "cell_type": "markdown",
   "metadata": {},
   "source": [
    "The cloudiness does not correlate with latitude. The linear regression below with the low r2 value (0.07 and 0.22) for the northern and southern hemisphere demonstrate the low correlation."
   ]
  },
  {
   "cell_type": "markdown",
   "metadata": {},
   "source": [
    "## Latitude vs. Wind Speed Plot"
   ]
  },
  {
   "cell_type": "code",
   "execution_count": 13,
   "metadata": {},
   "outputs": [
    {
     "data": {
      "image/png": "[encoded data removed]",
      "text/plain": [
       "<Figure size 432x288 with 1 Axes>"
      ]
     },
     "metadata": {
      "needs_background": "light"
     },
     "output_type": "display_data"
    }
   ],
   "source": [
    "y_axis = clean_df[\"Wind Speed\"]\n",
    "plt.scatter(x_axis, y_axis, marker=\"o\", facecolors=\"blue\", edgecolors=\"black\")\n",
    "plt.grid()\n",
    "plt.xlabel(\"Latitude\")\n",
    "plt.ylabel(\"Wind Speed\")\n",
    "plt.title(\"City Latitude vs. Wind Speed \" + date_pull)\n",
    "plt.savefig(\"Images/LatitudeVwindSpeed.png\")\n",
    "plt.show()"
   ]
  },
  {
   "cell_type": "markdown",
   "metadata": {},
   "source": [
    "The wind speed does not correlate with latitude. The linear regression below with the low r2 value (0.01 and 0.08) for the northern and southern hemisphere demonstrate the low correlation."
   ]
  },
  {
   "cell_type": "markdown",
   "metadata": {},
   "source": [
    "## Linear Regression"
   ]
  },
  {
   "cell_type": "code",
   "execution_count": 14,
   "metadata": {},
   "outputs": [],
   "source": [
    "df_north = clean_df.loc[clean_df[\"Lat\"]>=0]\n",
    "df_south = clean_df.loc[clean_df[\"Lat\"]<0]"
   ]
  },
  {
   "cell_type": "markdown",
   "metadata": {},
   "source": [
    "####  Northern Hemisphere - Max Temp vs. Latitude Linear Regression"
   ]
  },
  {
   "cell_type": "code",
   "execution_count": 15,
   "metadata": {},
   "outputs": [
    {
     "name": "stdout",
     "output_type": "stream",
     "text": [
      "The rsquare-value is: 0.76\n"
     ]
    },
    {
     "data": {
      "image/png": "[encoded data removed]",
      "text/plain": [
       "<Figure size 432x288 with 1 Axes>"
      ]
     },
     "metadata": {
      "needs_background": "light"
     },
     "output_type": "display_data"
    }
   ],
   "source": [
    "x_axis = df_north[\"Lat\"]\n",
    "y_axis = df_north[\"Max Temp\"]\n",
    "(slope, intercept, rvalue, pvalue, stderr) = linregress(x_axis, y_axis)\n",
    "print(f\"The rsquare-value is: {round(rvalue**2,2)}\")\n",
    "regress_values = [x * slope + intercept for x in x_axis]\n",
    "line_eq = \"y = \" + str(round(slope,2)) + \"x + \" + str(round(intercept,2))\n",
    "plt.scatter(x_axis, y_axis)\n",
    "plt.plot(x_axis, regress_values,\"r-\")\n",
    "plt.annotate(line_eq,(5,-20),fontsize=15,color=\"red\")\n",
    "plt.xlabel(\"Latitude\")\n",
    "plt.ylabel(\"Max Temp (F)\")\n",
    "plt.title(\"Northern Hemisphere Max Temps vs. Latitude \" + date_pull)\n",
    "plt.savefig(\"Images/LinReg Northern Hemisphere Max Temps vs. Latitude.png\")\n",
    "plt.show()"
   ]
  },
  {
   "cell_type": "markdown",
   "metadata": {},
   "source": [
    "####  Southern Hemisphere - Max Temp vs. Latitude Linear Regression"
   ]
  },
  {
   "cell_type": "code",
   "execution_count": 16,
   "metadata": {},
   "outputs": [
    {
     "name": "stdout",
     "output_type": "stream",
     "text": [
      "The rsquare-value is: 0.31\n"
     ]
    },
    {
     "data": {
      "image/png": "[encoded data removed]",
      "text/plain": [
       "<Figure size 432x288 with 1 Axes>"
      ]
     },
     "metadata": {
      "needs_background": "light"
     },
     "output_type": "display_data"
    }
   ],
   "source": [
    "x_axis = df_south[\"Lat\"]\n",
    "y_axis = df_south[\"Max Temp\"]\n",
    "(slope, intercept, rvalue, pvalue, stderr) = linregress(x_axis, y_axis)\n",
    "print(f\"The rsquare-value is: {round(rvalue**2,2)}\")\n",
    "regress_values = [x * slope + intercept for x in x_axis]\n",
    "line_eq = \"y = \" + str(round(slope,2)) + \"x + \" + str(round(intercept,2))\n",
    "plt.scatter(x_axis, y_axis)\n",
    "plt.plot(x_axis, regress_values,\"r-\")\n",
    "plt.annotate(line_eq,(-50,90),fontsize=15,color=\"red\")\n",
    "plt.xlabel(\"Latitude\")\n",
    "plt.ylabel(\"Max Temp (F)\")\n",
    "plt.title(\"Southern Hemisphere Max Temps vs. Latitude \" + date_pull)\n",
    "plt.savefig(\"Images/LinReg Southern Hemisphere Max Temps vs. Latitude.png\")\n",
    "plt.show()"
   ]
  },
  {
   "cell_type": "markdown",
   "metadata": {},
   "source": [
    "####  Northern Hemisphere - Humidity (%) vs. Latitude Linear Regression"
   ]
  },
  {
   "cell_type": "code",
   "execution_count": 17,
   "metadata": {},
   "outputs": [
    {
     "name": "stdout",
     "output_type": "stream",
     "text": [
      "The rsquare-value is: 0.14\n"
     ]
    },
    {
     "data": {
      "image/png": "[encoded data removed]",
      "text/plain": [
       "<Figure size 432x288 with 1 Axes>"
      ]
     },
     "metadata": {
      "needs_background": "light"
     },
     "output_type": "display_data"
    }
   ],
   "source": [
    "x_axis = df_north[\"Lat\"]\n",
    "y_axis = df_north[\"Humidity\"]\n",
    "(slope, intercept, rvalue, pvalue, stderr) = linregress(x_axis, y_axis)\n",
    "print(f\"The rsquare-value is: {round(rvalue**2,2)}\")\n",
    "regress_values = [x * slope + intercept for x in x_axis]\n",
    "line_eq = \"y = \" + str(round(slope,2)) + \"x + \" + str(round(intercept,2))\n",
    "plt.scatter(x_axis, y_axis)\n",
    "plt.plot(x_axis, regress_values,\"r-\")\n",
    "plt.annotate(line_eq,(50,40),fontsize=15,color=\"red\")\n",
    "plt.xlabel(\"Latitude\")\n",
    "plt.ylabel(\"Humidity (%)\")\n",
    "plt.title(\"Northern Hemisphere Humidity vs. Latitude \" + date_pull)\n",
    "plt.savefig(\"Images/LinReg Northern Hemisphere Humidity vs. Latitude.png\")\n",
    "plt.show()"
   ]
  },
  {
   "cell_type": "markdown",
   "metadata": {},
   "source": [
    "####  Southern Hemisphere - Humidity (%) vs. Latitude Linear Regression"
   ]
  },
  {
   "cell_type": "code",
   "execution_count": 18,
   "metadata": {},
   "outputs": [
    {
     "name": "stdout",
     "output_type": "stream",
     "text": [
      "The rsquare-value is: 0.03\n"
     ]
    },
    {
     "data": {
      "image/png": "[encoded data removed]",
      "text/plain": [
       "<Figure size 432x288 with 1 Axes>"
      ]
     },
     "metadata": {
      "needs_background": "light"
     },
     "output_type": "display_data"
    }
   ],
   "source": [
    "x_axis = df_south[\"Lat\"]\n",
    "y_axis = df_south[\"Humidity\"]\n",
    "(slope, intercept, rvalue, pvalue, stderr) = linregress(x_axis, y_axis)\n",
    "print(f\"The rsquare-value is: {round(rvalue**2,2)}\")\n",
    "regress_values = [x * slope + intercept for x in x_axis]\n",
    "line_eq = \"y = \" + str(round(slope,2)) + \"x + \" + str(round(intercept,2))\n",
    "plt.scatter(x_axis, y_axis)\n",
    "plt.plot(x_axis, regress_values,\"r-\")\n",
    "plt.annotate(line_eq,(-20,40),fontsize=15,color=\"red\")\n",
    "plt.xlabel(\"Latitude\")\n",
    "plt.ylabel(\"Humidity (%)\")\n",
    "plt.title(\"Southern Hemisphere Humidity vs. Latitude \" + date_pull)\n",
    "plt.savefig(\"Images/LinReg Southern Hemisphere Humidity vs. Latitude.png\")\n",
    "plt.show()"
   ]
  },
  {
   "cell_type": "markdown",
   "metadata": {},
   "source": [
    "####  Northern Hemisphere - Cloudiness (%) vs. Latitude Linear Regression"
   ]
  },
  {
   "cell_type": "code",
   "execution_count": 19,
   "metadata": {},
   "outputs": [
    {
     "name": "stdout",
     "output_type": "stream",
     "text": [
      "The rsquare-value is: 0.07\n"
     ]
    },
    {
     "data": {
      "image/png": "[encoded data removed]",
      "text/plain": [
       "<Figure size 432x288 with 1 Axes>"
      ]
     },
     "metadata": {
      "needs_background": "light"
     },
     "output_type": "display_data"
    }
   ],
   "source": [
    "x_axis = df_north[\"Lat\"]\n",
    "y_axis = df_north[\"Cloudiness\"]\n",
    "(slope, intercept, rvalue, pvalue, stderr) = linregress(x_axis, y_axis)\n",
    "print(f\"The rsquare-value is: {round(rvalue**2,2)}\")\n",
    "regress_values = [x * slope + intercept for x in x_axis]\n",
    "line_eq = \"y = \" + str(round(slope,2)) + \"x + \" + str(round(intercept,2))\n",
    "plt.scatter(x_axis, y_axis)\n",
    "plt.plot(x_axis, regress_values,\"r-\")\n",
    "plt.annotate(line_eq,(50,40),fontsize=15,color=\"red\")\n",
    "plt.xlabel(\"Latitude\")\n",
    "plt.ylabel(\"Cloudiness (%)\")\n",
    "plt.title(\"Northern Hemisphere Cloudiness vs. Latitude \" + date_pull)\n",
    "plt.savefig(\"Images/LinReg Northern Hemisphere Cloudiness vs. Latitude.png\")\n",
    "plt.show()"
   ]
  },
  {
   "cell_type": "markdown",
   "metadata": {},
   "source": [
    "####  Southern Hemisphere - Cloudiness (%) vs. Latitude Linear Regression"
   ]
  },
  {
   "cell_type": "code",
   "execution_count": 20,
   "metadata": {},
   "outputs": [
    {
     "name": "stdout",
     "output_type": "stream",
     "text": [
      "The rsquare-value is: 0.22\n"
     ]
    },
    {
     "data": {
      "image/png": "[encoded data removed]",
      "text/plain": [
       "<Figure size 432x288 with 1 Axes>"
      ]
     },
     "metadata": {
      "needs_background": "light"
     },
     "output_type": "display_data"
    }
   ],
   "source": [
    "x_axis = df_south[\"Lat\"]\n",
    "y_axis = df_south[\"Cloudiness\"]\n",
    "(slope, intercept, rvalue, pvalue, stderr) = linregress(x_axis, y_axis)\n",
    "print(f\"The rsquare-value is: {round(rvalue**2,2)}\")\n",
    "regress_values = [x * slope + intercept for x in x_axis]\n",
    "line_eq = \"y = \" + str(round(slope,2)) + \"x + \" + str(round(intercept,2))\n",
    "plt.scatter(x_axis, y_axis)\n",
    "plt.plot(x_axis, regress_values,\"r-\")\n",
    "plt.annotate(line_eq,(-30,20),fontsize=15,color=\"red\")\n",
    "plt.xlabel(\"Latitude\")\n",
    "plt.ylabel(\"Cloudiness (%)\")\n",
    "plt.title(\"Southern Hemisphere Cloudiness vs. Latitude \" + date_pull)\n",
    "plt.savefig(\"Images/LinReg Southern Hemisphere Cloudiness vs. Latitude.png\")\n",
    "plt.show()"
   ]
  },
  {
   "cell_type": "markdown",
   "metadata": {},
   "source": [
    "####  Northern Hemisphere - Wind Speed (mph) vs. Latitude Linear Regression"
   ]
  },
  {
   "cell_type": "code",
   "execution_count": 21,
   "metadata": {},
   "outputs": [
    {
     "name": "stdout",
     "output_type": "stream",
     "text": [
      "The rsquare-value is: 0.01\n"
     ]
    },
    {
     "data": {
      "image/png": "[encoded data removed]",
      "text/plain": [
       "<Figure size 432x288 with 1 Axes>"
      ]
     },
     "metadata": {
      "needs_background": "light"
     },
     "output_type": "display_data"
    }
   ],
   "source": [
    "x_axis = df_north[\"Lat\"]\n",
    "y_axis = df_north[\"Wind Speed\"]\n",
    "(slope, intercept, rvalue, pvalue, stderr) = linregress(x_axis, y_axis)\n",
    "print(f\"The rsquare-value is: {round(rvalue**2,2)}\")\n",
    "regress_values = [x * slope + intercept for x in x_axis]\n",
    "line_eq = \"y = \" + str(round(slope,2)) + \"x + \" + str(round(intercept,2))\n",
    "plt.scatter(x_axis, y_axis)\n",
    "plt.plot(x_axis, regress_values,\"r-\")\n",
    "plt.annotate(line_eq,(0,30),fontsize=15,color=\"red\")\n",
    "plt.xlabel(\"Latitude\")\n",
    "plt.ylabel(\"Wind Speed (mph)\")\n",
    "plt.title(\"Northern Hemisphere Wind Speed vs. Latitude \" + date_pull) \n",
    "plt.savefig(\"Images/LinReg Northern Hemisphere Wind Speed vs. Latitude.png\")\n",
    "plt.show()"
   ]
  },
  {
   "cell_type": "markdown",
   "metadata": {},
   "source": [
    "####  Southern Hemisphere - Wind Speed (mph) vs. Latitude Linear Regression"
   ]
  },
  {
   "cell_type": "code",
   "execution_count": 22,
   "metadata": {},
   "outputs": [
    {
     "name": "stdout",
     "output_type": "stream",
     "text": [
      "The rsquare-value is: 0.08\n"
     ]
    },
    {
     "data": {
      "image/png": "[encoded data removed]",
      "text/plain": [
       "<Figure size 432x288 with 1 Axes>"
      ]
     },
     "metadata": {
      "needs_background": "light"
     },
     "output_type": "display_data"
    }
   ],
   "source": [
    "x_axis = df_south[\"Lat\"]\n",
    "y_axis = df_south[\"Wind Speed\"]\n",
    "(slope, intercept, rvalue, pvalue, stderr) = linregress(x_axis, y_axis)\n",
    "print(f\"The rsquare-value is: {round(rvalue**2,2)}\")\n",
    "regress_values = [x * slope + intercept for x in x_axis]\n",
    "line_eq = \"y = \" + str(round(slope,2)) + \"x + \" + str(round(intercept,2))\n",
    "plt.scatter(x_axis, y_axis)\n",
    "plt.plot(x_axis, regress_values,\"r-\")\n",
    "plt.annotate(line_eq,(-55,25),fontsize=15,color=\"red\")\n",
    "plt.xlabel(\"Latitude\")\n",
    "plt.ylabel(\"Wind Speed (mph)\")\n",
    "plt.title(\"Southern Hemisphere Wind Speed vs. Latitude \" + date_pull)\n",
    "plt.savefig(\"Images/LinReg Southern Hemisphere Wind Speed vs. Latitude.png\")\n",
    "plt.show()"
   ]
  },
  {
   "cell_type": "code",
   "execution_count": null,
   "metadata": {},
   "outputs": [],
   "source": []
  }
 ],
 "metadata": {
  "anaconda-cloud": {},
  "kernel_info": {
   "name": "python3"
  },
  "kernelspec": {
   "display_name": "pythonEnvir",
   "language": "python",
   "name": "pythonenvir"
  },
  "language_info": {
   "codemirror_mode": {
    "name": "ipython",
    "version": 3
   },
   "file_extension": ".py",
   "mimetype": "text/x-python",
   "name": "python",
   "nbconvert_exporter": "python",
   "pygments_lexer": "ipython3",
   "version": "3.6.10"
  },
  "latex_envs": {
   "LaTeX_envs_menu_present": true,
   "autoclose": false,
   "autocomplete": true,
   "bibliofile": "biblio.bib",
   "cite_by": "apalike",
   "current_citInitial": 1,
   "eqLabelWithNumbers": true,
   "eqNumInitial": 1,
   "hotkeys": {
    "equation": "Ctrl-E",
    "itemize": "Ctrl-I"
   },
   "labels_anchors": false,
   "latex_user_defs": false,
   "report_style_numbering": false,
   "user_envs_cfg": false
  },
  "nteract": {
   "version": "0.12.3"
  }
 },
 "nbformat": 4,
 "nbformat_minor": 2
}
